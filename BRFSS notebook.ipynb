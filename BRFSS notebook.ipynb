{
 "cells": [
  {
   "cell_type": "code",
   "execution_count": 372,
   "metadata": {
    "collapsed": true
   },
   "outputs": [],
   "source": [
    "from IPython.display import HTML\n",
    "from IPython.display import Image"
   ]
  },
  {
   "cell_type": "markdown",
   "metadata": {},
   "source": [
    "<img src='WCMS_home_image.png' width=\"640\" height=\"540\" align=\"center\"/>"
   ]
  },
  {
   "cell_type": "markdown",
   "metadata": {},
   "source": [
    "Portfolio Project: Survey Data Analysis Using Python\n",
    "==================="
   ]
  },
  {
   "cell_type": "markdown",
   "metadata": {},
   "source": [
    "**By: Pieter Leffers**,\n",
    "\n",
    "*Starting Date: May 1, 2018*\n",
    "\n",
    "*Completion Date: ---, 2018*\n",
    "\n",
    "*Last Updated: -----, 2018*"
   ]
  },
  {
   "cell_type": "markdown",
   "metadata": {},
   "source": [
    "Project Description\n",
    "-----------------"
   ]
  },
  {
   "cell_type": "markdown",
   "metadata": {},
   "source": [
    "Data Source:\n",
    "-----------\n",
    "In 1984, the Centers for Disease Control and Prevention (CDC) initiated the state-based Behavioral Risk Factor Surveillance System (BRFSS)–a cross-sectional telephone survey that state health departments conduct monthly over landline telephones and cellular telephones with a standardized questionnaire and technical and methodologic assistance from CDC. BRFSS is used to collect prevalence data among adult U.S. residents regarding their risk behaviors and preventive health practices that can affect their health status. Respondent data are forwarded to CDC to be aggregated for each state, returned with standard tabulations, and published at year’s end by each state. In 2011, more than 500,000 interviews were conducted in the states, the District of Columbia, and participating U.S. territories and other geographic areas.\n",
    "\n",
    "The 2016 BRFSS data continues to reflect the changes initially made in 2011 in weighting methodology (raking) and the addition of cell phone only respondents. The aggregate BRFSS combined landline and cell phone dataset is built from the landline and cell phone data submitted for 2016 and includes data for 50 states, the District of Columbia, Guam, and Puerto Rico.\n",
    "\n",
    "There are 486,303 records for 2016. The November update includes recoding of responses for a variable (LASTDEN3) in California’s data and a calculated variable (_RFPAP33) set to missing in eight states which did not ask a question (HADHYST2) correctly for eight months. More information on participation is available in the states conducting surveillance, by year table. The data files are provided in ASCII and SAS Transport formats.\n",
    "\n",
    "**Source:**\n",
    "\n",
    "**Raked Weighting:**"
   ]
  },
  {
   "cell_type": "markdown",
   "metadata": {},
   "source": [
    "*Codebook:*\n",
    "https://www.cdc.gov/brfss/annual_data/2016/pdf/codebook16_llcp.pdf"
   ]
  },
  {
   "cell_type": "markdown",
   "metadata": {},
   "source": [
    "*Weighting Formula:* https://www.cdc.gov/brfss/annual_data/2016/pdf/weighting_the-data_webpage_content.pdf"
   ]
  },
  {
   "cell_type": "markdown",
   "metadata": {},
   "source": [
    "*Calculated Variables:* https://www.cdc.gov/brfss/annual_data/2016/pdf/2016_calculated_variables_version4.pdf "
   ]
  },
  {
   "cell_type": "code",
   "execution_count": 526,
   "metadata": {},
   "outputs": [
    {
     "data": {
      "text/html": [
       "<script>\n",
       "  function code_toggle() {\n",
       "    if (code_shown){\n",
       "      $('div.input').hide('500');\n",
       "      $('#toggleButton').val('Show Code')\n",
       "    } else {\n",
       "      $('div.input').show('500');\n",
       "      $('#toggleButton').val('Hide Code')\n",
       "    }\n",
       "    code_shown = !code_shown\n",
       "  }\n",
       "\n",
       "  $( document ).ready(function(){\n",
       "    code_shown=false;\n",
       "    $('div.input').hide()\n",
       "  });\n",
       "</script>\n",
       "<form action=\"javascript:code_toggle()\"><input type=\"submit\" id=\"toggleButton\" value=\"Show Code\"></form>"
      ],
      "text/plain": [
       "<IPython.core.display.HTML object>"
      ]
     },
     "execution_count": 526,
     "metadata": {},
     "output_type": "execute_result"
    }
   ],
   "source": [
    "HTML('''<script>\n",
    "  function code_toggle() {\n",
    "    if (code_shown){\n",
    "      $('div.input').hide('500');\n",
    "      $('#toggleButton').val('Show Code')\n",
    "    } else {\n",
    "      $('div.input').show('500');\n",
    "      $('#toggleButton').val('Hide Code')\n",
    "    }\n",
    "    code_shown = !code_shown\n",
    "  }\n",
    "\n",
    "  $( document ).ready(function(){\n",
    "    code_shown=false;\n",
    "    $('div.input').hide()\n",
    "  });\n",
    "</script>\n",
    "<form action=\"javascript:code_toggle()\"><input type=\"submit\" id=\"toggleButton\" value=\"Show Code\"></form>''')"
   ]
  },
  {
   "cell_type": "code",
   "execution_count": 527,
   "metadata": {
    "collapsed": true
   },
   "outputs": [],
   "source": [
    "import numpy as np\n",
    "import pandas as pd\n",
    "import matplotlib as plt\n",
    "import statsmodels.api as sm\n",
    "from pandas.core import datetools\n",
    "import pandas.tseries \n",
    "import statsmodels.stats.weightstats as smf\n"
   ]
  },
  {
   "cell_type": "code",
   "execution_count": 528,
   "metadata": {
    "collapsed": true
   },
   "outputs": [],
   "source": [
    "location='C://Users/pmlef/Documents/Python_work/Python_for_Data_Analysis/BRFSS/data/'\n",
    "BRFSS2016=pd.read_csv(location+'2016/BRFSS2016.csv',low_memory=False)"
   ]
  },
  {
   "cell_type": "code",
   "execution_count": 529,
   "metadata": {},
   "outputs": [
    {
     "name": "stdout",
     "output_type": "stream",
     "text": [
      "<class 'pandas.core.frame.DataFrame'>\n",
      "RangeIndex: 486303 entries, 0 to 486302\n",
      "Columns: 276 entries, _STATE to sleeptime\n",
      "dtypes: float64(226), int64(49), object(1)\n",
      "memory usage: 1.0+ GB\n"
     ]
    }
   ],
   "source": [
    "BRFSS2016.info()"
   ]
  },
  {
   "cell_type": "code",
   "execution_count": 530,
   "metadata": {},
   "outputs": [
    {
     "data": {
      "text/html": [
       "<div>\n",
       "<style>\n",
       "    .dataframe thead tr:only-child th {\n",
       "        text-align: right;\n",
       "    }\n",
       "\n",
       "    .dataframe thead th {\n",
       "        text-align: left;\n",
       "    }\n",
       "\n",
       "    .dataframe tbody tr th {\n",
       "        vertical-align: top;\n",
       "    }\n",
       "</style>\n",
       "<table border=\"1\" class=\"dataframe\">\n",
       "  <thead>\n",
       "    <tr style=\"text-align: right;\">\n",
       "      <th></th>\n",
       "      <th>_STATE</th>\n",
       "      <th>FMONTH</th>\n",
       "      <th>IDATE</th>\n",
       "      <th>IMONTH</th>\n",
       "      <th>IDAY</th>\n",
       "      <th>IYEAR</th>\n",
       "      <th>DISPCODE</th>\n",
       "      <th>SEQNO</th>\n",
       "      <th>_PSU</th>\n",
       "      <th>CTELENM1</th>\n",
       "      <th>...</th>\n",
       "      <th>_RFPAP33</th>\n",
       "      <th>_RFPSA21</th>\n",
       "      <th>_RFBLDS3</th>\n",
       "      <th>_COL10YR</th>\n",
       "      <th>_HFOB3YR</th>\n",
       "      <th>_FS5YR</th>\n",
       "      <th>_FOBTFS</th>\n",
       "      <th>_CRCREC</th>\n",
       "      <th>_AIDTST3</th>\n",
       "      <th>sleeptime</th>\n",
       "    </tr>\n",
       "  </thead>\n",
       "  <tbody>\n",
       "    <tr>\n",
       "      <th>count</th>\n",
       "      <td>486303.000000</td>\n",
       "      <td>486303.000000</td>\n",
       "      <td>4.863030e+05</td>\n",
       "      <td>486303.000000</td>\n",
       "      <td>486303.000000</td>\n",
       "      <td>486303.000000</td>\n",
       "      <td>486303.000000</td>\n",
       "      <td>4.863030e+05</td>\n",
       "      <td>4.863030e+05</td>\n",
       "      <td>253013.0</td>\n",
       "      <td>...</td>\n",
       "      <td>102386.000000</td>\n",
       "      <td>151855.000000</td>\n",
       "      <td>234791.000000</td>\n",
       "      <td>230141.000000</td>\n",
       "      <td>234791.000000</td>\n",
       "      <td>111013.000000</td>\n",
       "      <td>213798.000000</td>\n",
       "      <td>231156.000000</td>\n",
       "      <td>453321.000000</td>\n",
       "      <td>486303.000000</td>\n",
       "    </tr>\n",
       "    <tr>\n",
       "      <th>mean</th>\n",
       "      <td>28.973366</td>\n",
       "      <td>6.756479</td>\n",
       "      <td>6.886909e+06</td>\n",
       "      <td>6.738184</td>\n",
       "      <td>14.670964</td>\n",
       "      <td>2016.028758</td>\n",
       "      <td>1113.388978</td>\n",
       "      <td>2.016007e+09</td>\n",
       "      <td>2.016007e+09</td>\n",
       "      <td>1.0</td>\n",
       "      <td>...</td>\n",
       "      <td>1.197693</td>\n",
       "      <td>2.130684</td>\n",
       "      <td>1.904264</td>\n",
       "      <td>1.326513</td>\n",
       "      <td>1.830803</td>\n",
       "      <td>1.975039</td>\n",
       "      <td>1.996010</td>\n",
       "      <td>1.289463</td>\n",
       "      <td>1.975375</td>\n",
       "      <td>0.778465</td>\n",
       "    </tr>\n",
       "    <tr>\n",
       "      <th>std</th>\n",
       "      <td>15.959411</td>\n",
       "      <td>3.342713</td>\n",
       "      <td>3.371982e+06</td>\n",
       "      <td>3.370312</td>\n",
       "      <td>8.325667</td>\n",
       "      <td>0.167125</td>\n",
       "      <td>34.053420</td>\n",
       "      <td>6.915870e+03</td>\n",
       "      <td>6.915870e+03</td>\n",
       "      <td>0.0</td>\n",
       "      <td>...</td>\n",
       "      <td>0.398261</td>\n",
       "      <td>2.067062</td>\n",
       "      <td>0.294230</td>\n",
       "      <td>0.468938</td>\n",
       "      <td>0.374927</td>\n",
       "      <td>0.156007</td>\n",
       "      <td>0.063038</td>\n",
       "      <td>0.453514</td>\n",
       "      <td>1.493921</td>\n",
       "      <td>1.009916</td>\n",
       "    </tr>\n",
       "    <tr>\n",
       "      <th>min</th>\n",
       "      <td>1.000000</td>\n",
       "      <td>1.000000</td>\n",
       "      <td>1.012017e+06</td>\n",
       "      <td>1.000000</td>\n",
       "      <td>1.000000</td>\n",
       "      <td>2016.000000</td>\n",
       "      <td>1100.000000</td>\n",
       "      <td>2.016000e+09</td>\n",
       "      <td>2.016000e+09</td>\n",
       "      <td>1.0</td>\n",
       "      <td>...</td>\n",
       "      <td>1.000000</td>\n",
       "      <td>1.000000</td>\n",
       "      <td>1.000000</td>\n",
       "      <td>1.000000</td>\n",
       "      <td>1.000000</td>\n",
       "      <td>1.000000</td>\n",
       "      <td>1.000000</td>\n",
       "      <td>1.000000</td>\n",
       "      <td>1.000000</td>\n",
       "      <td>0.000000</td>\n",
       "    </tr>\n",
       "    <tr>\n",
       "      <th>25%</th>\n",
       "      <td>15.000000</td>\n",
       "      <td>4.000000</td>\n",
       "      <td>4.112016e+06</td>\n",
       "      <td>4.000000</td>\n",
       "      <td>8.000000</td>\n",
       "      <td>2016.000000</td>\n",
       "      <td>1100.000000</td>\n",
       "      <td>2.016002e+09</td>\n",
       "      <td>2.016002e+09</td>\n",
       "      <td>1.0</td>\n",
       "      <td>...</td>\n",
       "      <td>1.000000</td>\n",
       "      <td>1.000000</td>\n",
       "      <td>2.000000</td>\n",
       "      <td>1.000000</td>\n",
       "      <td>2.000000</td>\n",
       "      <td>2.000000</td>\n",
       "      <td>2.000000</td>\n",
       "      <td>1.000000</td>\n",
       "      <td>1.000000</td>\n",
       "      <td>0.000000</td>\n",
       "    </tr>\n",
       "    <tr>\n",
       "      <th>50%</th>\n",
       "      <td>27.000000</td>\n",
       "      <td>7.000000</td>\n",
       "      <td>7.112016e+06</td>\n",
       "      <td>7.000000</td>\n",
       "      <td>14.000000</td>\n",
       "      <td>2016.000000</td>\n",
       "      <td>1100.000000</td>\n",
       "      <td>2.016005e+09</td>\n",
       "      <td>2.016005e+09</td>\n",
       "      <td>1.0</td>\n",
       "      <td>...</td>\n",
       "      <td>1.000000</td>\n",
       "      <td>2.000000</td>\n",
       "      <td>2.000000</td>\n",
       "      <td>1.000000</td>\n",
       "      <td>2.000000</td>\n",
       "      <td>2.000000</td>\n",
       "      <td>2.000000</td>\n",
       "      <td>1.000000</td>\n",
       "      <td>2.000000</td>\n",
       "      <td>1.000000</td>\n",
       "    </tr>\n",
       "    <tr>\n",
       "      <th>75%</th>\n",
       "      <td>40.000000</td>\n",
       "      <td>10.000000</td>\n",
       "      <td>1.004202e+07</td>\n",
       "      <td>10.000000</td>\n",
       "      <td>21.000000</td>\n",
       "      <td>2016.000000</td>\n",
       "      <td>1100.000000</td>\n",
       "      <td>2.016009e+09</td>\n",
       "      <td>2.016009e+09</td>\n",
       "      <td>1.0</td>\n",
       "      <td>...</td>\n",
       "      <td>1.000000</td>\n",
       "      <td>2.000000</td>\n",
       "      <td>2.000000</td>\n",
       "      <td>2.000000</td>\n",
       "      <td>2.000000</td>\n",
       "      <td>2.000000</td>\n",
       "      <td>2.000000</td>\n",
       "      <td>2.000000</td>\n",
       "      <td>2.000000</td>\n",
       "      <td>1.000000</td>\n",
       "    </tr>\n",
       "    <tr>\n",
       "      <th>max</th>\n",
       "      <td>78.000000</td>\n",
       "      <td>12.000000</td>\n",
       "      <td>1.231202e+07</td>\n",
       "      <td>12.000000</td>\n",
       "      <td>31.000000</td>\n",
       "      <td>2017.000000</td>\n",
       "      <td>1200.000000</td>\n",
       "      <td>2.016037e+09</td>\n",
       "      <td>2.016037e+09</td>\n",
       "      <td>1.0</td>\n",
       "      <td>...</td>\n",
       "      <td>2.000000</td>\n",
       "      <td>9.000000</td>\n",
       "      <td>2.000000</td>\n",
       "      <td>2.000000</td>\n",
       "      <td>2.000000</td>\n",
       "      <td>2.000000</td>\n",
       "      <td>2.000000</td>\n",
       "      <td>2.000000</td>\n",
       "      <td>9.000000</td>\n",
       "      <td>9.000000</td>\n",
       "    </tr>\n",
       "  </tbody>\n",
       "</table>\n",
       "<p>8 rows × 275 columns</p>\n",
       "</div>"
      ],
      "text/plain": [
       "              _STATE         FMONTH         IDATE         IMONTH  \\\n",
       "count  486303.000000  486303.000000  4.863030e+05  486303.000000   \n",
       "mean       28.973366       6.756479  6.886909e+06       6.738184   \n",
       "std        15.959411       3.342713  3.371982e+06       3.370312   \n",
       "min         1.000000       1.000000  1.012017e+06       1.000000   \n",
       "25%        15.000000       4.000000  4.112016e+06       4.000000   \n",
       "50%        27.000000       7.000000  7.112016e+06       7.000000   \n",
       "75%        40.000000      10.000000  1.004202e+07      10.000000   \n",
       "max        78.000000      12.000000  1.231202e+07      12.000000   \n",
       "\n",
       "                IDAY          IYEAR       DISPCODE         SEQNO  \\\n",
       "count  486303.000000  486303.000000  486303.000000  4.863030e+05   \n",
       "mean       14.670964    2016.028758    1113.388978  2.016007e+09   \n",
       "std         8.325667       0.167125      34.053420  6.915870e+03   \n",
       "min         1.000000    2016.000000    1100.000000  2.016000e+09   \n",
       "25%         8.000000    2016.000000    1100.000000  2.016002e+09   \n",
       "50%        14.000000    2016.000000    1100.000000  2.016005e+09   \n",
       "75%        21.000000    2016.000000    1100.000000  2.016009e+09   \n",
       "max        31.000000    2017.000000    1200.000000  2.016037e+09   \n",
       "\n",
       "               _PSU  CTELENM1      ...             _RFPAP33       _RFPSA21  \\\n",
       "count  4.863030e+05  253013.0      ...        102386.000000  151855.000000   \n",
       "mean   2.016007e+09       1.0      ...             1.197693       2.130684   \n",
       "std    6.915870e+03       0.0      ...             0.398261       2.067062   \n",
       "min    2.016000e+09       1.0      ...             1.000000       1.000000   \n",
       "25%    2.016002e+09       1.0      ...             1.000000       1.000000   \n",
       "50%    2.016005e+09       1.0      ...             1.000000       2.000000   \n",
       "75%    2.016009e+09       1.0      ...             1.000000       2.000000   \n",
       "max    2.016037e+09       1.0      ...             2.000000       9.000000   \n",
       "\n",
       "            _RFBLDS3       _COL10YR       _HFOB3YR         _FS5YR  \\\n",
       "count  234791.000000  230141.000000  234791.000000  111013.000000   \n",
       "mean        1.904264       1.326513       1.830803       1.975039   \n",
       "std         0.294230       0.468938       0.374927       0.156007   \n",
       "min         1.000000       1.000000       1.000000       1.000000   \n",
       "25%         2.000000       1.000000       2.000000       2.000000   \n",
       "50%         2.000000       1.000000       2.000000       2.000000   \n",
       "75%         2.000000       2.000000       2.000000       2.000000   \n",
       "max         2.000000       2.000000       2.000000       2.000000   \n",
       "\n",
       "             _FOBTFS        _CRCREC       _AIDTST3      sleeptime  \n",
       "count  213798.000000  231156.000000  453321.000000  486303.000000  \n",
       "mean        1.996010       1.289463       1.975375       0.778465  \n",
       "std         0.063038       0.453514       1.493921       1.009916  \n",
       "min         1.000000       1.000000       1.000000       0.000000  \n",
       "25%         2.000000       1.000000       1.000000       0.000000  \n",
       "50%         2.000000       1.000000       2.000000       1.000000  \n",
       "75%         2.000000       2.000000       2.000000       1.000000  \n",
       "max         2.000000       2.000000       9.000000       9.000000  \n",
       "\n",
       "[8 rows x 275 columns]"
      ]
     },
     "execution_count": 530,
     "metadata": {},
     "output_type": "execute_result"
    }
   ],
   "source": [
    "BRFSS2016.describe()"
   ]
  },
  {
   "cell_type": "markdown",
   "metadata": {},
   "source": [
    "Weighting Variable"
   ]
  },
  {
   "cell_type": "code",
   "execution_count": 381,
   "metadata": {},
   "outputs": [
    {
     "data": {
      "text/plain": [
       "0     767.844566\n",
       "1     329.659884\n",
       "2     290.749306\n",
       "3     211.039206\n",
       "4    1582.539830\n",
       "Name: _LLCPWT, dtype: float64"
      ]
     },
     "execution_count": 381,
     "metadata": {},
     "output_type": "execute_result"
    }
   ],
   "source": [
    "WeightVar=BRFSS2016['_LLCPWT']\n",
    "WeightVar.head()"
   ]
  },
  {
   "cell_type": "markdown",
   "metadata": {},
   "source": [
    "Clustering Variable"
   ]
  },
  {
   "cell_type": "code",
   "execution_count": 382,
   "metadata": {},
   "outputs": [
    {
     "data": {
      "text/plain": [
       "0    2016000001\n",
       "1    2016000002\n",
       "2    2016000003\n",
       "3    2016000004\n",
       "4    2016000005\n",
       "Name: _PSU, dtype: int64"
      ]
     },
     "execution_count": 382,
     "metadata": {},
     "output_type": "execute_result"
    }
   ],
   "source": [
    "ClusterVar=BRFSS2016['_PSU']\n",
    "ClusterVar.head()"
   ]
  },
  {
   "cell_type": "markdown",
   "metadata": {},
   "source": [
    "Stratum"
   ]
  },
  {
   "cell_type": "code",
   "execution_count": 383,
   "metadata": {},
   "outputs": [
    {
     "data": {
      "text/plain": [
       "0    11011\n",
       "1    11011\n",
       "2    11011\n",
       "3    11011\n",
       "4    11011\n",
       "Name: _STSTR, dtype: int64"
      ]
     },
     "execution_count": 383,
     "metadata": {},
     "output_type": "execute_result"
    }
   ],
   "source": [
    "StrataVar=BRFSS2016['_STSTR']\n",
    "StrataVar.head()"
   ]
  },
  {
   "cell_type": "markdown",
   "metadata": {},
   "source": [
    "Using Statsmodels I was able to mostly reproduce the results from SAS code, but unfortunately I was unable to properly reproduce the Standard Errors."
   ]
  },
  {
   "cell_type": "markdown",
   "metadata": {},
   "source": [
    "**Sleep**"
   ]
  },
  {
   "cell_type": "code",
   "execution_count": 384,
   "metadata": {
    "collapsed": true
   },
   "outputs": [],
   "source": [
    "#np.dtype(BRFSS2016['sleeptime'])\n",
    "#dtype('int64')\n",
    "temp=pd.DataFrame(BRFSS2016['sleeptime'])\n",
    "#one-hot encoding\n",
    "for x in temp.sleeptime.unique():\n",
    "    temp[x]=(temp.sleeptime==x).astype(int)\n",
    "#temp.columns\n",
    "#Index(['sleeptime', 0, 1, 9], dtype='object')\n",
    "temp.rename(columns={'sleeptime':'sleepTime', 0:'zero', 1:'one', 9:'nine'}, inplace=True)   "
   ]
  },
  {
   "cell_type": "code",
   "execution_count": 385,
   "metadata": {},
   "outputs": [
    {
     "name": "stdout",
     "output_type": "stream",
     "text": [
      "Self-Reported: Average number of hours of sleep in a 24-hour period.\n"
     ]
    },
    {
     "data": {
      "text/html": [
       "<div>\n",
       "<style>\n",
       "    .dataframe thead tr:only-child th {\n",
       "        text-align: right;\n",
       "    }\n",
       "\n",
       "    .dataframe thead th {\n",
       "        text-align: left;\n",
       "    }\n",
       "\n",
       "    .dataframe tbody tr th {\n",
       "        vertical-align: top;\n",
       "    }\n",
       "</style>\n",
       "<table border=\"1\" class=\"dataframe\">\n",
       "  <thead>\n",
       "    <tr style=\"text-align: right;\">\n",
       "      <th></th>\n",
       "      <th>Percent</th>\n",
       "      <th>Frequency</th>\n",
       "      <th>Weight_freq</th>\n",
       "    </tr>\n",
       "  </thead>\n",
       "  <tbody>\n",
       "    <tr>\n",
       "      <th>Fewer than 7 hrs</th>\n",
       "      <td>34.294376</td>\n",
       "      <td>153525.0</td>\n",
       "      <td>8.715955e+07</td>\n",
       "    </tr>\n",
       "    <tr>\n",
       "      <th>7 or more hrs</th>\n",
       "      <td>64.680450</td>\n",
       "      <td>327054.0</td>\n",
       "      <td>1.643861e+08</td>\n",
       "    </tr>\n",
       "    <tr>\n",
       "      <th>Not Sure/Refused</th>\n",
       "      <td>1.025174</td>\n",
       "      <td>5724.0</td>\n",
       "      <td>2.605491e+06</td>\n",
       "    </tr>\n",
       "    <tr>\n",
       "      <th>Total</th>\n",
       "      <td>100.000000</td>\n",
       "      <td>486303.0</td>\n",
       "      <td>2.541511e+08</td>\n",
       "    </tr>\n",
       "  </tbody>\n",
       "</table>\n",
       "</div>"
      ],
      "text/plain": [
       "                     Percent  Frequency   Weight_freq\n",
       "Fewer than 7 hrs   34.294376   153525.0  8.715955e+07\n",
       "7 or more hrs      64.680450   327054.0  1.643861e+08\n",
       "Not Sure/Refused    1.025174     5724.0  2.605491e+06\n",
       "Total             100.000000   486303.0  2.541511e+08"
      ]
     },
     "execution_count": 385,
     "metadata": {},
     "output_type": "execute_result"
    }
   ],
   "source": [
    " #Setup Statsmodels to get Frequency Weights\n",
    "#zero\n",
    "freqTemp = smf.DescrStatsW(temp['zero'], weights=WeightVar)\n",
    "counts=np.array(pd.Series(temp.zero).value_counts())\n",
    "zero=np.array([freqTemp.mean*100,counts[1],freqTemp.sum])\n",
    "#one\n",
    "freqTemp = smf.DescrStatsW(temp['one'], weights=WeightVar)\n",
    "counts=np.array(pd.Series(temp.one).value_counts())\n",
    "one=np.array([freqTemp.mean*100,counts[0],freqTemp.sum])\n",
    "#nine\n",
    "freqTemp = smf.DescrStatsW(temp['nine'], weights=WeightVar)\n",
    "counts=np.array(pd.Series(temp.nine).value_counts())\n",
    "nine=np.array([freqTemp.mean*100,counts[1],freqTemp.sum])\n",
    "#Create Table (DataFrame)\n",
    "freq_table=pd.DataFrame(np.array([zero,one,nine]),columns=['Percent','Frequency','Weight_freq'])\n",
    "#Modify index rows\n",
    "zeroth,first,ninth = freq_table.index[0],freq_table.index[1],freq_table.index[2]\n",
    "freq_table.rename(index={zeroth: 'Fewer than 7 hrs',first: '7 or more hrs',ninth:'Not Sure/Refused'},inplace=True)\n",
    "#Create Totals Row\n",
    "last=np.array([round(freq_table['Percent'].sum()),round(freq_table['Frequency'].sum()),round(freq_table['Weight_freq'].sum())])\n",
    "freq_table.loc[len(freq_table)]=last\n",
    "freq_table.rename(index={3:'Total'},inplace=True)\n",
    "sleepTable=freq_table #Saving frequncy table for later\n",
    "print('Self-Reported: Average number of hours of sleep in a 24-hour period.')\n",
    "freq_table"
   ]
  },
  {
   "cell_type": "code",
   "execution_count": 386,
   "metadata": {},
   "outputs": [
    {
     "data": {
      "text/html": [
       "<script>requirejs.config({paths: { 'plotly': ['https://cdn.plot.ly/plotly-latest.min']},});if(!window.Plotly) {{require(['plotly'],function(plotly) {window.Plotly=plotly;});}}</script>"
      ],
      "text/vnd.plotly.v1+html": [
       "<script>requirejs.config({paths: { 'plotly': ['https://cdn.plot.ly/plotly-latest.min']},});if(!window.Plotly) {{require(['plotly'],function(plotly) {window.Plotly=plotly;});}}</script>"
      ]
     },
     "metadata": {},
     "output_type": "display_data"
    },
    {
     "data": {
      "application/vnd.plotly.v1+json": {
       "data": [
        {
         "marker": {
          "color": [
           "rgb(228,100,90)",
           "rgb(217,217,217)",
           "rgb(217,217,217)"
          ],
          "line": {
           "color": "rgb(68,68,68)",
           "width": 1.5
          }
         },
         "opacity": 0.6,
         "text": [
          34.3,
          64.7,
          1
         ],
         "textposition": "outside",
         "type": "bar",
         "x": [
          "Fewer than 7 hrs",
          "7 or more hrs",
          "Not Sure/Refused"
         ],
         "y": [
          34.29437620470258,
          64.68044990826363,
          1.025173887033862
         ]
        }
       ],
       "layout": {
        "title": "Approximately 1 out of 3 adults in the United States <br> report getting 6 hours or less sleep per night.",
        "xaxis": {
         "tickangle": 0,
         "ticks": ""
        },
        "yaxis": {
         "showgrid": false,
         "showticklabels": false,
         "ticks": "",
         "title": "Sleep in a 24-hour period</b>",
         "titlefont": {
          "color": "444444",
          "family": "Arial, sans-serif",
          "size": 18
         }
        }
       }
      },
      "text/html": [
       "<div id=\"a49d81f4-907a-428a-ad94-d199997355ac\" style=\"height: 525px; width: 100%;\" class=\"plotly-graph-div\"></div><script type=\"text/javascript\">require([\"plotly\"], function(Plotly) { window.PLOTLYENV=window.PLOTLYENV || {};window.PLOTLYENV.BASE_URL=\"https://plot.ly\";Plotly.newPlot(\"a49d81f4-907a-428a-ad94-d199997355ac\", [{\"type\": \"bar\", \"x\": [\"Fewer than 7 hrs\", \"7 or more hrs\", \"Not Sure/Refused\"], \"y\": [34.29437620470258, 64.68044990826363, 1.025173887033862], \"text\": [34.3, 64.7, 1.0], \"textposition\": \"outside\", \"marker\": {\"color\": [\"rgb(228,100,90)\", \"rgb(217,217,217)\", \"rgb(217,217,217)\"], \"line\": {\"color\": \"rgb(68,68,68)\", \"width\": 1.5}}, \"opacity\": 0.6}], {\"title\": \"Approximately 1 out of 3 adults in the United States <br> report getting 6 hours or less sleep per night.\", \"yaxis\": {\"title\": \"Sleep in a 24-hour period</b>\", \"ticks\": \"\", \"showticklabels\": false, \"showgrid\": false, \"titlefont\": {\"family\": \"Arial, sans-serif\", \"size\": 18, \"color\": \"444444\"}}, \"xaxis\": {\"ticks\": \"\", \"tickangle\": 0}}, {\"showLink\": true, \"linkText\": \"Export to plot.ly\"})});</script>"
      ],
      "text/vnd.plotly.v1+html": [
       "<div id=\"a49d81f4-907a-428a-ad94-d199997355ac\" style=\"height: 525px; width: 100%;\" class=\"plotly-graph-div\"></div><script type=\"text/javascript\">require([\"plotly\"], function(Plotly) { window.PLOTLYENV=window.PLOTLYENV || {};window.PLOTLYENV.BASE_URL=\"https://plot.ly\";Plotly.newPlot(\"a49d81f4-907a-428a-ad94-d199997355ac\", [{\"type\": \"bar\", \"x\": [\"Fewer than 7 hrs\", \"7 or more hrs\", \"Not Sure/Refused\"], \"y\": [34.29437620470258, 64.68044990826363, 1.025173887033862], \"text\": [34.3, 64.7, 1.0], \"textposition\": \"outside\", \"marker\": {\"color\": [\"rgb(228,100,90)\", \"rgb(217,217,217)\", \"rgb(217,217,217)\"], \"line\": {\"color\": \"rgb(68,68,68)\", \"width\": 1.5}}, \"opacity\": 0.6}], {\"title\": \"Approximately 1 out of 3 adults in the United States <br> report getting 6 hours or less sleep per night.\", \"yaxis\": {\"title\": \"Sleep in a 24-hour period</b>\", \"ticks\": \"\", \"showticklabels\": false, \"showgrid\": false, \"titlefont\": {\"family\": \"Arial, sans-serif\", \"size\": 18, \"color\": \"444444\"}}, \"xaxis\": {\"ticks\": \"\", \"tickangle\": 0}}, {\"showLink\": true, \"linkText\": \"Export to plot.ly\"})});</script>"
      ]
     },
     "metadata": {},
     "output_type": "display_data"
    }
   ],
   "source": [
    "import plotly.offline as py\n",
    "import plotly.graph_objs as go\n",
    "py.init_notebook_mode(connected=True)\n",
    "%matplotlib inline\n",
    "\n",
    "graphData=freq_table.reset_index().copy()\n",
    "#pass data in\n",
    "data = [go.Bar(x=graphData.loc[0:2]['index'],\n",
    "               y=graphData.loc[0:2]['Percent'],\n",
    "               text=round((graphData.loc[0:2]['Percent']),1),\n",
    "               textposition='outside',marker=dict(\n",
    "               color=['rgb(228,100,90)','rgb(217,217,217)','rgb(217,217,217)'],line=dict(color='rgb(68,68,68)',\n",
    "               width=1.5),),opacity=0.6)]\n",
    "\n",
    "layout = go.Layout(\n",
    "                title='Approximately 1 out of 3 adults in the United States <br> report getting 6 hours or less sleep per night.',\n",
    "                yaxis=dict(title='Sleep in a 24-hour period</b>',ticks='',showticklabels=False,showgrid=False,\n",
    "                titlefont=dict(family='Arial, sans-serif',size=18,color='444444',))\n",
    "                ,xaxis=dict(ticks='',tickangle=0))\n",
    "\n",
    "fig = go.Figure(data=data, layout=layout)\n",
    "py.iplot(fig, filename='text-hover-bar')\n"
   ]
  },
  {
   "cell_type": "markdown",
   "metadata": {},
   "source": [
    "**Physical Activity**"
   ]
  },
  {
   "cell_type": "code",
   "execution_count": 387,
   "metadata": {
    "collapsed": true
   },
   "outputs": [],
   "source": [
    "#np.dtype(BRFSS2016['_TOTINDA'])\n",
    "#dtype('int64')\n",
    "temp=pd.DataFrame(BRFSS2016['_TOTINDA'])\n",
    "#one-hot encoding\n",
    "for x in temp._TOTINDA.unique():\n",
    "    temp[x]=(temp._TOTINDA==x).astype(int)\n",
    "#temp.columns\n",
    "#Index(['sleeptime', 0, 1, 9], dtype='object')\n",
    "temp.rename(columns={'_TOTINDA':'physActive', 1:'one', 2:'two', 9:'nine'}, inplace=True)"
   ]
  },
  {
   "cell_type": "code",
   "execution_count": 388,
   "metadata": {},
   "outputs": [
    {
     "name": "stdout",
     "output_type": "stream",
     "text": [
      "CDC Calculated Variable: Adults who reported doing physical activity or exercise during the past 30 days.\n"
     ]
    },
    {
     "data": {
      "text/html": [
       "<div>\n",
       "<style>\n",
       "    .dataframe thead tr:only-child th {\n",
       "        text-align: right;\n",
       "    }\n",
       "\n",
       "    .dataframe thead th {\n",
       "        text-align: left;\n",
       "    }\n",
       "\n",
       "    .dataframe tbody tr th {\n",
       "        vertical-align: top;\n",
       "    }\n",
       "</style>\n",
       "<table border=\"1\" class=\"dataframe\">\n",
       "  <thead>\n",
       "    <tr style=\"text-align: right;\">\n",
       "      <th></th>\n",
       "      <th>Percent</th>\n",
       "      <th>Frequency</th>\n",
       "      <th>Weight_freq</th>\n",
       "    </tr>\n",
       "  </thead>\n",
       "  <tbody>\n",
       "    <tr>\n",
       "      <th>Had physical activity or exercise</th>\n",
       "      <td>75.481018</td>\n",
       "      <td>361649.0</td>\n",
       "      <td>1.918359e+08</td>\n",
       "    </tr>\n",
       "    <tr>\n",
       "      <th>No physical activity or exercise</th>\n",
       "      <td>24.383464</td>\n",
       "      <td>123860.0</td>\n",
       "      <td>6.197085e+07</td>\n",
       "    </tr>\n",
       "    <tr>\n",
       "      <th>Not Sure/Refused</th>\n",
       "      <td>0.135519</td>\n",
       "      <td>794.0</td>\n",
       "      <td>3.444223e+05</td>\n",
       "    </tr>\n",
       "    <tr>\n",
       "      <th>Total</th>\n",
       "      <td>100.000000</td>\n",
       "      <td>486303.0</td>\n",
       "      <td>2.541511e+08</td>\n",
       "    </tr>\n",
       "  </tbody>\n",
       "</table>\n",
       "</div>"
      ],
      "text/plain": [
       "                                      Percent  Frequency   Weight_freq\n",
       "Had physical activity or exercise   75.481018   361649.0  1.918359e+08\n",
       "No physical activity or exercise    24.383464   123860.0  6.197085e+07\n",
       "Not Sure/Refused                     0.135519      794.0  3.444223e+05\n",
       "Total                              100.000000   486303.0  2.541511e+08"
      ]
     },
     "execution_count": 388,
     "metadata": {},
     "output_type": "execute_result"
    }
   ],
   "source": [
    "#Setup Statsmodels to get Frequency Weights\n",
    "#one\n",
    "freqTemp = smf.DescrStatsW(temp['one'], weights=WeightVar)\n",
    "counts=np.array(pd.Series(temp.one).value_counts())\n",
    "one=np.array([freqTemp.mean*100,counts[0],freqTemp.sum])\n",
    "#two\n",
    "freqTemp = smf.DescrStatsW(temp['two'], weights=WeightVar)\n",
    "counts=np.array(pd.Series(temp.two).value_counts())\n",
    "two=np.array([freqTemp.mean*100,counts[1],freqTemp.sum])\n",
    "#nine\n",
    "freqTemp = smf.DescrStatsW(temp['nine'], weights=WeightVar)\n",
    "counts=np.array(pd.Series(temp.nine).value_counts())\n",
    "nine=np.array([freqTemp.mean*100,counts[1],freqTemp.sum])\n",
    "#Create Table (DataFrame)\n",
    "freq_table=pd.DataFrame(np.array([one,two,nine]),columns=['Percent','Frequency','Weight_freq'])\n",
    "#Modify index rows\n",
    "first,second,ninth = freq_table.index[0],freq_table.index[1],freq_table.index[2]\n",
    "freq_table.rename(index={first: 'Had physical activity or exercise',second: 'No physical activity or exercise',ninth:'Not Sure/Refused'},inplace=True)\n",
    "#Create Totals Row\n",
    "last=np.array([round(freq_table['Percent'].sum()),round(freq_table['Frequency'].sum()),round(freq_table['Weight_freq'].sum())])\n",
    "freq_table.loc[len(freq_table)]=last\n",
    "freq_table.rename(index={3:'Total'},inplace=True)\n",
    "physactTable=freq_table\n",
    "print('CDC Calculated Variable: Adults who reported doing physical activity or exercise during the past 30 days.')\n",
    "freq_table"
   ]
  },
  {
   "cell_type": "code",
   "execution_count": 389,
   "metadata": {},
   "outputs": [
    {
     "data": {
      "application/vnd.plotly.v1+json": {
       "data": [
        {
         "marker": {
          "color": [
           "rgb(217,217,217)",
           "rgb(252,213,180)",
           "rgb(217,217,217)"
          ],
          "line": {
           "color": "rgb(68,68,68)",
           "width": 1.5
          }
         },
         "opacity": 0.6,
         "text": [
          75.5,
          24.4,
          0.1
         ],
         "textposition": "outside",
         "type": "bar",
         "x": [
          "Had physical activity or exercise",
          "No physical activity or exercise",
          "Not Sure/Refused"
         ],
         "y": [
          75.48101752304716,
          24.3834637942873,
          0.13551868266560887
         ]
        }
       ],
       "layout": {
        "title": "Approximately 1 out of 4 U.S. adults <br> report not getting physical activity outside their job.",
        "xaxis": {
         "tickangle": 0,
         "ticks": ""
        },
        "yaxis": {
         "showgrid": false,
         "showticklabels": false,
         "ticks": "",
         "title": "Physical Activity (%) in 30 days</b>",
         "titlefont": {
          "color": "444444",
          "family": "Arial, sans-serif",
          "size": 18
         }
        }
       }
      },
      "text/html": [
       "<div id=\"36f4fe5f-01ef-4197-b670-a282aa2576f1\" style=\"height: 525px; width: 100%;\" class=\"plotly-graph-div\"></div><script type=\"text/javascript\">require([\"plotly\"], function(Plotly) { window.PLOTLYENV=window.PLOTLYENV || {};window.PLOTLYENV.BASE_URL=\"https://plot.ly\";Plotly.newPlot(\"36f4fe5f-01ef-4197-b670-a282aa2576f1\", [{\"type\": \"bar\", \"x\": [\"Had physical activity or exercise\", \"No physical activity or exercise\", \"Not Sure/Refused\"], \"y\": [75.48101752304716, 24.3834637942873, 0.13551868266560887], \"text\": [75.5, 24.4, 0.1], \"textposition\": \"outside\", \"marker\": {\"color\": [\"rgb(217,217,217)\", \"rgb(252,213,180)\", \"rgb(217,217,217)\"], \"line\": {\"color\": \"rgb(68,68,68)\", \"width\": 1.5}}, \"opacity\": 0.6}], {\"title\": \"Approximately 1 out of 4 U.S. adults <br> report not getting physical activity outside their job.\", \"yaxis\": {\"title\": \"Physical Activity (%) in 30 days</b>\", \"ticks\": \"\", \"showticklabels\": false, \"showgrid\": false, \"titlefont\": {\"family\": \"Arial, sans-serif\", \"size\": 18, \"color\": \"444444\"}}, \"xaxis\": {\"ticks\": \"\", \"tickangle\": 0}}, {\"showLink\": true, \"linkText\": \"Export to plot.ly\"})});</script>"
      ],
      "text/vnd.plotly.v1+html": [
       "<div id=\"36f4fe5f-01ef-4197-b670-a282aa2576f1\" style=\"height: 525px; width: 100%;\" class=\"plotly-graph-div\"></div><script type=\"text/javascript\">require([\"plotly\"], function(Plotly) { window.PLOTLYENV=window.PLOTLYENV || {};window.PLOTLYENV.BASE_URL=\"https://plot.ly\";Plotly.newPlot(\"36f4fe5f-01ef-4197-b670-a282aa2576f1\", [{\"type\": \"bar\", \"x\": [\"Had physical activity or exercise\", \"No physical activity or exercise\", \"Not Sure/Refused\"], \"y\": [75.48101752304716, 24.3834637942873, 0.13551868266560887], \"text\": [75.5, 24.4, 0.1], \"textposition\": \"outside\", \"marker\": {\"color\": [\"rgb(217,217,217)\", \"rgb(252,213,180)\", \"rgb(217,217,217)\"], \"line\": {\"color\": \"rgb(68,68,68)\", \"width\": 1.5}}, \"opacity\": 0.6}], {\"title\": \"Approximately 1 out of 4 U.S. adults <br> report not getting physical activity outside their job.\", \"yaxis\": {\"title\": \"Physical Activity (%) in 30 days</b>\", \"ticks\": \"\", \"showticklabels\": false, \"showgrid\": false, \"titlefont\": {\"family\": \"Arial, sans-serif\", \"size\": 18, \"color\": \"444444\"}}, \"xaxis\": {\"ticks\": \"\", \"tickangle\": 0}}, {\"showLink\": true, \"linkText\": \"Export to plot.ly\"})});</script>"
      ]
     },
     "metadata": {},
     "output_type": "display_data"
    }
   ],
   "source": [
    "graphData=freq_table.reset_index().copy()\n",
    "#pass data in\n",
    "data = [go.Bar(x=graphData.loc[0:2]['index'],\n",
    "               y=graphData.loc[0:2]['Percent'],\n",
    "               text=round((graphData.loc[0:2]['Percent']),1),\n",
    "               textposition='outside',marker=dict(\n",
    "               color=['rgb(217,217,217)','rgb(252,213,180)','rgb(217,217,217)'],line=dict(color='rgb(68,68,68)',\n",
    "               width=1.5),),opacity=0.6)]\n",
    "\n",
    "layout = go.Layout(\n",
    "                title='Approximately 1 out of 4 U.S. adults <br> report not getting physical activity outside their job.',\n",
    "                yaxis=dict(title='Physical Activity (%) in 30 days</b>',ticks='',showticklabels=False,showgrid=False,\n",
    "                titlefont=dict(family='Arial, sans-serif',size=18,color='444444',))\n",
    "                ,xaxis=dict(ticks='',tickangle=0))\n",
    "\n",
    "fig = go.Figure(data=data, layout=layout)\n",
    "py.iplot(fig, filename='text-hover-bar')"
   ]
  },
  {
   "cell_type": "markdown",
   "metadata": {
    "collapsed": true
   },
   "source": [
    "**Children**"
   ]
  },
  {
   "cell_type": "code",
   "execution_count": 390,
   "metadata": {
    "collapsed": true
   },
   "outputs": [],
   "source": [
    "#np.dtype(BRFSS2016['_CHLDCNT'])\n",
    "#dtype('int64')\n",
    "temp=pd.DataFrame(BRFSS2016['_CHLDCNT'])\n",
    "#one-hot encoding\n",
    "for x in temp._CHLDCNT.unique():\n",
    "    temp[x]=(temp._CHLDCNT==x).astype(int)\n",
    "\n",
    "#temp.columns\n",
    "#Index(['_CHLDCNT', 4, 1, 2, 5, 3, 9, 6], dtype='object')\n",
    "temp.rename(columns={'_CHLDCNT':'ChildCount', 4:'four', 1:'one', 2:'two', 5:'five',3:'three',9:'nine',6:'six'}, inplace=True)"
   ]
  },
  {
   "cell_type": "code",
   "execution_count": 391,
   "metadata": {},
   "outputs": [
    {
     "name": "stdout",
     "output_type": "stream",
     "text": [
      "Self-Reported: Number of children in the household.\n"
     ]
    },
    {
     "data": {
      "text/html": [
       "<div>\n",
       "<style>\n",
       "    .dataframe thead tr:only-child th {\n",
       "        text-align: right;\n",
       "    }\n",
       "\n",
       "    .dataframe thead th {\n",
       "        text-align: left;\n",
       "    }\n",
       "\n",
       "    .dataframe tbody tr th {\n",
       "        vertical-align: top;\n",
       "    }\n",
       "</style>\n",
       "<table border=\"1\" class=\"dataframe\">\n",
       "  <thead>\n",
       "    <tr style=\"text-align: right;\">\n",
       "      <th></th>\n",
       "      <th>Percent</th>\n",
       "      <th>Frequency</th>\n",
       "      <th>Weight_freq</th>\n",
       "    </tr>\n",
       "  </thead>\n",
       "  <tbody>\n",
       "    <tr>\n",
       "      <th>One child</th>\n",
       "      <td>63.119989</td>\n",
       "      <td>359007.0</td>\n",
       "      <td>1.604202e+08</td>\n",
       "    </tr>\n",
       "    <tr>\n",
       "      <th>Two children</th>\n",
       "      <td>14.625321</td>\n",
       "      <td>51115.0</td>\n",
       "      <td>3.717042e+07</td>\n",
       "    </tr>\n",
       "    <tr>\n",
       "      <th>Three children</th>\n",
       "      <td>12.571689</td>\n",
       "      <td>43194.0</td>\n",
       "      <td>3.195109e+07</td>\n",
       "    </tr>\n",
       "    <tr>\n",
       "      <th>Four children</th>\n",
       "      <td>5.454542</td>\n",
       "      <td>18358.0</td>\n",
       "      <td>1.386278e+07</td>\n",
       "    </tr>\n",
       "    <tr>\n",
       "      <th>Five children</th>\n",
       "      <td>1.947746</td>\n",
       "      <td>6735.0</td>\n",
       "      <td>4.950218e+06</td>\n",
       "    </tr>\n",
       "    <tr>\n",
       "      <th>Six children</th>\n",
       "      <td>0.978397</td>\n",
       "      <td>3472.0</td>\n",
       "      <td>2.486606e+06</td>\n",
       "    </tr>\n",
       "    <tr>\n",
       "      <th>Not Sure/Refused</th>\n",
       "      <td>1.302316</td>\n",
       "      <td>4422.0</td>\n",
       "      <td>3.309852e+06</td>\n",
       "    </tr>\n",
       "    <tr>\n",
       "      <th>Total</th>\n",
       "      <td>100.000000</td>\n",
       "      <td>486303.0</td>\n",
       "      <td>2.541511e+08</td>\n",
       "    </tr>\n",
       "  </tbody>\n",
       "</table>\n",
       "</div>"
      ],
      "text/plain": [
       "                     Percent  Frequency   Weight_freq\n",
       "One child          63.119989   359007.0  1.604202e+08\n",
       "Two children       14.625321    51115.0  3.717042e+07\n",
       "Three children     12.571689    43194.0  3.195109e+07\n",
       "Four children       5.454542    18358.0  1.386278e+07\n",
       "Five children       1.947746     6735.0  4.950218e+06\n",
       "Six children        0.978397     3472.0  2.486606e+06\n",
       "Not Sure/Refused    1.302316     4422.0  3.309852e+06\n",
       "Total             100.000000   486303.0  2.541511e+08"
      ]
     },
     "execution_count": 391,
     "metadata": {},
     "output_type": "execute_result"
    }
   ],
   "source": [
    "#Setup Statsmodels to get Frequency Weights\n",
    "#one\n",
    "freqTemp = smf.DescrStatsW(temp['one'], weights=WeightVar)\n",
    "counts=np.array(pd.Series(temp.one).value_counts())\n",
    "one=np.array([freqTemp.mean*100,counts[0],freqTemp.sum])\n",
    "#two\n",
    "freqTemp = smf.DescrStatsW(temp['two'], weights=WeightVar)\n",
    "counts=np.array(pd.Series(temp.two).value_counts())\n",
    "two=np.array([freqTemp.mean*100,counts[1],freqTemp.sum])\n",
    "#three\n",
    "freqTemp = smf.DescrStatsW(temp['three'], weights=WeightVar)\n",
    "counts=np.array(pd.Series(temp.three).value_counts())\n",
    "three=np.array([freqTemp.mean*100,counts[1],freqTemp.sum])\n",
    "#four\n",
    "freqTemp = smf.DescrStatsW(temp['four'], weights=WeightVar)\n",
    "counts=np.array(pd.Series(temp.four).value_counts())\n",
    "four=np.array([freqTemp.mean*100,counts[1],freqTemp.sum])\n",
    "#five\n",
    "freqTemp = smf.DescrStatsW(temp['five'], weights=WeightVar)\n",
    "counts=np.array(pd.Series(temp.five).value_counts())\n",
    "five=np.array([freqTemp.mean*100,counts[1],freqTemp.sum])\n",
    "#six\n",
    "freqTemp = smf.DescrStatsW(temp['six'], weights=WeightVar)\n",
    "counts=np.array(pd.Series(temp.six).value_counts())\n",
    "six=np.array([freqTemp.mean*100,counts[1],freqTemp.sum])\n",
    "#nine\n",
    "freqTemp = smf.DescrStatsW(temp['nine'], weights=WeightVar)\n",
    "counts=np.array(pd.Series(temp.nine).value_counts())\n",
    "nine=np.array([freqTemp.mean*100,counts[1],freqTemp.sum])\n",
    "#Create Table (DataFrame)\n",
    "freq_table=pd.DataFrame(np.array([one,two,three,four,five,six,nine]),columns=['Percent','Frequency','Weight_freq'])\n",
    "#Modify index rows\n",
    "first,second,third,fourth,fifth,sixth,ninth = freq_table.index[0],freq_table.index[1],freq_table.index[2],freq_table.index[3],freq_table.index[4],freq_table.index[5],freq_table.index[6]\n",
    "freq_table.rename(index={first: 'One child',second: 'Two children',third: 'Three children',fourth:'Four children',fifth:'Five children',sixth:'Six children',ninth:'Not Sure/Refused'},inplace=True)\n",
    "#Create Totals Row\n",
    "last=np.array([round(freq_table['Percent'].sum()),round(freq_table['Frequency'].sum()),round(freq_table['Weight_freq'].sum())])\n",
    "freq_table.loc[len(freq_table)]=last\n",
    "freq_table.rename(index={7:'Total'},inplace=True)\n",
    "print('Self-Reported: Number of children in the household.')\n",
    "freq_table"
   ]
  },
  {
   "cell_type": "code",
   "execution_count": 392,
   "metadata": {},
   "outputs": [
    {
     "data": {
      "application/vnd.plotly.v1+json": {
       "data": [
        {
         "marker": {
          "color": [
           "rgb(158,202,225)",
           "rgb(217,217,217)",
           "rgb(217,217,217)",
           "rgb(217,217,217)",
           "rgb(217,217,217)",
           "rgb(217,217,217)",
           "rgb(217,217,217)"
          ],
          "line": {
           "color": "rgb(68,68,68)",
           "width": 1.5
          }
         },
         "opacity": 0.6,
         "text": [
          63.1,
          14.6,
          12.6,
          5.5,
          1.9,
          1,
          1.3
         ],
         "textposition": "outside",
         "type": "bar",
         "x": [
          "One child",
          "Two children",
          "Three children",
          "Four children",
          "Five children",
          "Six children",
          "Not Sure/Refused"
         ],
         "y": [
          63.119989230496145,
          14.625321070903826,
          12.571689189504042,
          5.45454167950908,
          1.9477458221738373,
          0.9783965580192556,
          1.302316449393806
         ]
        }
       ],
       "layout": {
        "title": "Approximately 3 out of 5 U.S. adults <br> report having one child in the household.",
        "xaxis": {
         "tickangle": 0,
         "ticks": ""
        },
        "yaxis": {
         "showgrid": false,
         "showticklabels": false,
         "ticks": "",
         "title": "Number of Children (%) ",
         "titlefont": {
          "color": "444444",
          "family": "Arial, sans-serif",
          "size": 18
         }
        }
       }
      },
      "text/html": [
       "<div id=\"b700aedb-bce5-401d-8b9a-4c21dc8c7257\" style=\"height: 525px; width: 100%;\" class=\"plotly-graph-div\"></div><script type=\"text/javascript\">require([\"plotly\"], function(Plotly) { window.PLOTLYENV=window.PLOTLYENV || {};window.PLOTLYENV.BASE_URL=\"https://plot.ly\";Plotly.newPlot(\"b700aedb-bce5-401d-8b9a-4c21dc8c7257\", [{\"type\": \"bar\", \"x\": [\"One child\", \"Two children\", \"Three children\", \"Four children\", \"Five children\", \"Six children\", \"Not Sure/Refused\"], \"y\": [63.119989230496145, 14.625321070903826, 12.571689189504042, 5.45454167950908, 1.9477458221738373, 0.9783965580192556, 1.302316449393806], \"text\": [63.1, 14.6, 12.6, 5.5, 1.9, 1.0, 1.3], \"textposition\": \"outside\", \"marker\": {\"color\": [\"rgb(158,202,225)\", \"rgb(217,217,217)\", \"rgb(217,217,217)\", \"rgb(217,217,217)\", \"rgb(217,217,217)\", \"rgb(217,217,217)\", \"rgb(217,217,217)\"], \"line\": {\"color\": \"rgb(68,68,68)\", \"width\": 1.5}}, \"opacity\": 0.6}], {\"title\": \"Approximately 3 out of 5 U.S. adults <br> report having one child in the household.\", \"yaxis\": {\"title\": \"Number of Children (%) \", \"ticks\": \"\", \"showticklabels\": false, \"showgrid\": false, \"titlefont\": {\"family\": \"Arial, sans-serif\", \"size\": 18, \"color\": \"444444\"}}, \"xaxis\": {\"ticks\": \"\", \"tickangle\": 0}}, {\"showLink\": true, \"linkText\": \"Export to plot.ly\"})});</script>"
      ],
      "text/vnd.plotly.v1+html": [
       "<div id=\"b700aedb-bce5-401d-8b9a-4c21dc8c7257\" style=\"height: 525px; width: 100%;\" class=\"plotly-graph-div\"></div><script type=\"text/javascript\">require([\"plotly\"], function(Plotly) { window.PLOTLYENV=window.PLOTLYENV || {};window.PLOTLYENV.BASE_URL=\"https://plot.ly\";Plotly.newPlot(\"b700aedb-bce5-401d-8b9a-4c21dc8c7257\", [{\"type\": \"bar\", \"x\": [\"One child\", \"Two children\", \"Three children\", \"Four children\", \"Five children\", \"Six children\", \"Not Sure/Refused\"], \"y\": [63.119989230496145, 14.625321070903826, 12.571689189504042, 5.45454167950908, 1.9477458221738373, 0.9783965580192556, 1.302316449393806], \"text\": [63.1, 14.6, 12.6, 5.5, 1.9, 1.0, 1.3], \"textposition\": \"outside\", \"marker\": {\"color\": [\"rgb(158,202,225)\", \"rgb(217,217,217)\", \"rgb(217,217,217)\", \"rgb(217,217,217)\", \"rgb(217,217,217)\", \"rgb(217,217,217)\", \"rgb(217,217,217)\"], \"line\": {\"color\": \"rgb(68,68,68)\", \"width\": 1.5}}, \"opacity\": 0.6}], {\"title\": \"Approximately 3 out of 5 U.S. adults <br> report having one child in the household.\", \"yaxis\": {\"title\": \"Number of Children (%) \", \"ticks\": \"\", \"showticklabels\": false, \"showgrid\": false, \"titlefont\": {\"family\": \"Arial, sans-serif\", \"size\": 18, \"color\": \"444444\"}}, \"xaxis\": {\"ticks\": \"\", \"tickangle\": 0}}, {\"showLink\": true, \"linkText\": \"Export to plot.ly\"})});</script>"
      ]
     },
     "metadata": {},
     "output_type": "display_data"
    }
   ],
   "source": [
    "graphData=freq_table.reset_index().copy()\n",
    "#pass data in\n",
    "data = [go.Bar(x=graphData.loc[0:6]['index'],\n",
    "               y=graphData.loc[0:6]['Percent'],\n",
    "               text=round((graphData.loc[0:6]['Percent']),1),\n",
    "               textposition='outside',marker=dict(\n",
    "               color=['rgb(158,202,225)','rgb(217,217,217)','rgb(217,217,217)','rgb(217,217,217)','rgb(217,217,217)','rgb(217,217,217)','rgb(217,217,217)'],line=dict(color='rgb(68,68,68)',\n",
    "               width=1.5),),opacity=0.6)]\n",
    "\n",
    "layout = go.Layout(\n",
    "                title='Approximately 3 out of 5 U.S. adults <br> report having one child in the household.',\n",
    "                yaxis=dict(title='Number of Children (%) ',ticks='',showticklabels=False,showgrid=False,\n",
    "                titlefont=dict(family='Arial, sans-serif',size=18,color='444444',))\n",
    "                ,xaxis=dict(ticks='',tickangle=0))\n",
    "\n",
    "fig = go.Figure(data=data, layout=layout)\n",
    "py.iplot(fig, filename='text-hover-bar')"
   ]
  },
  {
   "cell_type": "markdown",
   "metadata": {
    "collapsed": true
   },
   "source": [
    "**Age Groupings**"
   ]
  },
  {
   "cell_type": "code",
   "execution_count": 393,
   "metadata": {
    "collapsed": true
   },
   "outputs": [],
   "source": [
    "#BRFSS2016['_AGEG5YR'].unique()\n",
    "#array([ 5,  8, 13, 11,  1, 10, 12,  9,  7,  4,  3,  2,  6, 14], dtype=int64)\n",
    "\n",
    "#np.dtype(BRFSS2016['_AGEG5YR'])\n",
    "#dtype('int64')\n",
    "temp=pd.DataFrame(BRFSS2016['_AGEG5YR'])\n",
    "#one-hot encoding\n",
    "for x in temp._AGEG5YR.unique():\n",
    "    temp[x]=(temp._AGEG5YR==x).astype(int)\n",
    "    \n",
    "#temp.columns\n",
    "#Index(['_AGEG5YR', 5,  8, 13, 11,  1, 10, 12,  9,  7,  4,  3,  2,  6, 14], dtype='object')\n",
    "temp.rename(columns={'_AGEG5YR':'AgeGroupings', 5:'five', 8:'eight', 13:'thirteen', 11:'eleven',1:'one',10:'ten',12:'twelve',9:'nine',7:'seven',4:'four',3:'three',2:'two',6:'six',14:'fourteen'}, inplace=True)"
   ]
  },
  {
   "cell_type": "code",
   "execution_count": 394,
   "metadata": {},
   "outputs": [
    {
     "name": "stdout",
     "output_type": "stream",
     "text": [
      "Self-Reported: Age in five-year age categores.\n"
     ]
    },
    {
     "data": {
      "text/html": [
       "<div>\n",
       "<style>\n",
       "    .dataframe thead tr:only-child th {\n",
       "        text-align: right;\n",
       "    }\n",
       "\n",
       "    .dataframe thead th {\n",
       "        text-align: left;\n",
       "    }\n",
       "\n",
       "    .dataframe tbody tr th {\n",
       "        vertical-align: top;\n",
       "    }\n",
       "</style>\n",
       "<table border=\"1\" class=\"dataframe\">\n",
       "  <thead>\n",
       "    <tr style=\"text-align: right;\">\n",
       "      <th></th>\n",
       "      <th>Percent</th>\n",
       "      <th>Frequency</th>\n",
       "      <th>Weight_freq</th>\n",
       "    </tr>\n",
       "  </thead>\n",
       "  <tbody>\n",
       "    <tr>\n",
       "      <th>18-24</th>\n",
       "      <td>12.658092</td>\n",
       "      <td>459677.0</td>\n",
       "      <td>3.217068e+07</td>\n",
       "    </tr>\n",
       "    <tr>\n",
       "      <th>25-29</th>\n",
       "      <td>8.213207</td>\n",
       "      <td>23034.0</td>\n",
       "      <td>2.087396e+07</td>\n",
       "    </tr>\n",
       "    <tr>\n",
       "      <th>30-34</th>\n",
       "      <td>9.135461</td>\n",
       "      <td>25432.0</td>\n",
       "      <td>2.321788e+07</td>\n",
       "    </tr>\n",
       "    <tr>\n",
       "      <th>35-39</th>\n",
       "      <td>8.108885</td>\n",
       "      <td>27192.0</td>\n",
       "      <td>2.060882e+07</td>\n",
       "    </tr>\n",
       "    <tr>\n",
       "      <th>40-44</th>\n",
       "      <td>7.945350</td>\n",
       "      <td>27195.0</td>\n",
       "      <td>2.019320e+07</td>\n",
       "    </tr>\n",
       "    <tr>\n",
       "      <th>45-49</th>\n",
       "      <td>7.412601</td>\n",
       "      <td>33014.0</td>\n",
       "      <td>1.883921e+07</td>\n",
       "    </tr>\n",
       "    <tr>\n",
       "      <th>50-54</th>\n",
       "      <td>9.013114</td>\n",
       "      <td>41810.0</td>\n",
       "      <td>2.290693e+07</td>\n",
       "    </tr>\n",
       "    <tr>\n",
       "      <th>55-59</th>\n",
       "      <td>8.084989</td>\n",
       "      <td>49799.0</td>\n",
       "      <td>2.054809e+07</td>\n",
       "    </tr>\n",
       "    <tr>\n",
       "      <th>60-64</th>\n",
       "      <td>8.292014</td>\n",
       "      <td>54770.0</td>\n",
       "      <td>2.107425e+07</td>\n",
       "    </tr>\n",
       "    <tr>\n",
       "      <th>65-69</th>\n",
       "      <td>6.617331</td>\n",
       "      <td>55831.0</td>\n",
       "      <td>1.681802e+07</td>\n",
       "    </tr>\n",
       "    <tr>\n",
       "      <th>70-74</th>\n",
       "      <td>5.003848</td>\n",
       "      <td>43683.0</td>\n",
       "      <td>1.271734e+07</td>\n",
       "    </tr>\n",
       "    <tr>\n",
       "      <th>75-79</th>\n",
       "      <td>3.919872</td>\n",
       "      <td>31497.0</td>\n",
       "      <td>9.962399e+06</td>\n",
       "    </tr>\n",
       "    <tr>\n",
       "      <th>80+</th>\n",
       "      <td>4.368379</td>\n",
       "      <td>39723.0</td>\n",
       "      <td>1.110228e+07</td>\n",
       "    </tr>\n",
       "    <tr>\n",
       "      <th>Not Sure/Refused</th>\n",
       "      <td>1.226857</td>\n",
       "      <td>6697.0</td>\n",
       "      <td>3.118070e+06</td>\n",
       "    </tr>\n",
       "    <tr>\n",
       "      <th>Total</th>\n",
       "      <td>100.000000</td>\n",
       "      <td>919354.0</td>\n",
       "      <td>2.541511e+08</td>\n",
       "    </tr>\n",
       "  </tbody>\n",
       "</table>\n",
       "</div>"
      ],
      "text/plain": [
       "                     Percent  Frequency   Weight_freq\n",
       "18-24              12.658092   459677.0  3.217068e+07\n",
       "25-29               8.213207    23034.0  2.087396e+07\n",
       "30-34               9.135461    25432.0  2.321788e+07\n",
       "35-39               8.108885    27192.0  2.060882e+07\n",
       "40-44               7.945350    27195.0  2.019320e+07\n",
       "45-49               7.412601    33014.0  1.883921e+07\n",
       "50-54               9.013114    41810.0  2.290693e+07\n",
       "55-59               8.084989    49799.0  2.054809e+07\n",
       "60-64               8.292014    54770.0  2.107425e+07\n",
       "65-69               6.617331    55831.0  1.681802e+07\n",
       "70-74               5.003848    43683.0  1.271734e+07\n",
       "75-79               3.919872    31497.0  9.962399e+06\n",
       "80+                 4.368379    39723.0  1.110228e+07\n",
       "Not Sure/Refused    1.226857     6697.0  3.118070e+06\n",
       "Total             100.000000   919354.0  2.541511e+08"
      ]
     },
     "execution_count": 394,
     "metadata": {},
     "output_type": "execute_result"
    }
   ],
   "source": [
    "#Setup Statsmodels to get Frequency Weights\n",
    "#one\n",
    "freqTemp = smf.DescrStatsW(temp['one'], weights=WeightVar)\n",
    "counts=np.array(pd.Series(temp.one).value_counts())\n",
    "one=np.array([freqTemp.mean*100,counts[0],freqTemp.sum])\n",
    "#two\n",
    "freqTemp = smf.DescrStatsW(temp['two'], weights=WeightVar)\n",
    "counts=np.array(pd.Series(temp.two).value_counts())\n",
    "two=np.array([freqTemp.mean*100,counts[1],freqTemp.sum])\n",
    "#three\n",
    "freqTemp = smf.DescrStatsW(temp['three'], weights=WeightVar)\n",
    "counts=np.array(pd.Series(temp.three).value_counts())\n",
    "three=np.array([freqTemp.mean*100,counts[1],freqTemp.sum])\n",
    "#four\n",
    "freqTemp = smf.DescrStatsW(temp['four'], weights=WeightVar)\n",
    "counts=np.array(pd.Series(temp.four).value_counts())\n",
    "four=np.array([freqTemp.mean*100,counts[1],freqTemp.sum])\n",
    "#five\n",
    "freqTemp = smf.DescrStatsW(temp['five'], weights=WeightVar)\n",
    "counts=np.array(pd.Series(temp.five).value_counts())\n",
    "five=np.array([freqTemp.mean*100,counts[1],freqTemp.sum])\n",
    "#six\n",
    "freqTemp = smf.DescrStatsW(temp['six'], weights=WeightVar)\n",
    "counts=np.array(pd.Series(temp.six).value_counts())\n",
    "six=np.array([freqTemp.mean*100,counts[1],freqTemp.sum])\n",
    "#seven\n",
    "freqTemp = smf.DescrStatsW(temp['seven'], weights=WeightVar)\n",
    "counts=np.array(pd.Series(temp.seven).value_counts())\n",
    "seven=np.array([freqTemp.mean*100,counts[1],freqTemp.sum])\n",
    "#eight\n",
    "freqTemp = smf.DescrStatsW(temp['eight'], weights=WeightVar)\n",
    "counts=np.array(pd.Series(temp.eight).value_counts())\n",
    "eight=np.array([freqTemp.mean*100,counts[1],freqTemp.sum])\n",
    "#nine\n",
    "freqTemp = smf.DescrStatsW(temp['nine'], weights=WeightVar)\n",
    "counts=np.array(pd.Series(temp.nine).value_counts())\n",
    "nine=np.array([freqTemp.mean*100,counts[1],freqTemp.sum])\n",
    "#ten\n",
    "freqTemp = smf.DescrStatsW(temp['ten'], weights=WeightVar)\n",
    "counts=np.array(pd.Series(temp.ten).value_counts())\n",
    "ten=np.array([freqTemp.mean*100,counts[1],freqTemp.sum])\n",
    "#eleven\n",
    "freqTemp = smf.DescrStatsW(temp['eleven'], weights=WeightVar)\n",
    "counts=np.array(pd.Series(temp.eleven).value_counts())\n",
    "eleven=np.array([freqTemp.mean*100,counts[1],freqTemp.sum])\n",
    "#twelve\n",
    "freqTemp = smf.DescrStatsW(temp['twelve'], weights=WeightVar)\n",
    "counts=np.array(pd.Series(temp.twelve).value_counts())\n",
    "twelve=np.array([freqTemp.mean*100,counts[1],freqTemp.sum])\n",
    "#thirteen\n",
    "freqTemp = smf.DescrStatsW(temp['thirteen'], weights=WeightVar)\n",
    "counts=np.array(pd.Series(temp.thirteen).value_counts())\n",
    "thirteen=np.array([freqTemp.mean*100,counts[1],freqTemp.sum])\n",
    "#fourteen\n",
    "freqTemp = smf.DescrStatsW(temp['fourteen'], weights=WeightVar)\n",
    "counts=np.array(pd.Series(temp.fourteen).value_counts())\n",
    "fourteen=np.array([freqTemp.mean*100,counts[1],freqTemp.sum])\n",
    "\n",
    "#Create Table (DataFrame)\n",
    "freq_table=pd.DataFrame(np.array([one,two,three,four,five,six,seven,eight,\\\n",
    "nine,ten,eleven,twelve,thirteen,fourteen]),columns=['Percent','Frequency','Weight_freq'])\n",
    "\n",
    "#Modify index rows\n",
    "first,second,third,fourth,fifth,sixth,seventh,eighth,ninth,tenth,eleventh,twelfth,thirteenth,fourteenth = \\\n",
    "freq_table.index[0],freq_table.index[1],freq_table.index[2],freq_table.index[3],\\\n",
    "freq_table.index[4],freq_table.index[5],freq_table.index[6],freq_table.index[7],\\\n",
    "freq_table.index[8],freq_table.index[9],freq_table.index[10],\\\n",
    "freq_table.index[11],freq_table.index[12],freq_table.index[13]\n",
    "freq_table.rename(index={first: '18-24',second: '25-29',third: '30-34',fourth:'35-39',fifth:'40-44',sixth:'45-49',seventh:'50-54',eighth:'55-59',ninth:'60-64',tenth:'65-69',eleventh:'70-74',twelfth:'75-79',thirteenth:'80+',fourteenth:'Not Sure/Refused'},inplace=True)\n",
    "#Create Totals Row\n",
    "last=np.array([round(freq_table['Percent'].sum()),round(freq_table['Frequency'].sum()),round(freq_table['Weight_freq'].sum())])\n",
    "freq_table.loc[len(freq_table)]=last\n",
    "freq_table.rename(index={14:'Total'},inplace=True)\n",
    "print('Self-Reported: Age in five-year age categores.')\n",
    "freq_table"
   ]
  },
  {
   "cell_type": "code",
   "execution_count": 395,
   "metadata": {},
   "outputs": [
    {
     "data": {
      "application/vnd.plotly.v1+json": {
       "data": [
        {
         "marker": {
          "color": [
           "rgb(204,192,218)",
           "rgb(217,217,217)",
           "rgb(217,217,217)",
           "rgb(217,217,217)",
           "rgb(217,217,217)",
           "rgb(217,217,217)",
           "rgb(217,217,217)",
           "rgb(217,217,217)",
           "rgb(217,217,217)",
           "rgb(217,217,217)",
           "rgb(217,217,217)",
           "rgb(217,217,217)",
           "rgb(217,217,217)"
          ],
          "line": {
           "color": "rgb(68,68,68)",
           "width": 1.5
          }
         },
         "opacity": 0.6,
         "text": [
          12.7,
          8.2,
          9.1,
          8.1,
          7.9,
          7.4,
          9,
          8.1,
          8.3,
          6.6,
          5,
          3.9,
          4.4
         ],
         "textposition": "outside",
         "type": "bar",
         "x": [
          "18-24",
          "25-29",
          "30-34",
          "35-39",
          "40-44",
          "45-49",
          "50-54",
          "55-59",
          "60-64",
          "65-69",
          "70-74",
          "75-79",
          "80+"
         ],
         "y": [
          12.658091874130614,
          8.213207228403068,
          9.135460734910962,
          8.10888497820941,
          7.945350029384157,
          7.412601210559311,
          9.01311428735861,
          8.084989152923786,
          8.292013942678146,
          6.617330657878146,
          5.00384841728398,
          3.9198719054820272,
          4.368379055023086
         ]
        }
       ],
       "layout": {
        "title": "Among 5 year age groupings <br>the largest proportion U.S. adults who responded to the survey <br> are among the age range of 18-24.",
        "xaxis": {
         "tickangle": 0,
         "ticks": ""
        },
        "yaxis": {
         "showgrid": false,
         "showticklabels": false,
         "ticks": "",
         "title": "Age Groupings (%)",
         "titlefont": {
          "color": "444444",
          "family": "Arial, sans-serif",
          "size": 18
         }
        }
       }
      },
      "text/html": [
       "<div id=\"bca993ba-0291-4973-b078-0b6e9bca5746\" style=\"height: 525px; width: 100%;\" class=\"plotly-graph-div\"></div><script type=\"text/javascript\">require([\"plotly\"], function(Plotly) { window.PLOTLYENV=window.PLOTLYENV || {};window.PLOTLYENV.BASE_URL=\"https://plot.ly\";Plotly.newPlot(\"bca993ba-0291-4973-b078-0b6e9bca5746\", [{\"type\": \"bar\", \"x\": [\"18-24\", \"25-29\", \"30-34\", \"35-39\", \"40-44\", \"45-49\", \"50-54\", \"55-59\", \"60-64\", \"65-69\", \"70-74\", \"75-79\", \"80+\"], \"y\": [12.658091874130614, 8.213207228403068, 9.135460734910962, 8.10888497820941, 7.945350029384157, 7.412601210559311, 9.01311428735861, 8.084989152923786, 8.292013942678146, 6.617330657878146, 5.00384841728398, 3.9198719054820272, 4.368379055023086], \"text\": [12.7, 8.2, 9.1, 8.1, 7.9, 7.4, 9.0, 8.1, 8.3, 6.6, 5.0, 3.9, 4.4], \"textposition\": \"outside\", \"marker\": {\"color\": [\"rgb(204,192,218)\", \"rgb(217,217,217)\", \"rgb(217,217,217)\", \"rgb(217,217,217)\", \"rgb(217,217,217)\", \"rgb(217,217,217)\", \"rgb(217,217,217)\", \"rgb(217,217,217)\", \"rgb(217,217,217)\", \"rgb(217,217,217)\", \"rgb(217,217,217)\", \"rgb(217,217,217)\", \"rgb(217,217,217)\"], \"line\": {\"color\": \"rgb(68,68,68)\", \"width\": 1.5}}, \"opacity\": 0.6}], {\"title\": \"Among 5 year age groupings <br>the largest proportion U.S. adults who responded to the survey <br> are among the age range of 18-24.\", \"yaxis\": {\"title\": \"Age Groupings (%)\", \"ticks\": \"\", \"showticklabels\": false, \"showgrid\": false, \"titlefont\": {\"family\": \"Arial, sans-serif\", \"size\": 18, \"color\": \"444444\"}}, \"xaxis\": {\"ticks\": \"\", \"tickangle\": 0}}, {\"showLink\": true, \"linkText\": \"Export to plot.ly\"})});</script>"
      ],
      "text/vnd.plotly.v1+html": [
       "<div id=\"bca993ba-0291-4973-b078-0b6e9bca5746\" style=\"height: 525px; width: 100%;\" class=\"plotly-graph-div\"></div><script type=\"text/javascript\">require([\"plotly\"], function(Plotly) { window.PLOTLYENV=window.PLOTLYENV || {};window.PLOTLYENV.BASE_URL=\"https://plot.ly\";Plotly.newPlot(\"bca993ba-0291-4973-b078-0b6e9bca5746\", [{\"type\": \"bar\", \"x\": [\"18-24\", \"25-29\", \"30-34\", \"35-39\", \"40-44\", \"45-49\", \"50-54\", \"55-59\", \"60-64\", \"65-69\", \"70-74\", \"75-79\", \"80+\"], \"y\": [12.658091874130614, 8.213207228403068, 9.135460734910962, 8.10888497820941, 7.945350029384157, 7.412601210559311, 9.01311428735861, 8.084989152923786, 8.292013942678146, 6.617330657878146, 5.00384841728398, 3.9198719054820272, 4.368379055023086], \"text\": [12.7, 8.2, 9.1, 8.1, 7.9, 7.4, 9.0, 8.1, 8.3, 6.6, 5.0, 3.9, 4.4], \"textposition\": \"outside\", \"marker\": {\"color\": [\"rgb(204,192,218)\", \"rgb(217,217,217)\", \"rgb(217,217,217)\", \"rgb(217,217,217)\", \"rgb(217,217,217)\", \"rgb(217,217,217)\", \"rgb(217,217,217)\", \"rgb(217,217,217)\", \"rgb(217,217,217)\", \"rgb(217,217,217)\", \"rgb(217,217,217)\", \"rgb(217,217,217)\", \"rgb(217,217,217)\"], \"line\": {\"color\": \"rgb(68,68,68)\", \"width\": 1.5}}, \"opacity\": 0.6}], {\"title\": \"Among 5 year age groupings <br>the largest proportion U.S. adults who responded to the survey <br> are among the age range of 18-24.\", \"yaxis\": {\"title\": \"Age Groupings (%)\", \"ticks\": \"\", \"showticklabels\": false, \"showgrid\": false, \"titlefont\": {\"family\": \"Arial, sans-serif\", \"size\": 18, \"color\": \"444444\"}}, \"xaxis\": {\"ticks\": \"\", \"tickangle\": 0}}, {\"showLink\": true, \"linkText\": \"Export to plot.ly\"})});</script>"
      ]
     },
     "metadata": {},
     "output_type": "display_data"
    }
   ],
   "source": [
    "graphData=freq_table.reset_index().copy()\n",
    "#pass data in\n",
    "data = [go.Bar(x=graphData.loc[0:12]['index'],\n",
    "               y=graphData.loc[0:12]['Percent'],\n",
    "               text=round((graphData.loc[0:12]['Percent']),1),\n",
    "               textposition='outside',marker=dict(\n",
    "               color=['rgb(204,192,218)',\n",
    "                      'rgb(217,217,217)',\n",
    "                      'rgb(217,217,217)',\n",
    "                      'rgb(217,217,217)',\n",
    "                      'rgb(217,217,217)',\n",
    "                      'rgb(217,217,217)',\n",
    "                      'rgb(217,217,217)',\n",
    "                      'rgb(217,217,217)',\n",
    "                      'rgb(217,217,217)',\n",
    "                      'rgb(217,217,217)',\n",
    "                      'rgb(217,217,217)',\n",
    "                      'rgb(217,217,217)',\n",
    "                      'rgb(217,217,217)']\n",
    "                   ,line=dict(color='rgb(68,68,68)',\n",
    "               width=1.5),),opacity=0.6)]\n",
    "\n",
    "layout = go.Layout(\n",
    "                title='Among 5 year age groupings <br>the largest proportion U.S. adults who responded to the survey <br> are among the age range of 18-24.',\n",
    "                yaxis=dict(title='Age Groupings (%)',ticks='',showticklabels=False,showgrid=False,\n",
    "                titlefont=dict(family='Arial, sans-serif',size=18,color='444444',))\n",
    "                ,xaxis=dict(ticks='',tickangle=0))\n",
    "\n",
    "fig = go.Figure(data=data, layout=layout)\n",
    "py.iplot(fig, filename='text-hover-bar')"
   ]
  },
  {
   "cell_type": "markdown",
   "metadata": {},
   "source": [
    "**Mental Health**"
   ]
  },
  {
   "cell_type": "code",
   "execution_count": 510,
   "metadata": {
    "collapsed": true
   },
   "outputs": [],
   "source": [
    "#np.dtype(BRFSS2016['_MENT14D'])\n",
    "#dtype('int64')\n",
    "temp=pd.DataFrame(BRFSS2016['_MENT14D'])\n",
    "#one-hot encoding\n",
    "for x in temp._MENT14D.unique():\n",
    "    temp[x]=(temp._MENT14D==x).astype(int)\n",
    "\n",
    "#temp.columns\n",
    "#Index(['_MENT14D', 1, 2, 3, 9], dtype='object')\n",
    "temp.rename(columns={'_MENT14D':'MentHealth', 1:'one', 2:'two', 3:'three', 9:'nine'}, inplace=True)"
   ]
  },
  {
   "cell_type": "code",
   "execution_count": 511,
   "metadata": {},
   "outputs": [
    {
     "name": "stdout",
     "output_type": "stream",
     "text": [
      "CDC Calculated Variable: Number of days mental health was not good in the last 30 Days.\n"
     ]
    },
    {
     "data": {
      "text/html": [
       "<div>\n",
       "<style>\n",
       "    .dataframe thead tr:only-child th {\n",
       "        text-align: right;\n",
       "    }\n",
       "\n",
       "    .dataframe thead th {\n",
       "        text-align: left;\n",
       "    }\n",
       "\n",
       "    .dataframe tbody tr th {\n",
       "        vertical-align: top;\n",
       "    }\n",
       "</style>\n",
       "<table border=\"1\" class=\"dataframe\">\n",
       "  <thead>\n",
       "    <tr style=\"text-align: right;\">\n",
       "      <th></th>\n",
       "      <th>Percent</th>\n",
       "      <th>Frequency</th>\n",
       "      <th>Weight_freq</th>\n",
       "    </tr>\n",
       "  </thead>\n",
       "  <tbody>\n",
       "    <tr>\n",
       "      <th>0 Days</th>\n",
       "      <td>64.735937</td>\n",
       "      <td>329500.0</td>\n",
       "      <td>1.645271e+08</td>\n",
       "    </tr>\n",
       "    <tr>\n",
       "      <th>1-13 Days</th>\n",
       "      <td>22.196703</td>\n",
       "      <td>97942.0</td>\n",
       "      <td>5.641317e+07</td>\n",
       "    </tr>\n",
       "    <tr>\n",
       "      <th>14+ Days</th>\n",
       "      <td>11.485141</td>\n",
       "      <td>50906.0</td>\n",
       "      <td>2.918962e+07</td>\n",
       "    </tr>\n",
       "    <tr>\n",
       "      <th>Not Sure/Refused</th>\n",
       "      <td>1.582219</td>\n",
       "      <td>7955.0</td>\n",
       "      <td>4.021228e+06</td>\n",
       "    </tr>\n",
       "    <tr>\n",
       "      <th>Total</th>\n",
       "      <td>100.000000</td>\n",
       "      <td>486303.0</td>\n",
       "      <td>2.541511e+08</td>\n",
       "    </tr>\n",
       "  </tbody>\n",
       "</table>\n",
       "</div>"
      ],
      "text/plain": [
       "                     Percent  Frequency   Weight_freq\n",
       "0 Days             64.735937   329500.0  1.645271e+08\n",
       "1-13 Days          22.196703    97942.0  5.641317e+07\n",
       "14+ Days           11.485141    50906.0  2.918962e+07\n",
       "Not Sure/Refused    1.582219     7955.0  4.021228e+06\n",
       "Total             100.000000   486303.0  2.541511e+08"
      ]
     },
     "execution_count": 511,
     "metadata": {},
     "output_type": "execute_result"
    }
   ],
   "source": [
    "#Setup Statsmodels to get Frequency Weights\n",
    "#one\n",
    "freqTemp = smf.DescrStatsW(temp['one'], weights=WeightVar)\n",
    "counts=np.array(pd.Series(temp.one).value_counts())\n",
    "one=np.array([freqTemp.mean*100,counts[0],freqTemp.sum])\n",
    "#two\n",
    "freqTemp = smf.DescrStatsW(temp['two'], weights=WeightVar)\n",
    "counts=np.array(pd.Series(temp.two).value_counts())\n",
    "two=np.array([freqTemp.mean*100,counts[1],freqTemp.sum])\n",
    "#three\n",
    "freqTemp = smf.DescrStatsW(temp['three'], weights=WeightVar)\n",
    "counts=np.array(pd.Series(temp.three).value_counts())\n",
    "three=np.array([freqTemp.mean*100,counts[1],freqTemp.sum])\n",
    "#nine\n",
    "freqTemp = smf.DescrStatsW(temp['nine'], weights=WeightVar)\n",
    "counts=np.array(pd.Series(temp.nine).value_counts())\n",
    "nine=np.array([freqTemp.mean*100,counts[1],freqTemp.sum])\n",
    "\n",
    "#Create Table (DataFrame)\n",
    "freq_table=pd.DataFrame(np.array([one,two,three,nine]),columns=['Percent','Frequency','Weight_freq'])\n",
    "#Modify index rows\n",
    "first,second,third,ninth = freq_table.index[0],freq_table.index[1],freq_table.index[2],freq_table.index[3]\n",
    "freq_table.rename(index={first: '0 Days',second: '1-13 Days',third: '14+ Days',ninth:'Not Sure/Refused'},inplace=True)\n",
    "#Create Totals Row\n",
    "last=np.array([round(freq_table['Percent'].sum()),round(freq_table['Frequency'].sum()),round(freq_table['Weight_freq'].sum())])\n",
    "freq_table.loc[len(freq_table)]=last\n",
    "freq_table.rename(index={4:'Total'},inplace=True)\n",
    "print('CDC Calculated Variable: Number of days mental health was not good in the last 30 Days.')\n",
    "freq_table"
   ]
  },
  {
   "cell_type": "code",
   "execution_count": 514,
   "metadata": {},
   "outputs": [
    {
     "data": {
      "application/vnd.plotly.v1+json": {
       "data": [
        {
         "marker": {
          "color": [
           "rgb(217,217,217)",
           "rgb(196,215,155)",
           "rgb(217,217,217)"
          ],
          "line": {
           "color": "rgb(68,68,68)",
           "width": 1.5
          }
         },
         "opacity": 0.6,
         "text": [
          64.7,
          22.2,
          11.5
         ],
         "textposition": "outside",
         "type": "bar",
         "x": [
          "0 Days",
          "1-13 Days",
          "14+ Days"
         ],
         "y": [
          64.73593679386887,
          22.19670260298837,
          11.485141401690445
         ]
        }
       ],
       "layout": {
        "title": "Nearly 1 in 5 U.S. adults report <br> experiencing at least 1 day within the last two weeks feeling their mental health status <br> was \"Not good\".",
        "xaxis": {
         "tickangle": 0,
         "ticks": ""
        },
        "yaxis": {
         "showgrid": false,
         "showticklabels": false,
         "ticks": "",
         "title": "Mental Health Status (%)",
         "titlefont": {
          "color": "444444",
          "family": "Arial, sans-serif",
          "size": 18
         }
        }
       }
      },
      "text/html": [
       "<div id=\"583cc4c4-06dd-41b6-815f-7c3c0fc48cd8\" style=\"height: 525px; width: 100%;\" class=\"plotly-graph-div\"></div><script type=\"text/javascript\">require([\"plotly\"], function(Plotly) { window.PLOTLYENV=window.PLOTLYENV || {};window.PLOTLYENV.BASE_URL=\"https://plot.ly\";Plotly.newPlot(\"583cc4c4-06dd-41b6-815f-7c3c0fc48cd8\", [{\"type\": \"bar\", \"x\": [\"0 Days\", \"1-13 Days\", \"14+ Days\"], \"y\": [64.73593679386887, 22.19670260298837, 11.485141401690445], \"text\": [64.7, 22.2, 11.5], \"textposition\": \"outside\", \"marker\": {\"color\": [\"rgb(217,217,217)\", \"rgb(196,215,155)\", \"rgb(217,217,217)\"], \"line\": {\"color\": \"rgb(68,68,68)\", \"width\": 1.5}}, \"opacity\": 0.6}], {\"title\": \"Nearly 1 in 5 U.S. adults report <br> experiencing at least 1 day within the last two weeks feeling their mental health status <br> was \\\"Not good\\\".\", \"yaxis\": {\"title\": \"Mental Health Status (%)\", \"ticks\": \"\", \"showticklabels\": false, \"showgrid\": false, \"titlefont\": {\"family\": \"Arial, sans-serif\", \"size\": 18, \"color\": \"444444\"}}, \"xaxis\": {\"ticks\": \"\", \"tickangle\": 0}}, {\"showLink\": true, \"linkText\": \"Export to plot.ly\"})});</script>"
      ],
      "text/vnd.plotly.v1+html": [
       "<div id=\"583cc4c4-06dd-41b6-815f-7c3c0fc48cd8\" style=\"height: 525px; width: 100%;\" class=\"plotly-graph-div\"></div><script type=\"text/javascript\">require([\"plotly\"], function(Plotly) { window.PLOTLYENV=window.PLOTLYENV || {};window.PLOTLYENV.BASE_URL=\"https://plot.ly\";Plotly.newPlot(\"583cc4c4-06dd-41b6-815f-7c3c0fc48cd8\", [{\"type\": \"bar\", \"x\": [\"0 Days\", \"1-13 Days\", \"14+ Days\"], \"y\": [64.73593679386887, 22.19670260298837, 11.485141401690445], \"text\": [64.7, 22.2, 11.5], \"textposition\": \"outside\", \"marker\": {\"color\": [\"rgb(217,217,217)\", \"rgb(196,215,155)\", \"rgb(217,217,217)\"], \"line\": {\"color\": \"rgb(68,68,68)\", \"width\": 1.5}}, \"opacity\": 0.6}], {\"title\": \"Nearly 1 in 5 U.S. adults report <br> experiencing at least 1 day within the last two weeks feeling their mental health status <br> was \\\"Not good\\\".\", \"yaxis\": {\"title\": \"Mental Health Status (%)\", \"ticks\": \"\", \"showticklabels\": false, \"showgrid\": false, \"titlefont\": {\"family\": \"Arial, sans-serif\", \"size\": 18, \"color\": \"444444\"}}, \"xaxis\": {\"ticks\": \"\", \"tickangle\": 0}}, {\"showLink\": true, \"linkText\": \"Export to plot.ly\"})});</script>"
      ]
     },
     "metadata": {},
     "output_type": "display_data"
    }
   ],
   "source": [
    "graphData=freq_table.reset_index().copy()\n",
    "#pass data in\n",
    "data = [go.Bar(x=graphData.loc[0:2]['index'],\n",
    "               y=graphData.loc[0:2]['Percent'],\n",
    "               text=round((graphData.loc[0:2]['Percent']),1),\n",
    "               textposition='outside',marker=dict(\n",
    "               color=['rgb(217,217,217)',\n",
    "                      'rgb(196,215,155)',\n",
    "                      'rgb(217,217,217)']\n",
    "                   ,line=dict(color='rgb(68,68,68)',\n",
    "               width=1.5),),opacity=0.6)]\n",
    "\n",
    "layout = go.Layout(\n",
    "                title='Nearly 1 in 5 U.S. adults report <br> experiencing at least 1 day within the last two weeks feeling their mental health status <br> was \"Not good\".',\n",
    "                yaxis=dict(title='Mental Health Status (%)',ticks='',showticklabels=False,showgrid=False,\n",
    "                titlefont=dict(family='Arial, sans-serif',size=18,color='444444',))\n",
    "                ,xaxis=dict(ticks='',tickangle=0))\n",
    "\n",
    "fig = go.Figure(data=data, layout=layout)\n",
    "py.iplot(fig, filename='text-hover-bar')"
   ]
  },
  {
   "cell_type": "markdown",
   "metadata": {
    "collapsed": true
   },
   "source": [
    "**Alcohol**"
   ]
  },
  {
   "cell_type": "code",
   "execution_count": 399,
   "metadata": {
    "collapsed": true
   },
   "outputs": [],
   "source": [
    "temp=pd.DataFrame(BRFSS2016['_RFBING5'])\n",
    "#one-hot encoding\n",
    "for x in temp._RFBING5.unique():\n",
    "    temp[x]=(temp._RFBING5==x).astype(int)\n",
    "\n",
    "#temp.columns\n",
    "#Index(['_RFBING5', 1, 2, 9], dtype='object')\n",
    "temp.rename(columns={'_MENT14D':'BingDrink', 1:'one', 2:'two', 9:'nine'}, inplace=True)"
   ]
  },
  {
   "cell_type": "code",
   "execution_count": 400,
   "metadata": {},
   "outputs": [
    {
     "name": "stdout",
     "output_type": "stream",
     "text": [
      "CDC Calculated Variable: Calculated variable for binge drinkers.\n"
     ]
    },
    {
     "data": {
      "text/html": [
       "<div>\n",
       "<style>\n",
       "    .dataframe thead tr:only-child th {\n",
       "        text-align: right;\n",
       "    }\n",
       "\n",
       "    .dataframe thead th {\n",
       "        text-align: left;\n",
       "    }\n",
       "\n",
       "    .dataframe tbody tr th {\n",
       "        vertical-align: top;\n",
       "    }\n",
       "</style>\n",
       "<table border=\"1\" class=\"dataframe\">\n",
       "  <thead>\n",
       "    <tr style=\"text-align: right;\">\n",
       "      <th></th>\n",
       "      <th>Percent</th>\n",
       "      <th>Frequency</th>\n",
       "      <th>Weight_freq</th>\n",
       "    </tr>\n",
       "  </thead>\n",
       "  <tbody>\n",
       "    <tr>\n",
       "      <th>No</th>\n",
       "      <td>76.975496</td>\n",
       "      <td>397997.0</td>\n",
       "      <td>1.956341e+08</td>\n",
       "    </tr>\n",
       "    <tr>\n",
       "      <th>Yes</th>\n",
       "      <td>15.616374</td>\n",
       "      <td>59205.0</td>\n",
       "      <td>3.968919e+07</td>\n",
       "    </tr>\n",
       "    <tr>\n",
       "      <th>Not Sure/Refused</th>\n",
       "      <td>7.408130</td>\n",
       "      <td>29101.0</td>\n",
       "      <td>1.882785e+07</td>\n",
       "    </tr>\n",
       "    <tr>\n",
       "      <th>Total</th>\n",
       "      <td>100.000000</td>\n",
       "      <td>486303.0</td>\n",
       "      <td>2.541511e+08</td>\n",
       "    </tr>\n",
       "  </tbody>\n",
       "</table>\n",
       "</div>"
      ],
      "text/plain": [
       "                     Percent  Frequency   Weight_freq\n",
       "No                 76.975496   397997.0  1.956341e+08\n",
       "Yes                15.616374    59205.0  3.968919e+07\n",
       "Not Sure/Refused    7.408130    29101.0  1.882785e+07\n",
       "Total             100.000000   486303.0  2.541511e+08"
      ]
     },
     "execution_count": 400,
     "metadata": {},
     "output_type": "execute_result"
    }
   ],
   "source": [
    "#Setup Statsmodels to get Frequency Weights\n",
    "#one\n",
    "freqTemp = smf.DescrStatsW(temp['one'], weights=WeightVar)\n",
    "counts=np.array(pd.Series(temp.one).value_counts())\n",
    "one=np.array([freqTemp.mean*100,counts[0],freqTemp.sum])\n",
    "#two\n",
    "freqTemp = smf.DescrStatsW(temp['two'], weights=WeightVar)\n",
    "counts=np.array(pd.Series(temp.two).value_counts())\n",
    "two=np.array([freqTemp.mean*100,counts[1],freqTemp.sum])\n",
    "#nine\n",
    "freqTemp = smf.DescrStatsW(temp['nine'], weights=WeightVar)\n",
    "counts=np.array(pd.Series(temp.nine).value_counts())\n",
    "nine=np.array([freqTemp.mean*100,counts[1],freqTemp.sum])\n",
    "\n",
    "#Create Table (DataFrame)\n",
    "freq_table=pd.DataFrame(np.array([one,two,nine]),columns=['Percent','Frequency','Weight_freq'])\n",
    "#Modify index rows\n",
    "first,second,ninth = freq_table.index[0],freq_table.index[1],freq_table.index[2]\n",
    "freq_table.rename(index={first: 'No',second: 'Yes',ninth:'Not Sure/Refused'},inplace=True)\n",
    "#Create Totals Row\n",
    "last=np.array([round(freq_table['Percent'].sum()),round(freq_table['Frequency'].sum()),round(freq_table['Weight_freq'].sum())])\n",
    "freq_table.loc[len(freq_table)]=last\n",
    "freq_table.rename(index={3:'Total'},inplace=True)\n",
    "print('CDC Calculated Variable: Calculated variable for binge drinkers.')\n",
    "freq_table"
   ]
  },
  {
   "cell_type": "code",
   "execution_count": 401,
   "metadata": {},
   "outputs": [
    {
     "data": {
      "application/vnd.plotly.v1+json": {
       "data": [
        {
         "marker": {
          "color": [
           "rgb(217,217,217)",
           "rgb(237,238,178)",
           "rgb(217,217,217)"
          ],
          "line": {
           "color": "rgb(68,68,68)",
           "width": 1.5
          }
         },
         "opacity": 0.6,
         "text": [
          77,
          15.6,
          7.4
         ],
         "textposition": "outside",
         "type": "bar",
         "x": [
          "No",
          "Yes",
          "Not Sure/Refused"
         ],
         "y": [
          76.97549603168011,
          15.616373778219808,
          7.408130190100078
         ]
        }
       ],
       "layout": {
        "title": "Nearly 1 out of 6 of U.S. adults who responded to the survey <br> reported to be binge drinkers.",
        "xaxis": {
         "tickangle": 0,
         "ticks": ""
        },
        "yaxis": {
         "showgrid": false,
         "showticklabels": false,
         "ticks": "",
         "title": "Binge Drinking (%)",
         "titlefont": {
          "color": "444444",
          "family": "Arial, sans-serif",
          "size": 18
         }
        }
       }
      },
      "text/html": [
       "<div id=\"80d8c985-2521-417f-ad2c-02c6bd3aa237\" style=\"height: 525px; width: 100%;\" class=\"plotly-graph-div\"></div><script type=\"text/javascript\">require([\"plotly\"], function(Plotly) { window.PLOTLYENV=window.PLOTLYENV || {};window.PLOTLYENV.BASE_URL=\"https://plot.ly\";Plotly.newPlot(\"80d8c985-2521-417f-ad2c-02c6bd3aa237\", [{\"type\": \"bar\", \"x\": [\"No\", \"Yes\", \"Not Sure/Refused\"], \"y\": [76.97549603168011, 15.616373778219808, 7.408130190100078], \"text\": [77.0, 15.6, 7.4], \"textposition\": \"outside\", \"marker\": {\"color\": [\"rgb(217,217,217)\", \"rgb(237,238,178)\", \"rgb(217,217,217)\"], \"line\": {\"color\": \"rgb(68,68,68)\", \"width\": 1.5}}, \"opacity\": 0.6}], {\"title\": \"Nearly 1 out of 6 of U.S. adults who responded to the survey <br> reported to be binge drinkers.\", \"yaxis\": {\"title\": \"Binge Drinking (%)\", \"ticks\": \"\", \"showticklabels\": false, \"showgrid\": false, \"titlefont\": {\"family\": \"Arial, sans-serif\", \"size\": 18, \"color\": \"444444\"}}, \"xaxis\": {\"ticks\": \"\", \"tickangle\": 0}}, {\"showLink\": true, \"linkText\": \"Export to plot.ly\"})});</script>"
      ],
      "text/vnd.plotly.v1+html": [
       "<div id=\"80d8c985-2521-417f-ad2c-02c6bd3aa237\" style=\"height: 525px; width: 100%;\" class=\"plotly-graph-div\"></div><script type=\"text/javascript\">require([\"plotly\"], function(Plotly) { window.PLOTLYENV=window.PLOTLYENV || {};window.PLOTLYENV.BASE_URL=\"https://plot.ly\";Plotly.newPlot(\"80d8c985-2521-417f-ad2c-02c6bd3aa237\", [{\"type\": \"bar\", \"x\": [\"No\", \"Yes\", \"Not Sure/Refused\"], \"y\": [76.97549603168011, 15.616373778219808, 7.408130190100078], \"text\": [77.0, 15.6, 7.4], \"textposition\": \"outside\", \"marker\": {\"color\": [\"rgb(217,217,217)\", \"rgb(237,238,178)\", \"rgb(217,217,217)\"], \"line\": {\"color\": \"rgb(68,68,68)\", \"width\": 1.5}}, \"opacity\": 0.6}], {\"title\": \"Nearly 1 out of 6 of U.S. adults who responded to the survey <br> reported to be binge drinkers.\", \"yaxis\": {\"title\": \"Binge Drinking (%)\", \"ticks\": \"\", \"showticklabels\": false, \"showgrid\": false, \"titlefont\": {\"family\": \"Arial, sans-serif\", \"size\": 18, \"color\": \"444444\"}}, \"xaxis\": {\"ticks\": \"\", \"tickangle\": 0}}, {\"showLink\": true, \"linkText\": \"Export to plot.ly\"})});</script>"
      ]
     },
     "metadata": {},
     "output_type": "display_data"
    }
   ],
   "source": [
    "graphData=freq_table.reset_index().copy()\n",
    "#pass data in\n",
    "data = [go.Bar(x=graphData.loc[0:2]['index'],\n",
    "               y=graphData.loc[0:2]['Percent'],\n",
    "               text=round((graphData.loc[0:2]['Percent']),1),\n",
    "               textposition='outside',marker=dict(\n",
    "               color=['rgb(217,217,217)',\n",
    "                      'rgb(237,238,178)',\n",
    "                      'rgb(217,217,217)']\n",
    "                   ,line=dict(color='rgb(68,68,68)',\n",
    "               width=1.5),),opacity=0.6)]\n",
    "\n",
    "layout = go.Layout(\n",
    "                title='Nearly 1 out of 6 of U.S. adults who responded to the survey <br> reported to be binge drinkers.',\n",
    "                yaxis=dict(title='Binge Drinking (%)',ticks='',showticklabels=False,showgrid=False,\n",
    "                titlefont=dict(family='Arial, sans-serif',size=18,color='444444',))\n",
    "                ,xaxis=dict(ticks='',tickangle=0))\n",
    "\n",
    "fig = go.Figure(data=data, layout=layout)\n",
    "py.iplot(fig, filename='text-hover-bar')"
   ]
  },
  {
   "cell_type": "markdown",
   "metadata": {
    "collapsed": true
   },
   "source": [
    "**Smoking**"
   ]
  },
  {
   "cell_type": "code",
   "execution_count": 402,
   "metadata": {
    "collapsed": true
   },
   "outputs": [],
   "source": [
    "temp=pd.DataFrame(BRFSS2016['_RFSMOK3'])\n",
    "#one-hot encoding\n",
    "for x in temp._RFSMOK3.unique():\n",
    "    temp[x]=(temp._RFSMOK3==x).astype(int)\n",
    "\n",
    "#temp.columns\n",
    "#Index(['_RFSMOK3', 1, 2, 9], dtype='object')\n",
    "temp.rename(columns={'_RFSMOK3':'TOBUSER', 1:'one', 2:'two', 9:'nine'}, inplace=True)"
   ]
  },
  {
   "cell_type": "code",
   "execution_count": 403,
   "metadata": {},
   "outputs": [
    {
     "name": "stdout",
     "output_type": "stream",
     "text": [
      "CDC Calculated Variable: Calculated variable for current tobacco use.\n"
     ]
    },
    {
     "data": {
      "text/html": [
       "<div>\n",
       "<style>\n",
       "    .dataframe thead tr:only-child th {\n",
       "        text-align: right;\n",
       "    }\n",
       "\n",
       "    .dataframe thead th {\n",
       "        text-align: left;\n",
       "    }\n",
       "\n",
       "    .dataframe tbody tr th {\n",
       "        vertical-align: top;\n",
       "    }\n",
       "</style>\n",
       "<table border=\"1\" class=\"dataframe\">\n",
       "  <thead>\n",
       "    <tr style=\"text-align: right;\">\n",
       "      <th></th>\n",
       "      <th>Percent</th>\n",
       "      <th>Frequency</th>\n",
       "      <th>Weight_freq</th>\n",
       "    </tr>\n",
       "  </thead>\n",
       "  <tbody>\n",
       "    <tr>\n",
       "      <th>No</th>\n",
       "      <td>79.403604</td>\n",
       "      <td>397533.0</td>\n",
       "      <td>2.018052e+08</td>\n",
       "    </tr>\n",
       "    <tr>\n",
       "      <th>Yes</th>\n",
       "      <td>15.473551</td>\n",
       "      <td>68942.0</td>\n",
       "      <td>3.932621e+07</td>\n",
       "    </tr>\n",
       "    <tr>\n",
       "      <th>Not Sure/Refused</th>\n",
       "      <td>5.122845</td>\n",
       "      <td>19828.0</td>\n",
       "      <td>1.301977e+07</td>\n",
       "    </tr>\n",
       "    <tr>\n",
       "      <th>Total</th>\n",
       "      <td>100.000000</td>\n",
       "      <td>486303.0</td>\n",
       "      <td>2.541511e+08</td>\n",
       "    </tr>\n",
       "  </tbody>\n",
       "</table>\n",
       "</div>"
      ],
      "text/plain": [
       "                     Percent  Frequency   Weight_freq\n",
       "No                 79.403604   397533.0  2.018052e+08\n",
       "Yes                15.473551    68942.0  3.932621e+07\n",
       "Not Sure/Refused    5.122845    19828.0  1.301977e+07\n",
       "Total             100.000000   486303.0  2.541511e+08"
      ]
     },
     "execution_count": 403,
     "metadata": {},
     "output_type": "execute_result"
    }
   ],
   "source": [
    "#Setup Statsmodels to get Frequency Weights\n",
    "#one\n",
    "freqTemp = smf.DescrStatsW(temp['one'], weights=WeightVar)\n",
    "counts=np.array(pd.Series(temp.one).value_counts())\n",
    "one=np.array([freqTemp.mean*100,counts[0],freqTemp.sum])\n",
    "#two\n",
    "freqTemp = smf.DescrStatsW(temp['two'], weights=WeightVar)\n",
    "counts=np.array(pd.Series(temp.two).value_counts())\n",
    "two=np.array([freqTemp.mean*100,counts[1],freqTemp.sum])\n",
    "#nine\n",
    "freqTemp = smf.DescrStatsW(temp['nine'], weights=WeightVar)\n",
    "counts=np.array(pd.Series(temp.nine).value_counts())\n",
    "nine=np.array([freqTemp.mean*100,counts[1],freqTemp.sum])\n",
    "\n",
    "#Create Table (DataFrame)\n",
    "freq_table=pd.DataFrame(np.array([one,two,nine]),columns=['Percent','Frequency','Weight_freq'])\n",
    "#Modify index rows\n",
    "first,second,ninth = freq_table.index[0],freq_table.index[1],freq_table.index[2]\n",
    "freq_table.rename(index={first: 'No',second: 'Yes',ninth:'Not Sure/Refused'},inplace=True)\n",
    "#Create Totals Row\n",
    "last=np.array([round(freq_table['Percent'].sum()),round(freq_table['Frequency'].sum()),round(freq_table['Weight_freq'].sum())])\n",
    "freq_table.loc[len(freq_table)]=last\n",
    "freq_table.rename(index={3:'Total'},inplace=True)\n",
    "print('CDC Calculated Variable: Calculated variable for current tobacco use.')\n",
    "freq_table"
   ]
  },
  {
   "cell_type": "code",
   "execution_count": 404,
   "metadata": {},
   "outputs": [
    {
     "data": {
      "application/vnd.plotly.v1+json": {
       "data": [
        {
         "marker": {
          "color": [
           "rgb(217,217,217)",
           "rgb(148,138,84)",
           "rgb(217,217,217)"
          ],
          "line": {
           "color": "rgb(68,68,68)",
           "width": 1.5
          }
         },
         "opacity": 0.6,
         "text": [
          79.4,
          15.5,
          5.1
         ],
         "textposition": "outside",
         "type": "bar",
         "x": [
          "No",
          "Yes",
          "Not Sure/Refused"
         ],
         "y": [
          79.4036039514286,
          15.473551405511005,
          5.12284464306044
         ]
        }
       ],
       "layout": {
        "title": "Nearly 1 out of 6 of U.S. adults who responded to the survey <br> reported being tobacco smokers.",
        "xaxis": {
         "tickangle": 0,
         "ticks": ""
        },
        "yaxis": {
         "showgrid": false,
         "showticklabels": false,
         "ticks": "",
         "title": "Tobacco Smokers (%)",
         "titlefont": {
          "color": "444444",
          "family": "Arial, sans-serif",
          "size": 18
         }
        }
       }
      },
      "text/html": [
       "<div id=\"c833fd3b-a217-4967-9440-49c4cea855c0\" style=\"height: 525px; width: 100%;\" class=\"plotly-graph-div\"></div><script type=\"text/javascript\">require([\"plotly\"], function(Plotly) { window.PLOTLYENV=window.PLOTLYENV || {};window.PLOTLYENV.BASE_URL=\"https://plot.ly\";Plotly.newPlot(\"c833fd3b-a217-4967-9440-49c4cea855c0\", [{\"type\": \"bar\", \"x\": [\"No\", \"Yes\", \"Not Sure/Refused\"], \"y\": [79.4036039514286, 15.473551405511005, 5.12284464306044], \"text\": [79.4, 15.5, 5.1], \"textposition\": \"outside\", \"marker\": {\"color\": [\"rgb(217,217,217)\", \"rgb(148,138,84)\", \"rgb(217,217,217)\"], \"line\": {\"color\": \"rgb(68,68,68)\", \"width\": 1.5}}, \"opacity\": 0.6}], {\"title\": \"Nearly 1 out of 6 of U.S. adults who responded to the survey <br> reported being tobacco smokers.\", \"yaxis\": {\"title\": \"Tobacco Smokers (%)\", \"ticks\": \"\", \"showticklabels\": false, \"showgrid\": false, \"titlefont\": {\"family\": \"Arial, sans-serif\", \"size\": 18, \"color\": \"444444\"}}, \"xaxis\": {\"ticks\": \"\", \"tickangle\": 0}}, {\"showLink\": true, \"linkText\": \"Export to plot.ly\"})});</script>"
      ],
      "text/vnd.plotly.v1+html": [
       "<div id=\"c833fd3b-a217-4967-9440-49c4cea855c0\" style=\"height: 525px; width: 100%;\" class=\"plotly-graph-div\"></div><script type=\"text/javascript\">require([\"plotly\"], function(Plotly) { window.PLOTLYENV=window.PLOTLYENV || {};window.PLOTLYENV.BASE_URL=\"https://plot.ly\";Plotly.newPlot(\"c833fd3b-a217-4967-9440-49c4cea855c0\", [{\"type\": \"bar\", \"x\": [\"No\", \"Yes\", \"Not Sure/Refused\"], \"y\": [79.4036039514286, 15.473551405511005, 5.12284464306044], \"text\": [79.4, 15.5, 5.1], \"textposition\": \"outside\", \"marker\": {\"color\": [\"rgb(217,217,217)\", \"rgb(148,138,84)\", \"rgb(217,217,217)\"], \"line\": {\"color\": \"rgb(68,68,68)\", \"width\": 1.5}}, \"opacity\": 0.6}], {\"title\": \"Nearly 1 out of 6 of U.S. adults who responded to the survey <br> reported being tobacco smokers.\", \"yaxis\": {\"title\": \"Tobacco Smokers (%)\", \"ticks\": \"\", \"showticklabels\": false, \"showgrid\": false, \"titlefont\": {\"family\": \"Arial, sans-serif\", \"size\": 18, \"color\": \"444444\"}}, \"xaxis\": {\"ticks\": \"\", \"tickangle\": 0}}, {\"showLink\": true, \"linkText\": \"Export to plot.ly\"})});</script>"
      ]
     },
     "metadata": {},
     "output_type": "display_data"
    }
   ],
   "source": [
    "graphData=freq_table.reset_index().copy()\n",
    "#pass data in\n",
    "data = [go.Bar(x=graphData.loc[0:2]['index'],\n",
    "               y=graphData.loc[0:2]['Percent'],\n",
    "               text=round((graphData.loc[0:2]['Percent']),1),\n",
    "               textposition='outside',marker=dict(\n",
    "               color=['rgb(217,217,217)',\n",
    "                      'rgb(148,138,84)',\n",
    "                      'rgb(217,217,217)']\n",
    "                   ,line=dict(color='rgb(68,68,68)',\n",
    "               width=1.5),),opacity=0.6)]\n",
    "\n",
    "layout = go.Layout(\n",
    "                title='Nearly 1 out of 6 of U.S. adults who responded to the survey <br> reported being tobacco smokers.',\n",
    "                yaxis=dict(title='Tobacco Smokers (%)',ticks='',showticklabels=False,showgrid=False,\n",
    "                titlefont=dict(family='Arial, sans-serif',size=18,color='444444',))\n",
    "                ,xaxis=dict(ticks='',tickangle=0))\n",
    "\n",
    "fig = go.Figure(data=data, layout=layout)\n",
    "py.iplot(fig, filename='text-hover-bar')"
   ]
  },
  {
   "cell_type": "markdown",
   "metadata": {},
   "source": [
    "**Weight (BMI)**"
   ]
  },
  {
   "cell_type": "code",
   "execution_count": 405,
   "metadata": {
    "collapsed": true
   },
   "outputs": [],
   "source": [
    "temp=pd.DataFrame(BRFSS2016['_BMI5CAT'])\n",
    "#replace null values\n",
    "temp.fillna(0,inplace=True)\n",
    "#one-hot encoding\n",
    "for x in temp._BMI5CAT.unique():\n",
    "    temp[x]=(temp._BMI5CAT==x).astype(int)\n",
    "\n",
    "#temp.columns\n",
    "temp.rename(columns={'_BMI5CAT':'BMICATS', 1:'one', 2:'two', 3:'three',4:'four',0:'zero'}, inplace=True)"
   ]
  },
  {
   "cell_type": "code",
   "execution_count": 406,
   "metadata": {},
   "outputs": [
    {
     "name": "stdout",
     "output_type": "stream",
     "text": [
      "CDC Calculated Variable: Computed body mass index categories.\n"
     ]
    },
    {
     "data": {
      "text/html": [
       "<div>\n",
       "<style>\n",
       "    .dataframe thead tr:only-child th {\n",
       "        text-align: right;\n",
       "    }\n",
       "\n",
       "    .dataframe thead th {\n",
       "        text-align: left;\n",
       "    }\n",
       "\n",
       "    .dataframe tbody tr th {\n",
       "        vertical-align: top;\n",
       "    }\n",
       "</style>\n",
       "<table border=\"1\" class=\"dataframe\">\n",
       "  <thead>\n",
       "    <tr style=\"text-align: right;\">\n",
       "      <th></th>\n",
       "      <th>Percent</th>\n",
       "      <th>Frequency</th>\n",
       "      <th>Weight_freq</th>\n",
       "    </tr>\n",
       "  </thead>\n",
       "  <tbody>\n",
       "    <tr>\n",
       "      <th>Underweight</th>\n",
       "      <td>1.801475</td>\n",
       "      <td>478773.0</td>\n",
       "      <td>4.578469e+06</td>\n",
       "    </tr>\n",
       "    <tr>\n",
       "      <th>Normal</th>\n",
       "      <td>30.209211</td>\n",
       "      <td>142110.0</td>\n",
       "      <td>7.677705e+07</td>\n",
       "    </tr>\n",
       "    <tr>\n",
       "      <th>Overweight</th>\n",
       "      <td>32.063758</td>\n",
       "      <td>325021.0</td>\n",
       "      <td>8.149041e+07</td>\n",
       "    </tr>\n",
       "    <tr>\n",
       "      <th>Obese</th>\n",
       "      <td>26.910368</td>\n",
       "      <td>135765.0</td>\n",
       "      <td>6.839300e+07</td>\n",
       "    </tr>\n",
       "    <tr>\n",
       "      <th>Missing/Refused</th>\n",
       "      <td>9.015188</td>\n",
       "      <td>39616.0</td>\n",
       "      <td>2.291220e+07</td>\n",
       "    </tr>\n",
       "  </tbody>\n",
       "</table>\n",
       "</div>"
      ],
      "text/plain": [
       "                   Percent  Frequency   Weight_freq\n",
       "Underweight       1.801475   478773.0  4.578469e+06\n",
       "Normal           30.209211   142110.0  7.677705e+07\n",
       "Overweight       32.063758   325021.0  8.149041e+07\n",
       "Obese            26.910368   135765.0  6.839300e+07\n",
       "Missing/Refused   9.015188    39616.0  2.291220e+07"
      ]
     },
     "execution_count": 406,
     "metadata": {},
     "output_type": "execute_result"
    }
   ],
   "source": [
    "#Setup Statsmodels to get Frequency Weights\n",
    "#one\n",
    "freqTemp = smf.DescrStatsW(temp['one'], weights=WeightVar)\n",
    "counts=np.array(pd.Series(temp.one).value_counts())\n",
    "one=np.array([freqTemp.mean*100,counts[0],freqTemp.sum])\n",
    "#two\n",
    "freqTemp = smf.DescrStatsW(temp['two'], weights=WeightVar)\n",
    "counts=np.array(pd.Series(temp.two).value_counts())\n",
    "two=np.array([freqTemp.mean*100,counts[1],freqTemp.sum])\n",
    "#three\n",
    "freqTemp = smf.DescrStatsW(temp['three'], weights=WeightVar)\n",
    "counts=np.array(pd.Series(temp.three).value_counts())\n",
    "three=np.array([freqTemp.mean*100,counts[0],freqTemp.sum])\n",
    "#four\n",
    "freqTemp = smf.DescrStatsW(temp['four'], weights=WeightVar)\n",
    "counts=np.array(pd.Series(temp.four).value_counts())\n",
    "four=np.array([freqTemp.mean*100,counts[1],freqTemp.sum])\n",
    "#zero\n",
    "freqTemp = smf.DescrStatsW(temp['zero'], weights=WeightVar)\n",
    "counts=np.array(pd.Series(temp.zero).value_counts())\n",
    "zero=np.array([freqTemp.mean*100,counts[1],freqTemp.sum])\n",
    "\n",
    "#Create Table (DataFrame)\n",
    "freq_table=pd.DataFrame(np.array([one,two,three,four,zero]),columns=['Percent','Frequency','Weight_freq'])\n",
    "#Modify index rows\n",
    "first,second,third,fourth,zero = freq_table.index[0],freq_table.index[1],freq_table.index[2],freq_table.index[3],freq_table.index[4]\n",
    "freq_table.rename(index={first: 'Underweight',second: 'Normal',third:'Overweight',fourth:'Obese',zero:'Missing/Refused'},inplace=True)\n",
    "#Create Totals Row\n",
    "last=np.array([round(freq_table['Percent'].sum()),round(freq_table['Frequency'].sum()),round(freq_table['Weight_freq'].sum())])\n",
    "#freq_table.loc[len(freq_table)]=last\n",
    "#freq_table.rename(index={5:'Total'},inplace=True)\n",
    "print('CDC Calculated Variable: Computed body mass index categories.')\n",
    "freq_table"
   ]
  },
  {
   "cell_type": "code",
   "execution_count": 407,
   "metadata": {},
   "outputs": [
    {
     "data": {
      "application/vnd.plotly.v1+json": {
       "data": [
        {
         "marker": {
          "color": [
           "rgb(217,217,217)",
           "rgb(217,217,217)",
           "rgb(49,138,155)",
           "rgb(217,217,217)"
          ],
          "line": {
           "color": "rgb(68,68,68)",
           "width": 1.5
          }
         },
         "opacity": 0.6,
         "text": [
          1.8,
          30.2,
          32.1,
          26.9
         ],
         "textposition": "outside",
         "type": "bar",
         "x": [
          "Underweight",
          "Normal",
          "Overweight",
          "Obese"
         ],
         "y": [
          1.8014749090448645,
          30.209211019197745,
          32.06375803025013,
          26.91036754258942
         ]
        }
       ],
       "layout": {
        "title": "Nearly 1 out of 3 of U.S. adults who responded to the survey <br> reported having a BMI that falls within the range of \"Overweight\".",
        "xaxis": {
         "tickangle": 0,
         "ticks": ""
        },
        "yaxis": {
         "showgrid": false,
         "showticklabels": false,
         "ticks": "",
         "title": "Body Mass Index (%)",
         "titlefont": {
          "color": "444444",
          "family": "Arial, sans-serif",
          "size": 18
         }
        }
       }
      },
      "text/html": [
       "<div id=\"8c802a9f-ef4d-4234-b144-a300370c1f97\" style=\"height: 525px; width: 100%;\" class=\"plotly-graph-div\"></div><script type=\"text/javascript\">require([\"plotly\"], function(Plotly) { window.PLOTLYENV=window.PLOTLYENV || {};window.PLOTLYENV.BASE_URL=\"https://plot.ly\";Plotly.newPlot(\"8c802a9f-ef4d-4234-b144-a300370c1f97\", [{\"type\": \"bar\", \"x\": [\"Underweight\", \"Normal\", \"Overweight\", \"Obese\"], \"y\": [1.8014749090448645, 30.209211019197745, 32.06375803025013, 26.91036754258942], \"text\": [1.8, 30.2, 32.1, 26.9], \"textposition\": \"outside\", \"marker\": {\"color\": [\"rgb(217,217,217)\", \"rgb(217,217,217)\", \"rgb(49,138,155)\", \"rgb(217,217,217)\"], \"line\": {\"color\": \"rgb(68,68,68)\", \"width\": 1.5}}, \"opacity\": 0.6}], {\"title\": \"Nearly 1 out of 3 of U.S. adults who responded to the survey <br> reported having a BMI that falls within the range of \\\"Overweight\\\".\", \"yaxis\": {\"title\": \"Body Mass Index (%)\", \"ticks\": \"\", \"showticklabels\": false, \"showgrid\": false, \"titlefont\": {\"family\": \"Arial, sans-serif\", \"size\": 18, \"color\": \"444444\"}}, \"xaxis\": {\"ticks\": \"\", \"tickangle\": 0}}, {\"showLink\": true, \"linkText\": \"Export to plot.ly\"})});</script>"
      ],
      "text/vnd.plotly.v1+html": [
       "<div id=\"8c802a9f-ef4d-4234-b144-a300370c1f97\" style=\"height: 525px; width: 100%;\" class=\"plotly-graph-div\"></div><script type=\"text/javascript\">require([\"plotly\"], function(Plotly) { window.PLOTLYENV=window.PLOTLYENV || {};window.PLOTLYENV.BASE_URL=\"https://plot.ly\";Plotly.newPlot(\"8c802a9f-ef4d-4234-b144-a300370c1f97\", [{\"type\": \"bar\", \"x\": [\"Underweight\", \"Normal\", \"Overweight\", \"Obese\"], \"y\": [1.8014749090448645, 30.209211019197745, 32.06375803025013, 26.91036754258942], \"text\": [1.8, 30.2, 32.1, 26.9], \"textposition\": \"outside\", \"marker\": {\"color\": [\"rgb(217,217,217)\", \"rgb(217,217,217)\", \"rgb(49,138,155)\", \"rgb(217,217,217)\"], \"line\": {\"color\": \"rgb(68,68,68)\", \"width\": 1.5}}, \"opacity\": 0.6}], {\"title\": \"Nearly 1 out of 3 of U.S. adults who responded to the survey <br> reported having a BMI that falls within the range of \\\"Overweight\\\".\", \"yaxis\": {\"title\": \"Body Mass Index (%)\", \"ticks\": \"\", \"showticklabels\": false, \"showgrid\": false, \"titlefont\": {\"family\": \"Arial, sans-serif\", \"size\": 18, \"color\": \"444444\"}}, \"xaxis\": {\"ticks\": \"\", \"tickangle\": 0}}, {\"showLink\": true, \"linkText\": \"Export to plot.ly\"})});</script>"
      ]
     },
     "metadata": {},
     "output_type": "display_data"
    }
   ],
   "source": [
    "graphData=freq_table.reset_index().copy()\n",
    "#pass data in\n",
    "data = [go.Bar(x=graphData.loc[0:3]['index'],\n",
    "               y=graphData.loc[0:3]['Percent'],\n",
    "               text=round((graphData.loc[0:3]['Percent']),1),\n",
    "               textposition='outside',marker=dict(\n",
    "               color=['rgb(217,217,217)',\n",
    "                      'rgb(217,217,217)',\n",
    "                      'rgb(49,138,155)',\n",
    "                      'rgb(217,217,217)']\n",
    "                   ,line=dict(color='rgb(68,68,68)',\n",
    "               width=1.5),),opacity=0.6)]\n",
    "\n",
    "layout = go.Layout(\n",
    "                title='Nearly 1 out of 3 of U.S. adults who responded to the survey <br> reported having a BMI that falls within the range of \"Overweight\".',\n",
    "                yaxis=dict(title='Body Mass Index (%)',ticks='',showticklabels=False,showgrid=False,\n",
    "                titlefont=dict(family='Arial, sans-serif',size=18,color='444444',))\n",
    "                ,xaxis=dict(ticks='',tickangle=0))\n",
    "\n",
    "fig = go.Figure(data=data, layout=layout)\n",
    "py.iplot(fig, filename='text-hover-bar')"
   ]
  },
  {
   "cell_type": "markdown",
   "metadata": {},
   "source": [
    "Crosstabs \n",
    "=============================\n",
    "2x2 Chi-Square Contingency Tables\n",
    "---------------------------------------\n",
    " \n",
    "     \n",
    " \n",
    " "
   ]
  },
  {
   "cell_type": "markdown",
   "metadata": {},
   "source": [
    "In this section I setup each of the variables of interest and classify the data into dichotomous outcomes (0 and 1) and perform Chi-Square analysis in order help identify variables that would be most useful for modeling. "
   ]
  },
  {
   "cell_type": "markdown",
   "metadata": {},
   "source": [
    "*Sleep x Physical Activity*\n",
    "------------------------------------"
   ]
  },
  {
   "cell_type": "code",
   "execution_count": 408,
   "metadata": {
    "collapsed": true
   },
   "outputs": [],
   "source": [
    "import sklearn.metrics\n",
    "from sklearn.metrics import confusion_matrix"
   ]
  },
  {
   "cell_type": "code",
   "execution_count": 576,
   "metadata": {},
   "outputs": [
    {
     "data": {
      "text/html": [
       "<div>\n",
       "<style>\n",
       "    .dataframe thead tr:only-child th {\n",
       "        text-align: right;\n",
       "    }\n",
       "\n",
       "    .dataframe thead th {\n",
       "        text-align: left;\n",
       "    }\n",
       "\n",
       "    .dataframe tbody tr th {\n",
       "        vertical-align: top;\n",
       "    }\n",
       "</style>\n",
       "<table border=\"1\" class=\"dataframe\">\n",
       "  <thead>\n",
       "    <tr style=\"text-align: right;\">\n",
       "      <th></th>\n",
       "      <th>Had exercise</th>\n",
       "      <th>No exercise</th>\n",
       "      <th>Missing/Refused</th>\n",
       "      <th>Total</th>\n",
       "    </tr>\n",
       "  </thead>\n",
       "  <tbody>\n",
       "    <tr>\n",
       "      <th>Fewer than 7 hrs</th>\n",
       "      <td>6.293558e+07</td>\n",
       "      <td>2.410588e+07</td>\n",
       "      <td>118079.643523</td>\n",
       "      <td>8.715955e+07</td>\n",
       "    </tr>\n",
       "    <tr>\n",
       "      <th>7 or more hrs</th>\n",
       "      <td>1.274982e+08</td>\n",
       "      <td>3.670099e+07</td>\n",
       "      <td>186944.239471</td>\n",
       "      <td>1.643861e+08</td>\n",
       "    </tr>\n",
       "    <tr>\n",
       "      <th>Missing/Refused</th>\n",
       "      <td>1.402110e+06</td>\n",
       "      <td>1.163983e+06</td>\n",
       "      <td>39398.388495</td>\n",
       "      <td>2.605491e+06</td>\n",
       "    </tr>\n",
       "    <tr>\n",
       "      <th>Total</th>\n",
       "      <td>1.918359e+08</td>\n",
       "      <td>6.197085e+07</td>\n",
       "      <td>344422.271489</td>\n",
       "      <td>2.541511e+08</td>\n",
       "    </tr>\n",
       "  </tbody>\n",
       "</table>\n",
       "</div>"
      ],
      "text/plain": [
       "                  Had exercise   No exercise  Missing/Refused         Total\n",
       "Fewer than 7 hrs  6.293558e+07  2.410588e+07    118079.643523  8.715955e+07\n",
       "7 or more hrs     1.274982e+08  3.670099e+07    186944.239471  1.643861e+08\n",
       "Missing/Refused   1.402110e+06  1.163983e+06     39398.388495  2.605491e+06\n",
       "Total             1.918359e+08  6.197085e+07    344422.271489  2.541511e+08"
      ]
     },
     "execution_count": 576,
     "metadata": {},
     "output_type": "execute_result"
    }
   ],
   "source": [
    "chiSquareTemp=pd.DataFrame(BRFSS2016,columns=['sleeptime','_TOTINDA','_LLCPWT'])\n",
    "chiSquareTemp=sklearn.metrics.confusion_matrix(chiSquareTemp['_TOTINDA'], chiSquareTemp['sleeptime'], labels=None, sample_weight=chiSquareTemp['_LLCPWT'])\n",
    "#Add Values to DataFrame\n",
    "firstCol=pd.DataFrame(chiSquareTemp[1].T,columns=['first'])\n",
    "secondCol=pd.DataFrame(chiSquareTemp[2].T,columns=['second'])\n",
    "thirdCol=pd.DataFrame(chiSquareTemp[3].T,columns=['third'])\n",
    "#Setup totals\n",
    "chiSquareTemp=firstCol\n",
    "chiSquareTemp['second']=secondCol\n",
    "chiSquareTemp['third']=thirdCol\n",
    "chiSquareTemp['fourth']=chiSquareTemp['first']+chiSquareTemp['second']+chiSquareTemp['third']\n",
    "#Create Totals Rows\n",
    "last=np.array(chiSquareTemp.sum())\n",
    "chiSquareTemp.loc[len(chiSquareTemp)]=last\n",
    "#Rename Indexes \n",
    "chiSquareTemp.rename(index={0: 'Fewer than 7 hrs',1: '7 or more hrs',2:'none',3:'Missing/Refused',4:'Total'},inplace=True)\n",
    "chiSquareTemp.drop(['none'],axis=0,inplace=True)\n",
    "#Rename Columns\n",
    "chiSquareTemp.rename(columns={'first':'Had exercise', 'second':'No exercise', 'third':'Missing/Refused','fourth':'Total'}, inplace=True)\n",
    "chiSquareTemp"
   ]
  },
  {
   "cell_type": "markdown",
   "metadata": {},
   "source": [
    "Here is a table where we can see seven or more hours of sleep grouped by whether the respondant had physical activity within the last month. The table setup ordered itself according to the way the variables were classified. Below I created another table to show things in such a way to make it easier to interpret.\n"
   ]
  },
  {
   "cell_type": "code",
   "execution_count": 577,
   "metadata": {},
   "outputs": [],
   "source": [
    "chiSquareTemp_new=chiSquareTemp[['No exercise','Had exercise','Missing/Refused','Total']]\n",
    "chiSquareTemp=chiSquareTemp_new"
   ]
  },
  {
   "cell_type": "code",
   "execution_count": 578,
   "metadata": {},
   "outputs": [
    {
     "data": {
      "text/html": [
       "<div>\n",
       "<style>\n",
       "    .dataframe thead tr:only-child th {\n",
       "        text-align: right;\n",
       "    }\n",
       "\n",
       "    .dataframe thead th {\n",
       "        text-align: left;\n",
       "    }\n",
       "\n",
       "    .dataframe tbody tr th {\n",
       "        vertical-align: top;\n",
       "    }\n",
       "</style>\n",
       "<table border=\"1\" class=\"dataframe\">\n",
       "  <thead>\n",
       "    <tr style=\"text-align: right;\">\n",
       "      <th></th>\n",
       "      <th>Case: No exercise</th>\n",
       "      <th>Control: Had exercise</th>\n",
       "    </tr>\n",
       "  </thead>\n",
       "  <tbody>\n",
       "    <tr>\n",
       "      <th>Exposed: &lt;7 hrs</th>\n",
       "      <td>2.410588e+07</td>\n",
       "      <td>6.293558e+07</td>\n",
       "    </tr>\n",
       "    <tr>\n",
       "      <th>Unexposed: 7+ hrs</th>\n",
       "      <td>3.670099e+07</td>\n",
       "      <td>1.274982e+08</td>\n",
       "    </tr>\n",
       "  </tbody>\n",
       "</table>\n",
       "</div>"
      ],
      "text/plain": [
       "                   Case: No exercise  Control: Had exercise\n",
       "Exposed: <7 hrs         2.410588e+07           6.293558e+07\n",
       "Unexposed: 7+ hrs       3.670099e+07           1.274982e+08"
      ]
     },
     "execution_count": 578,
     "metadata": {},
     "output_type": "execute_result"
    }
   ],
   "source": [
    "import numpy as np\n",
    "import pandas as pd\n",
    "import statsmodels.api as sm\n",
    "import scipy.stats as scipy\n",
    "from scipy.stats import chi2_contingency,chisqprob,chi2\n",
    "import scipy, scipy.stats\n",
    "\n",
    "#observed\n",
    "a,b,c,d=chiSquareTemp.iloc[0,0],chiSquareTemp.iloc[0,1],chiSquareTemp.iloc[1,0],chiSquareTemp.iloc[1,1]\n",
    "#Totals\n",
    "col1Sum,col2Sum,row1Sum,row2Sum,totalSum=np.sum(a+c),np.sum(b+d),np.sum(a+b),np.sum(c+d),np.sum(col1sum+col2sum)\n",
    "\n",
    "   #row total               column total\n",
    "e=(col1Sum*row1Sum)/totalSum #a expected\n",
    "f=(col2Sum*row1Sum)/totalSum #b expected\n",
    "\n",
    "g=(col1Sum*row2Sum)/totalSum #c expected\n",
    "h=(col2Sum*row2Sum)/totalSum #d expected\n",
    "#Modify table labels\n",
    "obs=pd.DataFrame([[a,b],[c,d]])\n",
    "obs.rename(columns={0:'Case: No exercise', 1:'Control: Had exercise'}, inplace=True)\n",
    "obs.rename(index={0: 'Exposed: <7 hrs',1: 'Unexposed: 7+ hrs'},inplace=True)\n",
    "obs"
   ]
  },
  {
   "cell_type": "markdown",
   "metadata": {},
   "source": [
    "**Significance level: **\n",
    "    - 10% (0.1) : 2.71\n",
    "    - 5% (0.05) : 3.84 \n",
    "    - 1% (0.01) : 6.63"
   ]
  },
  {
   "cell_type": "code",
   "execution_count": 582,
   "metadata": {},
   "outputs": [
    {
     "data": {
      "text/html": [
       "<div>\n",
       "<style>\n",
       "    .dataframe thead tr:only-child th {\n",
       "        text-align: right;\n",
       "    }\n",
       "\n",
       "    .dataframe thead th {\n",
       "        text-align: left;\n",
       "    }\n",
       "\n",
       "    .dataframe tbody tr th {\n",
       "        vertical-align: top;\n",
       "    }\n",
       "</style>\n",
       "<table border=\"1\" class=\"dataframe\">\n",
       "  <thead>\n",
       "    <tr style=\"text-align: right;\">\n",
       "      <th></th>\n",
       "      <th>Value</th>\n",
       "      <th>DF</th>\n",
       "      <th>Prob</th>\n",
       "    </tr>\n",
       "  </thead>\n",
       "  <tbody>\n",
       "    <tr>\n",
       "      <th>Chi-Square</th>\n",
       "      <td>885306.728643</td>\n",
       "      <td>1</td>\n",
       "      <td>0</td>\n",
       "    </tr>\n",
       "    <tr>\n",
       "      <th>Likelihood Ratio Chi2</th>\n",
       "      <td>873384.791385</td>\n",
       "      <td>1</td>\n",
       "      <td>0</td>\n",
       "    </tr>\n",
       "    <tr>\n",
       "      <th>Phi Coefficient</th>\n",
       "      <td>0.059361</td>\n",
       "      <td></td>\n",
       "      <td></td>\n",
       "    </tr>\n",
       "  </tbody>\n",
       "</table>\n",
       "</div>"
      ],
      "text/plain": [
       "                               Value DF Prob\n",
       "Chi-Square             885306.728643  1    0\n",
       "Likelihood Ratio Chi2  873384.791385  1    0\n",
       "Phi Coefficient             0.059361        "
      ]
     },
     "execution_count": 582,
     "metadata": {},
     "output_type": "execute_result"
    }
   ],
   "source": [
    "#Get Chi2 and LR for table\n",
    "chi2, pvalue1, dof1, expected1 = chi2_contingency(obs,correction=True)\n",
    "LR, pvalue2, dof2, expected2 = chi2_contingency(obs, lambda_=\"log-likelihood\")\n",
    "#calculated phi for table\n",
    "phi=(a*d-b*c)/np.sqrt((a+b)*(c+d)*(a+c)*(b+d))\n",
    "phiTable=list([phi,'',''])\n",
    "estimates=pd.DataFrame([[chi2,dof1,pvalue1],[LR,dof2,pvalue2],phiTable],columns=['Value','DF','Prob'])\n",
    "#Rename Indexes \n",
    "estimates.rename(index={0: 'Chi-Square',1: 'Likelihood Ratio Chi2',2:'Phi Coefficient'},inplace=True)\n",
    "estimates"
   ]
  },
  {
   "cell_type": "code",
   "execution_count": 583,
   "metadata": {},
   "outputs": [
    {
     "name": "stdout",
     "output_type": "stream",
     "text": [
      "               Estimate   SE   LCB   UCB  p-value\n",
      "-------------------------------------------------\n",
      "Odds ratio        1.331       1.330 1.331   0.000\n",
      "Log odds ratio    0.286 0.000 0.285 0.286   0.000\n",
      "Risk ratio        1.200       0.285 0.286   0.000\n",
      "Log risk ratio    0.182 0.000 0.182 0.182   0.000\n",
      "-------------------------------------------------\n"
     ]
    }
   ],
   "source": [
    "table = np.asarray(obs)\n",
    "results = sm.stats.Table2x2(table.T)\n",
    "print(results.summary())"
   ]
  },
  {
   "cell_type": "markdown",
   "metadata": {},
   "source": [
    "**Explanation:** *Those whom reported regularly having less than 7 hours of sleep nightly were 1.33 times more likely to have not reported exercising within the last month. This demonstrates a positive association between lack of exercise and lack of sleep. However, judging by the phi (.06) we can see the association may not be particularly strong. We will explore this association further later.*"
   ]
  },
  {
   "cell_type": "markdown",
   "metadata": {},
   "source": [
    "*Sleep x Number of Children*\n",
    "-----------------"
   ]
  },
  {
   "cell_type": "code",
   "execution_count": 585,
   "metadata": {},
   "outputs": [
    {
     "data": {
      "text/html": [
       "<div>\n",
       "<style>\n",
       "    .dataframe thead tr:only-child th {\n",
       "        text-align: right;\n",
       "    }\n",
       "\n",
       "    .dataframe thead th {\n",
       "        text-align: left;\n",
       "    }\n",
       "\n",
       "    .dataframe tbody tr th {\n",
       "        vertical-align: top;\n",
       "    }\n",
       "</style>\n",
       "<table border=\"1\" class=\"dataframe\">\n",
       "  <thead>\n",
       "    <tr style=\"text-align: right;\">\n",
       "      <th></th>\n",
       "      <th>More than 1 Child</th>\n",
       "      <th>1 Child</th>\n",
       "      <th>Missing/Refused</th>\n",
       "    </tr>\n",
       "  </thead>\n",
       "  <tbody>\n",
       "    <tr>\n",
       "      <th>Fewer than 7 hrs</th>\n",
       "      <td>3.426261e+07</td>\n",
       "      <td>5.176760e+07</td>\n",
       "      <td>8.603021e+07</td>\n",
       "    </tr>\n",
       "    <tr>\n",
       "      <th>7 or more hrs</th>\n",
       "      <td>5.552701e+07</td>\n",
       "      <td>1.067390e+08</td>\n",
       "      <td>1.622661e+08</td>\n",
       "    </tr>\n",
       "    <tr>\n",
       "      <th>Missing/Refused</th>\n",
       "      <td>6.314966e+05</td>\n",
       "      <td>1.913521e+06</td>\n",
       "      <td>2.545018e+06</td>\n",
       "    </tr>\n",
       "    <tr>\n",
       "      <th>Total</th>\n",
       "      <td>9.042111e+07</td>\n",
       "      <td>1.604202e+08</td>\n",
       "      <td>2.508413e+08</td>\n",
       "    </tr>\n",
       "  </tbody>\n",
       "</table>\n",
       "</div>"
      ],
      "text/plain": [
       "                  More than 1 Child       1 Child  Missing/Refused\n",
       "Fewer than 7 hrs       3.426261e+07  5.176760e+07     8.603021e+07\n",
       "7 or more hrs          5.552701e+07  1.067390e+08     1.622661e+08\n",
       "Missing/Refused        6.314966e+05  1.913521e+06     2.545018e+06\n",
       "Total                  9.042111e+07  1.604202e+08     2.508413e+08"
      ]
     },
     "execution_count": 585,
     "metadata": {},
     "output_type": "execute_result"
    }
   ],
   "source": [
    "chiSquareTemp=pd.DataFrame(BRFSS2016,columns=['sleeptime','_CHLDCNT','_LLCPWT'])\n",
    "#Calculate Variable Groups\n",
    "Child2More=[]\n",
    "for i in BRFSS2016._CHLDCNT:\n",
    "    if i==1:\n",
    "        Child2More.append(0)\n",
    "    elif i>1 and i<9:\n",
    "        Child2More.append(1)\n",
    "    else:\n",
    "        Child2More.append(9)\n",
    "chiSquareTemp['Child2More']=Child2More \n",
    "chiSquareTemp.drop(['_CHLDCNT'],axis=1,inplace=True)\n",
    "    \n",
    "chiSquareTemp=sklearn.metrics.confusion_matrix(chiSquareTemp['Child2More'], chiSquareTemp['sleeptime'], labels=None, sample_weight=chiSquareTemp['_LLCPWT'])\n",
    "\n",
    "#Add Values to DataFrame\n",
    "firstCol=pd.DataFrame(chiSquareTemp[1],columns=['first'])\n",
    "secondCol=pd.DataFrame(chiSquareTemp[0],columns=['second']) #For whatever reason these values got switched\n",
    "\n",
    "#thirdCol=pd.DataFrame(chiSquareTemp[2],columns=['third'])\n",
    "#Setup totals\n",
    "chiSquareTemp=firstCol\n",
    "chiSquareTemp['second']=secondCol\n",
    "#chiSquareTemp['third']=thirdCol\n",
    "chiSquareTemp['third']=chiSquareTemp['first']+chiSquareTemp['second']\n",
    "#Create Totals Rows\n",
    "last=np.array(chiSquareTemp.sum())\n",
    "chiSquareTemp.loc[len(chiSquareTemp)]=last\n",
    "#Rename Indexes \n",
    "chiSquareTemp.rename(index={0: 'Fewer than 7 hrs',1: '7 or more hrs',2:'Missing/Refused',3:'Total'},inplace=True)\n",
    "#Rename Columns\n",
    "chiSquareTemp.rename(columns={'first':'More than 1 Child', 'second':'1 Child', 'third':'Missing/Refused','fourth':'Total'}, inplace=True)\n",
    "chiSquareTemp\n"
   ]
  },
  {
   "cell_type": "markdown",
   "metadata": {},
   "source": [
    "For this part I was interested in seeing if there was an association between having more than 1 child in the household and lack of sleep. From the frequency tables above more respondants reported only having 1 child in the household than any other group. This is could be related to more adult respondants being within the 18-24 age range demonstrated above."
   ]
  },
  {
   "cell_type": "code",
   "execution_count": 593,
   "metadata": {},
   "outputs": [
    {
     "data": {
      "text/html": [
       "<div>\n",
       "<style>\n",
       "    .dataframe thead tr:only-child th {\n",
       "        text-align: right;\n",
       "    }\n",
       "\n",
       "    .dataframe thead th {\n",
       "        text-align: left;\n",
       "    }\n",
       "\n",
       "    .dataframe tbody tr th {\n",
       "        vertical-align: top;\n",
       "    }\n",
       "</style>\n",
       "<table border=\"1\" class=\"dataframe\">\n",
       "  <thead>\n",
       "    <tr style=\"text-align: right;\">\n",
       "      <th></th>\n",
       "      <th>Case: 1+ Children</th>\n",
       "      <th>Control: 1 Child</th>\n",
       "    </tr>\n",
       "  </thead>\n",
       "  <tbody>\n",
       "    <tr>\n",
       "      <th>Exposed: &lt;7 hrs</th>\n",
       "      <td>3.426261e+07</td>\n",
       "      <td>5.176760e+07</td>\n",
       "    </tr>\n",
       "    <tr>\n",
       "      <th>Unexposed: 7+ hrs</th>\n",
       "      <td>5.552701e+07</td>\n",
       "      <td>1.067390e+08</td>\n",
       "    </tr>\n",
       "  </tbody>\n",
       "</table>\n",
       "</div>"
      ],
      "text/plain": [
       "                   Case: 1+ Children  Control: 1 Child\n",
       "Exposed: <7 hrs         3.426261e+07      5.176760e+07\n",
       "Unexposed: 7+ hrs       5.552701e+07      1.067390e+08"
      ]
     },
     "execution_count": 593,
     "metadata": {},
     "output_type": "execute_result"
    }
   ],
   "source": [
    "import numpy as np\n",
    "import pandas as pd\n",
    "import statsmodels.api as sm\n",
    "import scipy.stats as scipy\n",
    "from scipy.stats import chi2_contingency,chisqprob,chi2\n",
    "import scipy, scipy.stats\n",
    "\n",
    "#observed\n",
    "a,b,c,d=chiSquareTemp.iloc[0,0],chiSquareTemp.iloc[0,1],chiSquareTemp.iloc[1,0],chiSquareTemp.iloc[1,1]\n",
    "#Totals\n",
    "col1Sum,col2Sum,row1Sum,row2Sum,totalSum=np.sum(a+c),np.sum(b+d),np.sum(a+b),np.sum(c+d),np.sum(col1sum+col2sum)\n",
    "\n",
    "   #row total               column total\n",
    "e=(col1Sum*row1Sum)/totalSum #a expected\n",
    "f=(col2Sum*row1Sum)/totalSum #b expected\n",
    "\n",
    "g=(col1Sum*row2Sum)/totalSum #c expected\n",
    "h=(col2Sum*row2Sum)/totalSum #d expected\n",
    "#Modify table labels\n",
    "obs=pd.DataFrame([[a,b],[c,d]])\n",
    "obs.rename(columns={0:'Case: 1+ Children', 1:'Control: 1 Child'}, inplace=True)\n",
    "obs.rename(index={0: 'Exposed: <7 hrs',1: 'Unexposed: 7+ hrs'},inplace=True)\n",
    "obs"
   ]
  },
  {
   "cell_type": "code",
   "execution_count": 587,
   "metadata": {},
   "outputs": [
    {
     "data": {
      "text/html": [
       "<div>\n",
       "<style>\n",
       "    .dataframe thead tr:only-child th {\n",
       "        text-align: right;\n",
       "    }\n",
       "\n",
       "    .dataframe thead th {\n",
       "        text-align: left;\n",
       "    }\n",
       "\n",
       "    .dataframe tbody tr th {\n",
       "        vertical-align: top;\n",
       "    }\n",
       "</style>\n",
       "<table border=\"1\" class=\"dataframe\">\n",
       "  <thead>\n",
       "    <tr style=\"text-align: right;\">\n",
       "      <th></th>\n",
       "      <th>Value</th>\n",
       "      <th>DF</th>\n",
       "      <th>Prob</th>\n",
       "    </tr>\n",
       "  </thead>\n",
       "  <tbody>\n",
       "    <tr>\n",
       "      <th>Chi-Square</th>\n",
       "      <td>765529.454065</td>\n",
       "      <td>1</td>\n",
       "      <td>0</td>\n",
       "    </tr>\n",
       "    <tr>\n",
       "      <th>Likelihood Ratio Chi2</th>\n",
       "      <td>760980.300490</td>\n",
       "      <td>1</td>\n",
       "      <td>0</td>\n",
       "    </tr>\n",
       "    <tr>\n",
       "      <th>Phi Coefficient</th>\n",
       "      <td>0.055526</td>\n",
       "      <td></td>\n",
       "      <td></td>\n",
       "    </tr>\n",
       "  </tbody>\n",
       "</table>\n",
       "</div>"
      ],
      "text/plain": [
       "                               Value DF Prob\n",
       "Chi-Square             765529.454065  1    0\n",
       "Likelihood Ratio Chi2  760980.300490  1    0\n",
       "Phi Coefficient             0.055526        "
      ]
     },
     "execution_count": 587,
     "metadata": {},
     "output_type": "execute_result"
    }
   ],
   "source": [
    "#Get Chi2 and LR for table\n",
    "chi2, pvalue1, dof1, expected1 = chi2_contingency(obs,correction=True)\n",
    "LR, pvalue2, dof2, expected2 = chi2_contingency(obs, lambda_=\"log-likelihood\")\n",
    "#calculated phi for table\n",
    "phi=(a*d-b*c)/np.sqrt((a+b)*(c+d)*(a+c)*(b+d))\n",
    "phiTable=list([phi,'',''])\n",
    "estimates=pd.DataFrame([[chi2,dof1,pvalue1],[LR,dof2,pvalue2],phiTable],columns=['Value','DF','Prob'])\n",
    "#Rename Indexes \n",
    "estimates.rename(index={0: 'Chi-Square',1: 'Likelihood Ratio Chi2',2:'Phi Coefficient'},inplace=True)\n",
    "estimates"
   ]
  },
  {
   "cell_type": "code",
   "execution_count": 588,
   "metadata": {},
   "outputs": [
    {
     "name": "stdout",
     "output_type": "stream",
     "text": [
      "               Estimate   SE   LCB   UCB  p-value\n",
      "-------------------------------------------------\n",
      "Odds ratio        1.272       1.272 1.273   0.000\n",
      "Log odds ratio    0.241 0.000 0.240 0.241   0.000\n",
      "Risk ratio        1.168       0.240 0.241   0.000\n",
      "Log risk ratio    0.156 0.000 0.155 0.156   0.000\n",
      "-------------------------------------------------\n"
     ]
    }
   ],
   "source": [
    "table = np.asarray(obs)\n",
    "results = sm.stats.Table2x2(table.T)\n",
    "print(results.summary())"
   ]
  },
  {
   "cell_type": "markdown",
   "metadata": {},
   "source": [
    "**Explanation:** *We can see those whom have more than 1 child at home have 1.2 times greater likelihood to getting inadequate sleep compared to those whom only have 1 child.*"
   ]
  },
  {
   "cell_type": "markdown",
   "metadata": {},
   "source": [
    "*Sleep x Age*\n",
    "-----------------\n"
   ]
  },
  {
   "cell_type": "code",
   "execution_count": 628,
   "metadata": {},
   "outputs": [
    {
     "data": {
      "text/html": [
       "<div>\n",
       "<style>\n",
       "    .dataframe thead tr:only-child th {\n",
       "        text-align: right;\n",
       "    }\n",
       "\n",
       "    .dataframe thead th {\n",
       "        text-align: left;\n",
       "    }\n",
       "\n",
       "    .dataframe tbody tr th {\n",
       "        vertical-align: top;\n",
       "    }\n",
       "</style>\n",
       "<table border=\"1\" class=\"dataframe\">\n",
       "  <thead>\n",
       "    <tr style=\"text-align: right;\">\n",
       "      <th></th>\n",
       "      <th>Less than 65 yrs</th>\n",
       "      <th>65 yrs or more</th>\n",
       "      <th>Missing/Refused</th>\n",
       "      <th>Total</th>\n",
       "    </tr>\n",
       "  </thead>\n",
       "  <tbody>\n",
       "    <tr>\n",
       "      <th>Fewer than 7 hrs</th>\n",
       "      <td>7.285963e+07</td>\n",
       "      <td>1.329250e+07</td>\n",
       "      <td>1.007419e+06</td>\n",
       "      <td>8.715955e+07</td>\n",
       "    </tr>\n",
       "    <tr>\n",
       "      <th>7 or more hrs</th>\n",
       "      <td>1.259687e+08</td>\n",
       "      <td>3.638804e+07</td>\n",
       "      <td>2.029356e+06</td>\n",
       "      <td>1.643861e+08</td>\n",
       "    </tr>\n",
       "    <tr>\n",
       "      <th>Missing/Refused</th>\n",
       "      <td>1.604687e+06</td>\n",
       "      <td>9.195094e+05</td>\n",
       "      <td>8.129477e+04</td>\n",
       "      <td>2.605491e+06</td>\n",
       "    </tr>\n",
       "    <tr>\n",
       "      <th>Total</th>\n",
       "      <td>2.004330e+08</td>\n",
       "      <td>5.060004e+07</td>\n",
       "      <td>3.118070e+06</td>\n",
       "      <td>2.541511e+08</td>\n",
       "    </tr>\n",
       "  </tbody>\n",
       "</table>\n",
       "</div>"
      ],
      "text/plain": [
       "                  Less than 65 yrs  65 yrs or more  Missing/Refused  \\\n",
       "Fewer than 7 hrs      7.285963e+07    1.329250e+07     1.007419e+06   \n",
       "7 or more hrs         1.259687e+08    3.638804e+07     2.029356e+06   \n",
       "Missing/Refused       1.604687e+06    9.195094e+05     8.129477e+04   \n",
       "Total                 2.004330e+08    5.060004e+07     3.118070e+06   \n",
       "\n",
       "                         Total  \n",
       "Fewer than 7 hrs  8.715955e+07  \n",
       "7 or more hrs     1.643861e+08  \n",
       "Missing/Refused   2.605491e+06  \n",
       "Total             2.541511e+08  "
      ]
     },
     "execution_count": 628,
     "metadata": {},
     "output_type": "execute_result"
    }
   ],
   "source": [
    "chiSquareTemp=pd.DataFrame(BRFSS2016,columns=['sleeptime','_AGEG5YR','_LLCPWT'])\n",
    "#Calculate Variable Groups\n",
    "FiftyFiveMore=[]\n",
    "for i in BRFSS2016._AGEG5YR:\n",
    "    if i>0 and i<10:\n",
    "        FiftyFiveMore.append(0)\n",
    "    elif i>9 and i<14:\n",
    "        FiftyFiveMore.append(1)\n",
    "    else:\n",
    "        FiftyFiveMore.append(9)\n",
    "chiSquareTemp['FiftyFiveMore']=FiftyFiveMore \n",
    "chiSquareTemp.drop(['_AGEG5YR'],axis=1,inplace=True)\n",
    "    \n",
    "chiSquareTemp=sklearn.metrics.confusion_matrix(chiSquareTemp['FiftyFiveMore'], chiSquareTemp['sleeptime'], labels=None, sample_weight=chiSquareTemp['_LLCPWT'])\n",
    "\n",
    "#Add Values to DataFrame\n",
    "firstCol=pd.DataFrame(chiSquareTemp[0].T,columns=['first'])\n",
    "secondCol=pd.DataFrame(chiSquareTemp[1].T,columns=['second']) #For whatever reason these values got switched\n",
    "thirdCol=pd.DataFrame(chiSquareTemp[2],columns=['third'])\n",
    "#Setup totals\n",
    "chiSquareTemp=firstCol\n",
    "chiSquareTemp['second']=secondCol\n",
    "chiSquareTemp['third']=thirdCol\n",
    "chiSquareTemp['fourth']=chiSquareTemp['first']+chiSquareTemp['second']+chiSquareTemp['third']\n",
    "#Create Totals Rows\n",
    "last=np.array(chiSquareTemp.sum())\n",
    "chiSquareTemp.loc[len(chiSquareTemp)]=last\n",
    "#Rename Indexes \n",
    "chiSquareTemp.rename(index={0: 'Fewer than 7 hrs',1: '7 or more hrs',2:'Missing/Refused',3:'Total'},inplace=True)\n",
    "#Rename Columns\n",
    "chiSquareTemp.rename(columns={'first':'Less than 65 yrs', 'second':'65 yrs or more', 'third':'Missing/Refused','fourth':'Total'}, inplace=True)\n",
    "chiSquareTemp"
   ]
  },
  {
   "cell_type": "code",
   "execution_count": 629,
   "metadata": {},
   "outputs": [],
   "source": [
    "chiSquareTemp_new=chiSquareTemp[['65 yrs or more','Less than 65 yrs','Missing/Refused','Total']]\n",
    "chiSquareTemp=chiSquareTemp_new"
   ]
  },
  {
   "cell_type": "code",
   "execution_count": 631,
   "metadata": {},
   "outputs": [
    {
     "data": {
      "text/html": [
       "<div>\n",
       "<style>\n",
       "    .dataframe thead tr:only-child th {\n",
       "        text-align: right;\n",
       "    }\n",
       "\n",
       "    .dataframe thead th {\n",
       "        text-align: left;\n",
       "    }\n",
       "\n",
       "    .dataframe tbody tr th {\n",
       "        vertical-align: top;\n",
       "    }\n",
       "</style>\n",
       "<table border=\"1\" class=\"dataframe\">\n",
       "  <thead>\n",
       "    <tr style=\"text-align: right;\">\n",
       "      <th></th>\n",
       "      <th>Case:65+ yrs</th>\n",
       "      <th>Control: &lt;65 yrs</th>\n",
       "    </tr>\n",
       "  </thead>\n",
       "  <tbody>\n",
       "    <tr>\n",
       "      <th>Exposed: &lt;7 hrs</th>\n",
       "      <td>1.329250e+07</td>\n",
       "      <td>7.285963e+07</td>\n",
       "    </tr>\n",
       "    <tr>\n",
       "      <th>Unexposed: 7+ hrs</th>\n",
       "      <td>3.638804e+07</td>\n",
       "      <td>1.259687e+08</td>\n",
       "    </tr>\n",
       "  </tbody>\n",
       "</table>\n",
       "</div>"
      ],
      "text/plain": [
       "                   Case:65+ yrs  Control: <65 yrs\n",
       "Exposed: <7 hrs    1.329250e+07      7.285963e+07\n",
       "Unexposed: 7+ hrs  3.638804e+07      1.259687e+08"
      ]
     },
     "execution_count": 631,
     "metadata": {},
     "output_type": "execute_result"
    }
   ],
   "source": [
    "import numpy as np\n",
    "import pandas as pd\n",
    "import statsmodels.api as sm\n",
    "import scipy.stats as scipy\n",
    "from scipy.stats import chi2_contingency,chisqprob,chi2\n",
    "import scipy, scipy.stats\n",
    "\n",
    "#observed\n",
    "a,b,c,d=chiSquareTemp.iloc[0,0],chiSquareTemp.iloc[0,1],chiSquareTemp.iloc[1,0],chiSquareTemp.iloc[1,1]\n",
    "#Totals\n",
    "col1Sum,col2Sum,row1Sum,row2Sum,totalSum=np.sum(a+c),np.sum(b+d),np.sum(a+b),np.sum(c+d),np.sum(col1sum+col2sum)\n",
    "\n",
    "   #row total               column total\n",
    "e=(col1Sum*row1Sum)/totalSum #a expected\n",
    "f=(col2Sum*row1Sum)/totalSum #b expected\n",
    "\n",
    "g=(col1Sum*row2Sum)/totalSum #c expected\n",
    "h=(col2Sum*row2Sum)/totalSum #d expected\n",
    "#Modify table labels\n",
    "obs=pd.DataFrame([[a,b],[c,d]])\n",
    "obs.rename(columns={0:'Case:65+ yrs', 1:'Control: <65 yrs'}, inplace=True)\n",
    "obs.rename(index={0: 'Exposed: <7 hrs',1: 'Unexposed: 7+ hrs'},inplace=True)\n",
    "obs"
   ]
  },
  {
   "cell_type": "code",
   "execution_count": 632,
   "metadata": {},
   "outputs": [
    {
     "data": {
      "text/html": [
       "<div>\n",
       "<style>\n",
       "    .dataframe thead tr:only-child th {\n",
       "        text-align: right;\n",
       "    }\n",
       "\n",
       "    .dataframe thead th {\n",
       "        text-align: left;\n",
       "    }\n",
       "\n",
       "    .dataframe tbody tr th {\n",
       "        vertical-align: top;\n",
       "    }\n",
       "</style>\n",
       "<table border=\"1\" class=\"dataframe\">\n",
       "  <thead>\n",
       "    <tr style=\"text-align: right;\">\n",
       "      <th></th>\n",
       "      <th>Value</th>\n",
       "      <th>DF</th>\n",
       "      <th>Prob</th>\n",
       "    </tr>\n",
       "  </thead>\n",
       "  <tbody>\n",
       "    <tr>\n",
       "      <th>Chi-Square</th>\n",
       "      <td>1.716070e+06</td>\n",
       "      <td>1</td>\n",
       "      <td>0</td>\n",
       "    </tr>\n",
       "    <tr>\n",
       "      <th>Likelihood Ratio Chi2</th>\n",
       "      <td>1.772301e+06</td>\n",
       "      <td>1</td>\n",
       "      <td>0</td>\n",
       "    </tr>\n",
       "    <tr>\n",
       "      <th>Phi Coefficient</th>\n",
       "      <td>-8.309915e-02</td>\n",
       "      <td></td>\n",
       "      <td></td>\n",
       "    </tr>\n",
       "  </tbody>\n",
       "</table>\n",
       "</div>"
      ],
      "text/plain": [
       "                              Value DF Prob\n",
       "Chi-Square             1.716070e+06  1    0\n",
       "Likelihood Ratio Chi2  1.772301e+06  1    0\n",
       "Phi Coefficient       -8.309915e-02        "
      ]
     },
     "execution_count": 632,
     "metadata": {},
     "output_type": "execute_result"
    }
   ],
   "source": [
    "#Get Chi2 and LR for table\n",
    "chi2, pvalue1, dof1, expected1 = chi2_contingency(obs,correction=True)\n",
    "LR, pvalue2, dof2, expected2 = chi2_contingency(obs, lambda_=\"log-likelihood\")\n",
    "#calculated phi for table\n",
    "phi=(a*d-b*c)/np.sqrt((a+b)*(c+d)*(a+c)*(b+d))\n",
    "phiTable=list([phi,'',''])\n",
    "estimates=pd.DataFrame([[chi2,dof1,pvalue1],[LR,dof2,pvalue2],phiTable],columns=['Value','DF','Prob'])\n",
    "#Rename Indexes \n",
    "estimates.rename(index={0: 'Chi-Square',1: 'Likelihood Ratio Chi2',2:'Phi Coefficient'},inplace=True)\n",
    "estimates"
   ]
  },
  {
   "cell_type": "code",
   "execution_count": 633,
   "metadata": {},
   "outputs": [
    {
     "name": "stdout",
     "output_type": "stream",
     "text": [
      "               Estimate   SE   LCB    UCB   p-value\n",
      "---------------------------------------------------\n",
      "Odds ratio        0.632        0.631  0.632   0.000\n",
      "Log odds ratio   -0.460 0.000 -0.460 -0.459   0.000\n",
      "Risk ratio        0.730       -0.460 -0.459   0.000\n",
      "Log risk ratio   -0.315 0.000 -0.315 -0.314   0.000\n",
      "---------------------------------------------------\n"
     ]
    }
   ],
   "source": [
    "table = np.asarray(obs)\n",
    "results = sm.stats.Table2x2(table.T)\n",
    "print(results.summary())"
   ]
  },
  {
   "cell_type": "markdown",
   "metadata": {},
   "source": [
    "**Explanation:** *Unexpectadly there seems to be a negative correlation between age and sleep. I have commonly heard as you get older your quality of sleep diminishes; however, judging by these results that doesn't seem to be the case. We can see a negative correlation (protective effect), where those whom are of age 65 or older are 0.63 times more likely to get inadequate sleep in the last month. It is unlikely we will be using age in our final model.*"
   ]
  },
  {
   "cell_type": "markdown",
   "metadata": {},
   "source": [
    "*Sleep x Mental Health Status*\n",
    "-----------------"
   ]
  },
  {
   "cell_type": "code",
   "execution_count": 639,
   "metadata": {},
   "outputs": [
    {
     "data": {
      "text/html": [
       "<div>\n",
       "<style>\n",
       "    .dataframe thead tr:only-child th {\n",
       "        text-align: right;\n",
       "    }\n",
       "\n",
       "    .dataframe thead th {\n",
       "        text-align: left;\n",
       "    }\n",
       "\n",
       "    .dataframe tbody tr th {\n",
       "        vertical-align: top;\n",
       "    }\n",
       "</style>\n",
       "<table border=\"1\" class=\"dataframe\">\n",
       "  <thead>\n",
       "    <tr style=\"text-align: right;\">\n",
       "      <th></th>\n",
       "      <th>0 Days</th>\n",
       "      <th>1+ Days</th>\n",
       "      <th>Missing/Refused</th>\n",
       "      <th>Total</th>\n",
       "    </tr>\n",
       "  </thead>\n",
       "  <tbody>\n",
       "    <tr>\n",
       "      <th>Fewer than 7 hrs</th>\n",
       "      <td>4.888183e+07</td>\n",
       "      <td>3.673534e+07</td>\n",
       "      <td>1.542377e+06</td>\n",
       "      <td>8.715955e+07</td>\n",
       "    </tr>\n",
       "    <tr>\n",
       "      <th>7 or more hrs</th>\n",
       "      <td>1.141795e+08</td>\n",
       "      <td>4.801501e+07</td>\n",
       "      <td>2.191640e+06</td>\n",
       "      <td>1.643861e+08</td>\n",
       "    </tr>\n",
       "    <tr>\n",
       "      <th>Missing/Refused</th>\n",
       "      <td>1.465835e+06</td>\n",
       "      <td>8.524446e+05</td>\n",
       "      <td>2.872109e+05</td>\n",
       "      <td>2.605491e+06</td>\n",
       "    </tr>\n",
       "    <tr>\n",
       "      <th>Total</th>\n",
       "      <td>1.645271e+08</td>\n",
       "      <td>8.560279e+07</td>\n",
       "      <td>4.021228e+06</td>\n",
       "      <td>2.541511e+08</td>\n",
       "    </tr>\n",
       "  </tbody>\n",
       "</table>\n",
       "</div>"
      ],
      "text/plain": [
       "                        0 Days       1+ Days  Missing/Refused         Total\n",
       "Fewer than 7 hrs  4.888183e+07  3.673534e+07     1.542377e+06  8.715955e+07\n",
       "7 or more hrs     1.141795e+08  4.801501e+07     2.191640e+06  1.643861e+08\n",
       "Missing/Refused   1.465835e+06  8.524446e+05     2.872109e+05  2.605491e+06\n",
       "Total             1.645271e+08  8.560279e+07     4.021228e+06  2.541511e+08"
      ]
     },
     "execution_count": 639,
     "metadata": {},
     "output_type": "execute_result"
    }
   ],
   "source": [
    "chiSquareTemp=pd.DataFrame(BRFSS2016,columns=['sleeptime','_MENT14D','_LLCPWT'])\n",
    "#Calculate Variable Groups\n",
    "BinMentHlth=[]\n",
    "for i in BRFSS2016._MENT14D:\n",
    "    if i==1:\n",
    "        BinMentHlth.append(0)\n",
    "    elif i>1 and i<9:\n",
    "        BinMentHlth.append(1)\n",
    "    else:\n",
    "        BinMentHlth.append(9)\n",
    "chiSquareTemp['BinMentHlth']=BinMentHlth \n",
    "chiSquareTemp.drop(['_MENT14D'],axis=1,inplace=True)\n",
    "    \n",
    "chiSquareTemp=sklearn.metrics.confusion_matrix(chiSquareTemp['BinMentHlth'], chiSquareTemp['sleeptime'], labels=None, sample_weight=chiSquareTemp['_LLCPWT'])\n",
    "\n",
    "#Add Values to DataFrame\n",
    "firstCol=pd.DataFrame(chiSquareTemp[0].T,columns=['first'])\n",
    "secondCol=pd.DataFrame(chiSquareTemp[1].T,columns=['second']) #For whatever reason these values got switched\n",
    "thirdCol=pd.DataFrame(chiSquareTemp[2],columns=['third'])\n",
    "#Setup totals\n",
    "chiSquareTemp=firstCol\n",
    "chiSquareTemp['second']=secondCol\n",
    "chiSquareTemp['third']=thirdCol\n",
    "chiSquareTemp['fourth']=chiSquareTemp['first']+chiSquareTemp['second']+chiSquareTemp['third']\n",
    "#Create Totals Rows\n",
    "last=np.array(chiSquareTemp.sum())\n",
    "chiSquareTemp.loc[len(chiSquareTemp)]=last\n",
    "#Rename Indexes \n",
    "chiSquareTemp.rename(index={0: 'Fewer than 7 hrs',1: '7 or more hrs',2:'Missing/Refused',3:'Total'},inplace=True)\n",
    "#Rename Columns\n",
    "chiSquareTemp.rename(columns={'first':'0 Days', 'second':'1+ Days', 'third':'Missing/Refused','fourth':'Total'}, inplace=True)\n",
    "chiSquareTemp"
   ]
  },
  {
   "cell_type": "code",
   "execution_count": 640,
   "metadata": {},
   "outputs": [],
   "source": [
    "chiSquareTemp_new=chiSquareTemp[['1+ Days','0 Days','Missing/Refused','Total']]\n",
    "chiSquareTemp=chiSquareTemp_new"
   ]
  },
  {
   "cell_type": "code",
   "execution_count": 641,
   "metadata": {},
   "outputs": [
    {
     "data": {
      "text/html": [
       "<div>\n",
       "<style>\n",
       "    .dataframe thead tr:only-child th {\n",
       "        text-align: right;\n",
       "    }\n",
       "\n",
       "    .dataframe thead th {\n",
       "        text-align: left;\n",
       "    }\n",
       "\n",
       "    .dataframe tbody tr th {\n",
       "        vertical-align: top;\n",
       "    }\n",
       "</style>\n",
       "<table border=\"1\" class=\"dataframe\">\n",
       "  <thead>\n",
       "    <tr style=\"text-align: right;\">\n",
       "      <th></th>\n",
       "      <th>Case: 1+ Days</th>\n",
       "      <th>Control: 0 Days</th>\n",
       "    </tr>\n",
       "  </thead>\n",
       "  <tbody>\n",
       "    <tr>\n",
       "      <th>Exposed: &lt;7 hrs</th>\n",
       "      <td>3.673534e+07</td>\n",
       "      <td>4.888183e+07</td>\n",
       "    </tr>\n",
       "    <tr>\n",
       "      <th>Unexposed: 7+ hrs</th>\n",
       "      <td>4.801501e+07</td>\n",
       "      <td>1.141795e+08</td>\n",
       "    </tr>\n",
       "  </tbody>\n",
       "</table>\n",
       "</div>"
      ],
      "text/plain": [
       "                   Case: 1+ Days  Control: 0 Days\n",
       "Exposed: <7 hrs     3.673534e+07     4.888183e+07\n",
       "Unexposed: 7+ hrs   4.801501e+07     1.141795e+08"
      ]
     },
     "execution_count": 641,
     "metadata": {},
     "output_type": "execute_result"
    }
   ],
   "source": [
    "import numpy as np\n",
    "import pandas as pd\n",
    "import statsmodels.api as sm\n",
    "import scipy.stats as scipy\n",
    "from scipy.stats import chi2_contingency,chisqprob,chi2\n",
    "import scipy, scipy.stats\n",
    "\n",
    "#observed\n",
    "a,b,c,d=chiSquareTemp.iloc[0,0],chiSquareTemp.iloc[0,1],chiSquareTemp.iloc[1,0],chiSquareTemp.iloc[1,1]\n",
    "#Totals\n",
    "col1Sum,col2Sum,row1Sum,row2Sum,totalSum=np.sum(a+c),np.sum(b+d),np.sum(a+b),np.sum(c+d),np.sum(col1sum+col2sum)\n",
    "\n",
    "   #row total               column total\n",
    "e=(col1Sum*row1Sum)/totalSum #a expected\n",
    "f=(col2Sum*row1Sum)/totalSum #b expected\n",
    "\n",
    "g=(col1Sum*row2Sum)/totalSum #c expected\n",
    "h=(col2Sum*row2Sum)/totalSum #d expected\n",
    "#Modify table labels\n",
    "obs=pd.DataFrame([[a,b],[c,d]])\n",
    "obs.rename(columns={0:'Case: 1+ Days', 1:'Control: 0 Days'}, inplace=True)\n",
    "obs.rename(index={0: 'Exposed: <7 hrs',1: 'Unexposed: 7+ hrs'},inplace=True)\n",
    "obs"
   ]
  },
  {
   "cell_type": "code",
   "execution_count": 642,
   "metadata": {},
   "outputs": [
    {
     "data": {
      "text/html": [
       "<div>\n",
       "<style>\n",
       "    .dataframe thead tr:only-child th {\n",
       "        text-align: right;\n",
       "    }\n",
       "\n",
       "    .dataframe thead th {\n",
       "        text-align: left;\n",
       "    }\n",
       "\n",
       "    .dataframe tbody tr th {\n",
       "        vertical-align: top;\n",
       "    }\n",
       "</style>\n",
       "<table border=\"1\" class=\"dataframe\">\n",
       "  <thead>\n",
       "    <tr style=\"text-align: right;\">\n",
       "      <th></th>\n",
       "      <th>Value</th>\n",
       "      <th>DF</th>\n",
       "      <th>Prob</th>\n",
       "    </tr>\n",
       "  </thead>\n",
       "  <tbody>\n",
       "    <tr>\n",
       "      <th>Chi-Square</th>\n",
       "      <td>4.406919e+06</td>\n",
       "      <td>1</td>\n",
       "      <td>0</td>\n",
       "    </tr>\n",
       "    <tr>\n",
       "      <th>Likelihood Ratio Chi2</th>\n",
       "      <td>4.346759e+06</td>\n",
       "      <td>1</td>\n",
       "      <td>0</td>\n",
       "    </tr>\n",
       "    <tr>\n",
       "      <th>Phi Coefficient</th>\n",
       "      <td>1.333542e-01</td>\n",
       "      <td></td>\n",
       "      <td></td>\n",
       "    </tr>\n",
       "  </tbody>\n",
       "</table>\n",
       "</div>"
      ],
      "text/plain": [
       "                              Value DF Prob\n",
       "Chi-Square             4.406919e+06  1    0\n",
       "Likelihood Ratio Chi2  4.346759e+06  1    0\n",
       "Phi Coefficient        1.333542e-01        "
      ]
     },
     "execution_count": 642,
     "metadata": {},
     "output_type": "execute_result"
    }
   ],
   "source": [
    "#Get Chi2 and LR for table\n",
    "chi2, pvalue1, dof1, expected1 = chi2_contingency(obs,correction=True)\n",
    "LR, pvalue2, dof2, expected2 = chi2_contingency(obs, lambda_=\"log-likelihood\")\n",
    "#calculated phi for table\n",
    "phi=(a*d-b*c)/np.sqrt((a+b)*(c+d)*(a+c)*(b+d))\n",
    "phiTable=list([phi,'',''])\n",
    "estimates=pd.DataFrame([[chi2,dof1,pvalue1],[LR,dof2,pvalue2],phiTable],columns=['Value','DF','Prob'])\n",
    "#Rename Indexes \n",
    "estimates.rename(index={0: 'Chi-Square',1: 'Likelihood Ratio Chi2',2:'Phi Coefficient'},inplace=True)\n",
    "estimates"
   ]
  },
  {
   "cell_type": "code",
   "execution_count": 643,
   "metadata": {},
   "outputs": [
    {
     "name": "stdout",
     "output_type": "stream",
     "text": [
      "               Estimate   SE   LCB   UCB  p-value\n",
      "-------------------------------------------------\n",
      "Odds ratio        1.787       1.786 1.788   0.000\n",
      "Log odds ratio    0.581 0.000 0.580 0.581   0.000\n",
      "Risk ratio        1.446       0.580 0.581   0.000\n",
      "Log risk ratio    0.369 0.000 0.368 0.369   0.000\n",
      "-------------------------------------------------\n"
     ]
    }
   ],
   "source": [
    "table = np.asarray(obs)\n",
    "results = sm.stats.Table2x2(table.T)\n",
    "print(results.summary())"
   ]
  },
  {
   "cell_type": "markdown",
   "metadata": {},
   "source": [
    "**Explanation:** *Hitting a little closer to home we can see  from these results those whom responded having 1 day or more within the last month when their mental health was 'not good' are 1.8 times more likely to have responded to having inadequate sleep. Furthermore, judging by the phi (1.34) we see a very large effect or strong association. Although I would have to admit the association here is much stronger than I expected and I am a little concerned with results.*"
   ]
  },
  {
   "cell_type": "markdown",
   "metadata": {},
   "source": [
    "*Sleep x Binge Drinking*\n",
    "-----------------"
   ]
  },
  {
   "cell_type": "code",
   "execution_count": 655,
   "metadata": {},
   "outputs": [
    {
     "data": {
      "text/html": [
       "<div>\n",
       "<style>\n",
       "    .dataframe thead tr:only-child th {\n",
       "        text-align: right;\n",
       "    }\n",
       "\n",
       "    .dataframe thead th {\n",
       "        text-align: left;\n",
       "    }\n",
       "\n",
       "    .dataframe tbody tr th {\n",
       "        vertical-align: top;\n",
       "    }\n",
       "</style>\n",
       "<table border=\"1\" class=\"dataframe\">\n",
       "  <thead>\n",
       "    <tr style=\"text-align: right;\">\n",
       "      <th></th>\n",
       "      <th>No</th>\n",
       "      <th>Yes</th>\n",
       "      <th>Missing/Refused</th>\n",
       "      <th>Total</th>\n",
       "    </tr>\n",
       "  </thead>\n",
       "  <tbody>\n",
       "    <tr>\n",
       "      <th>Fewer than 7 hrs</th>\n",
       "      <td>6.605607e+07</td>\n",
       "      <td>1.461877e+07</td>\n",
       "      <td>6.484707e+06</td>\n",
       "      <td>8.715955e+07</td>\n",
       "    </tr>\n",
       "    <tr>\n",
       "      <th>7 or more hrs</th>\n",
       "      <td>1.275462e+08</td>\n",
       "      <td>2.488783e+07</td>\n",
       "      <td>1.195210e+07</td>\n",
       "      <td>1.643861e+08</td>\n",
       "    </tr>\n",
       "    <tr>\n",
       "      <th>Missing/Refused</th>\n",
       "      <td>2.031858e+06</td>\n",
       "      <td>1.825925e+05</td>\n",
       "      <td>3.910402e+05</td>\n",
       "      <td>2.605491e+06</td>\n",
       "    </tr>\n",
       "    <tr>\n",
       "      <th>Total</th>\n",
       "      <td>1.956341e+08</td>\n",
       "      <td>3.968919e+07</td>\n",
       "      <td>1.882785e+07</td>\n",
       "      <td>2.541511e+08</td>\n",
       "    </tr>\n",
       "  </tbody>\n",
       "</table>\n",
       "</div>"
      ],
      "text/plain": [
       "                            No           Yes  Missing/Refused         Total\n",
       "Fewer than 7 hrs  6.605607e+07  1.461877e+07     6.484707e+06  8.715955e+07\n",
       "7 or more hrs     1.275462e+08  2.488783e+07     1.195210e+07  1.643861e+08\n",
       "Missing/Refused   2.031858e+06  1.825925e+05     3.910402e+05  2.605491e+06\n",
       "Total             1.956341e+08  3.968919e+07     1.882785e+07  2.541511e+08"
      ]
     },
     "execution_count": 655,
     "metadata": {},
     "output_type": "execute_result"
    }
   ],
   "source": [
    "chiSquareTemp=pd.DataFrame(BRFSS2016,columns=['sleeptime','_RFBING5','_LLCPWT'])\n",
    "#Calculate Variable Groups\n",
    "BingeDrnk=[]\n",
    "for i in BRFSS2016._RFBING5:\n",
    "    if i==1:\n",
    "        BingeDrnk.append(0)\n",
    "    elif i==2:\n",
    "        BingeDrnk.append(1)\n",
    "    else:\n",
    "        BingeDrnk.append(9)\n",
    "chiSquareTemp['BingeDrnk']=BingeDrnk \n",
    "chiSquareTemp.drop(['_RFBING5'],axis=1,inplace=True)\n",
    "    \n",
    "chiSquareTemp=sklearn.metrics.confusion_matrix(chiSquareTemp['BingeDrnk'], chiSquareTemp['sleeptime'], labels=None, sample_weight=chiSquareTemp['_LLCPWT'])\n",
    "\n",
    "#Add Values to DataFrame\n",
    "firstCol=pd.DataFrame(chiSquareTemp[0].T,columns=['first'])\n",
    "secondCol=pd.DataFrame(chiSquareTemp[1].T,columns=['second']) #For whatever reason these values got switched\n",
    "thirdCol=pd.DataFrame(chiSquareTemp[2],columns=['third'])\n",
    "#Setup totals\n",
    "chiSquareTemp=firstCol\n",
    "chiSquareTemp['second']=secondCol\n",
    "chiSquareTemp['third']=thirdCol\n",
    "chiSquareTemp['fourth']=chiSquareTemp['first']+chiSquareTemp['second']+chiSquareTemp['third']\n",
    "#Create Totals Rows\n",
    "last=np.array(chiSquareTemp.sum())\n",
    "chiSquareTemp.loc[len(chiSquareTemp)]=last\n",
    "#Rename Indexes \n",
    "chiSquareTemp.rename(index={0: 'Fewer than 7 hrs',1: '7 or more hrs',2:'Missing/Refused',3:'Total'},inplace=True)\n",
    "#Rename Columns\n",
    "chiSquareTemp.rename(columns={'first':'No', 'second':'Yes', 'third':'Missing/Refused','fourth':'Total'}, inplace=True)\n",
    "chiSquareTemp"
   ]
  },
  {
   "cell_type": "code",
   "execution_count": 656,
   "metadata": {
    "collapsed": true
   },
   "outputs": [],
   "source": [
    "chiSquareTemp_new=chiSquareTemp[['Yes','No','Missing/Refused','Total']]\n",
    "chiSquareTemp=chiSquareTemp_new"
   ]
  },
  {
   "cell_type": "code",
   "execution_count": 657,
   "metadata": {},
   "outputs": [
    {
     "data": {
      "text/html": [
       "<div>\n",
       "<style>\n",
       "    .dataframe thead tr:only-child th {\n",
       "        text-align: right;\n",
       "    }\n",
       "\n",
       "    .dataframe thead th {\n",
       "        text-align: left;\n",
       "    }\n",
       "\n",
       "    .dataframe tbody tr th {\n",
       "        vertical-align: top;\n",
       "    }\n",
       "</style>\n",
       "<table border=\"1\" class=\"dataframe\">\n",
       "  <thead>\n",
       "    <tr style=\"text-align: right;\">\n",
       "      <th></th>\n",
       "      <th>Case: 1+ Days</th>\n",
       "      <th>Control: 0 Days</th>\n",
       "    </tr>\n",
       "  </thead>\n",
       "  <tbody>\n",
       "    <tr>\n",
       "      <th>Exposed: &lt;7 hrs</th>\n",
       "      <td>1.461877e+07</td>\n",
       "      <td>6.605607e+07</td>\n",
       "    </tr>\n",
       "    <tr>\n",
       "      <th>Unexposed: 7+ hrs</th>\n",
       "      <td>2.488783e+07</td>\n",
       "      <td>1.275462e+08</td>\n",
       "    </tr>\n",
       "  </tbody>\n",
       "</table>\n",
       "</div>"
      ],
      "text/plain": [
       "                   Case: 1+ Days  Control: 0 Days\n",
       "Exposed: <7 hrs     1.461877e+07     6.605607e+07\n",
       "Unexposed: 7+ hrs   2.488783e+07     1.275462e+08"
      ]
     },
     "execution_count": 657,
     "metadata": {},
     "output_type": "execute_result"
    }
   ],
   "source": [
    "import numpy as np\n",
    "import pandas as pd\n",
    "import statsmodels.api as sm\n",
    "import scipy.stats as scipy\n",
    "from scipy.stats import chi2_contingency,chisqprob,chi2\n",
    "import scipy, scipy.stats\n",
    "\n",
    "#observed\n",
    "a,b,c,d=chiSquareTemp.iloc[0,0],chiSquareTemp.iloc[0,1],chiSquareTemp.iloc[1,0],chiSquareTemp.iloc[1,1]\n",
    "#Totals\n",
    "col1Sum,col2Sum,row1Sum,row2Sum,totalSum=np.sum(a+c),np.sum(b+d),np.sum(a+b),np.sum(c+d),np.sum(col1sum+col2sum)\n",
    "\n",
    "   #row total               column total\n",
    "e=(col1Sum*row1Sum)/totalSum #a expected\n",
    "f=(col2Sum*row1Sum)/totalSum #b expected\n",
    "\n",
    "g=(col1Sum*row2Sum)/totalSum #c expected\n",
    "h=(col2Sum*row2Sum)/totalSum #d expected\n",
    "#Modify table labels\n",
    "obs=pd.DataFrame([[a,b],[c,d]])\n",
    "obs.rename(columns={0:'Case: 1+ Days', 1:'Control: 0 Days'}, inplace=True)\n",
    "obs.rename(index={0: 'Exposed: <7 hrs',1: 'Unexposed: 7+ hrs'},inplace=True)\n",
    "obs"
   ]
  },
  {
   "cell_type": "code",
   "execution_count": 658,
   "metadata": {},
   "outputs": [
    {
     "data": {
      "text/html": [
       "<div>\n",
       "<style>\n",
       "    .dataframe thead tr:only-child th {\n",
       "        text-align: right;\n",
       "    }\n",
       "\n",
       "    .dataframe thead th {\n",
       "        text-align: left;\n",
       "    }\n",
       "\n",
       "    .dataframe tbody tr th {\n",
       "        vertical-align: top;\n",
       "    }\n",
       "</style>\n",
       "<table border=\"1\" class=\"dataframe\">\n",
       "  <thead>\n",
       "    <tr style=\"text-align: right;\">\n",
       "      <th></th>\n",
       "      <th>Value</th>\n",
       "      <th>DF</th>\n",
       "      <th>Prob</th>\n",
       "    </tr>\n",
       "  </thead>\n",
       "  <tbody>\n",
       "    <tr>\n",
       "      <th>Chi-Square</th>\n",
       "      <td>120580.451370</td>\n",
       "      <td>1</td>\n",
       "      <td>0</td>\n",
       "    </tr>\n",
       "    <tr>\n",
       "      <th>Likelihood Ratio Chi2</th>\n",
       "      <td>119596.814483</td>\n",
       "      <td>1</td>\n",
       "      <td>0</td>\n",
       "    </tr>\n",
       "    <tr>\n",
       "      <th>Phi Coefficient</th>\n",
       "      <td>0.022744</td>\n",
       "      <td></td>\n",
       "      <td></td>\n",
       "    </tr>\n",
       "  </tbody>\n",
       "</table>\n",
       "</div>"
      ],
      "text/plain": [
       "                               Value DF Prob\n",
       "Chi-Square             120580.451370  1    0\n",
       "Likelihood Ratio Chi2  119596.814483  1    0\n",
       "Phi Coefficient             0.022744        "
      ]
     },
     "execution_count": 658,
     "metadata": {},
     "output_type": "execute_result"
    }
   ],
   "source": [
    "#Get Chi2 and LR for table\n",
    "chi2, pvalue1, dof1, expected1 = chi2_contingency(obs,correction=True)\n",
    "LR, pvalue2, dof2, expected2 = chi2_contingency(obs, lambda_=\"log-likelihood\")\n",
    "#calculated phi for table\n",
    "phi=(a*d-b*c)/np.sqrt((a+b)*(c+d)*(a+c)*(b+d))\n",
    "phiTable=list([phi,'',''])\n",
    "estimates=pd.DataFrame([[chi2,dof1,pvalue1],[LR,dof2,pvalue2],phiTable],columns=['Value','DF','Prob'])\n",
    "#Rename Indexes \n",
    "estimates.rename(index={0: 'Chi-Square',1: 'Likelihood Ratio Chi2',2:'Phi Coefficient'},inplace=True)\n",
    "estimates"
   ]
  },
  {
   "cell_type": "code",
   "execution_count": 659,
   "metadata": {},
   "outputs": [
    {
     "name": "stdout",
     "output_type": "stream",
     "text": [
      "               Estimate   SE   LCB   UCB  p-value\n",
      "-------------------------------------------------\n",
      "Odds ratio        1.134       1.133 1.135   0.000\n",
      "Log odds ratio    0.126 0.000 0.125 0.127   0.000\n",
      "Risk ratio        1.085       0.125 0.127   0.000\n",
      "Log risk ratio    0.081 0.000 0.081 0.082   0.000\n",
      "-------------------------------------------------\n"
     ]
    }
   ],
   "source": [
    "table = np.asarray(obs)\n",
    "results = sm.stats.Table2x2(table.T)\n",
    "print(results.summary())"
   ]
  },
  {
   "cell_type": "markdown",
   "metadata": {},
   "source": [
    "**Explanation:** *According to these results we can see those whom responded to being binge drinkers are 1.13 times more likely to have responded to having experienced inadequate sleep. However, since 1.13 isn't much of a difference and the phi is only (0.023) it would seem as though the association isn't particularly strong even though the pvalue shows significance.*"
   ]
  },
  {
   "cell_type": "markdown",
   "metadata": {},
   "source": [
    "*Sleep x Tobacco Smoking*\n",
    "-----------------"
   ]
  },
  {
   "cell_type": "code",
   "execution_count": 660,
   "metadata": {},
   "outputs": [
    {
     "data": {
      "text/html": [
       "<div>\n",
       "<style>\n",
       "    .dataframe thead tr:only-child th {\n",
       "        text-align: right;\n",
       "    }\n",
       "\n",
       "    .dataframe thead th {\n",
       "        text-align: left;\n",
       "    }\n",
       "\n",
       "    .dataframe tbody tr th {\n",
       "        vertical-align: top;\n",
       "    }\n",
       "</style>\n",
       "<table border=\"1\" class=\"dataframe\">\n",
       "  <thead>\n",
       "    <tr style=\"text-align: right;\">\n",
       "      <th></th>\n",
       "      <th>No</th>\n",
       "      <th>Yes</th>\n",
       "      <th>Missing/Refused</th>\n",
       "      <th>Total</th>\n",
       "    </tr>\n",
       "  </thead>\n",
       "  <tbody>\n",
       "    <tr>\n",
       "      <th>Fewer than 7 hrs</th>\n",
       "      <td>6.515087e+07</td>\n",
       "      <td>1.759440e+07</td>\n",
       "      <td>4.414271e+06</td>\n",
       "      <td>8.715955e+07</td>\n",
       "    </tr>\n",
       "    <tr>\n",
       "      <th>7 or more hrs</th>\n",
       "      <td>1.348242e+08</td>\n",
       "      <td>2.117259e+07</td>\n",
       "      <td>8.389305e+06</td>\n",
       "      <td>1.643861e+08</td>\n",
       "    </tr>\n",
       "    <tr>\n",
       "      <th>Missing/Refused</th>\n",
       "      <td>1.830083e+06</td>\n",
       "      <td>5.592160e+05</td>\n",
       "      <td>2.161924e+05</td>\n",
       "      <td>2.605491e+06</td>\n",
       "    </tr>\n",
       "    <tr>\n",
       "      <th>Total</th>\n",
       "      <td>2.018052e+08</td>\n",
       "      <td>3.932621e+07</td>\n",
       "      <td>1.301977e+07</td>\n",
       "      <td>2.541511e+08</td>\n",
       "    </tr>\n",
       "  </tbody>\n",
       "</table>\n",
       "</div>"
      ],
      "text/plain": [
       "                            No           Yes  Missing/Refused         Total\n",
       "Fewer than 7 hrs  6.515087e+07  1.759440e+07     4.414271e+06  8.715955e+07\n",
       "7 or more hrs     1.348242e+08  2.117259e+07     8.389305e+06  1.643861e+08\n",
       "Missing/Refused   1.830083e+06  5.592160e+05     2.161924e+05  2.605491e+06\n",
       "Total             2.018052e+08  3.932621e+07     1.301977e+07  2.541511e+08"
      ]
     },
     "execution_count": 660,
     "metadata": {},
     "output_type": "execute_result"
    }
   ],
   "source": [
    "chiSquareTemp=pd.DataFrame(BRFSS2016,columns=['sleeptime','_RFSMOK3','_LLCPWT'])\n",
    "#Calculate Variable Groups\n",
    "TobSmoke=[]\n",
    "for i in BRFSS2016._RFSMOK3:\n",
    "    if i==1:\n",
    "        TobSmoke.append(0)\n",
    "    elif i==2:\n",
    "        TobSmoke.append(1)\n",
    "    else:\n",
    "        TobSmoke.append(9)\n",
    "chiSquareTemp['TobSmoke']=TobSmoke \n",
    "chiSquareTemp.drop(['_RFSMOK3'],axis=1,inplace=True)\n",
    "    \n",
    "chiSquareTemp=sklearn.metrics.confusion_matrix(chiSquareTemp['TobSmoke'], chiSquareTemp['sleeptime'], labels=None, sample_weight=chiSquareTemp['_LLCPWT'])\n",
    "\n",
    "#Add Values to DataFrame\n",
    "firstCol=pd.DataFrame(chiSquareTemp[0].T,columns=['first'])\n",
    "secondCol=pd.DataFrame(chiSquareTemp[1].T,columns=['second']) #For whatever reason these values got switched\n",
    "thirdCol=pd.DataFrame(chiSquareTemp[2],columns=['third'])\n",
    "#Setup totals\n",
    "chiSquareTemp=firstCol\n",
    "chiSquareTemp['second']=secondCol\n",
    "chiSquareTemp['third']=thirdCol\n",
    "chiSquareTemp['fourth']=chiSquareTemp['first']+chiSquareTemp['second']+chiSquareTemp['third']\n",
    "#Create Totals Rows\n",
    "last=np.array(chiSquareTemp.sum())\n",
    "chiSquareTemp.loc[len(chiSquareTemp)]=last\n",
    "#Rename Indexes \n",
    "chiSquareTemp.rename(index={0: 'Fewer than 7 hrs',1: '7 or more hrs',2:'Missing/Refused',3:'Total'},inplace=True)\n",
    "#Rename Columns\n",
    "chiSquareTemp.rename(columns={'first':'No', 'second':'Yes', 'third':'Missing/Refused','fourth':'Total'}, inplace=True)\n",
    "chiSquareTemp"
   ]
  },
  {
   "cell_type": "code",
   "execution_count": 661,
   "metadata": {
    "collapsed": true
   },
   "outputs": [],
   "source": [
    "chiSquareTemp_new=chiSquareTemp[['Yes','No','Missing/Refused','Total']]\n",
    "chiSquareTemp=chiSquareTemp_new"
   ]
  },
  {
   "cell_type": "code",
   "execution_count": 662,
   "metadata": {},
   "outputs": [
    {
     "data": {
      "text/html": [
       "<div>\n",
       "<style>\n",
       "    .dataframe thead tr:only-child th {\n",
       "        text-align: right;\n",
       "    }\n",
       "\n",
       "    .dataframe thead th {\n",
       "        text-align: left;\n",
       "    }\n",
       "\n",
       "    .dataframe tbody tr th {\n",
       "        vertical-align: top;\n",
       "    }\n",
       "</style>\n",
       "<table border=\"1\" class=\"dataframe\">\n",
       "  <thead>\n",
       "    <tr style=\"text-align: right;\">\n",
       "      <th></th>\n",
       "      <th>Case: Yes</th>\n",
       "      <th>Control: No</th>\n",
       "    </tr>\n",
       "  </thead>\n",
       "  <tbody>\n",
       "    <tr>\n",
       "      <th>Exposed: &lt;7 hrs</th>\n",
       "      <td>1.759440e+07</td>\n",
       "      <td>6.515087e+07</td>\n",
       "    </tr>\n",
       "    <tr>\n",
       "      <th>Unexposed: 7+ hrs</th>\n",
       "      <td>2.117259e+07</td>\n",
       "      <td>1.348242e+08</td>\n",
       "    </tr>\n",
       "  </tbody>\n",
       "</table>\n",
       "</div>"
      ],
      "text/plain": [
       "                      Case: Yes   Control: No\n",
       "Exposed: <7 hrs    1.759440e+07  6.515087e+07\n",
       "Unexposed: 7+ hrs  2.117259e+07  1.348242e+08"
      ]
     },
     "execution_count": 662,
     "metadata": {},
     "output_type": "execute_result"
    }
   ],
   "source": [
    "import numpy as np\n",
    "import pandas as pd\n",
    "import statsmodels.api as sm\n",
    "import scipy.stats as scipy\n",
    "from scipy.stats import chi2_contingency,chisqprob,chi2\n",
    "import scipy, scipy.stats\n",
    "\n",
    "#observed\n",
    "a,b,c,d=chiSquareTemp.iloc[0,0],chiSquareTemp.iloc[0,1],chiSquareTemp.iloc[1,0],chiSquareTemp.iloc[1,1]\n",
    "#Totals\n",
    "col1Sum,col2Sum,row1Sum,row2Sum,totalSum=np.sum(a+c),np.sum(b+d),np.sum(a+b),np.sum(c+d),np.sum(col1sum+col2sum)\n",
    "\n",
    "   #row total               column total\n",
    "e=(col1Sum*row1Sum)/totalSum #a expected\n",
    "f=(col2Sum*row1Sum)/totalSum #b expected\n",
    "\n",
    "g=(col1Sum*row2Sum)/totalSum #c expected\n",
    "h=(col2Sum*row2Sum)/totalSum #d expected\n",
    "#Modify table labels\n",
    "obs=pd.DataFrame([[a,b],[c,d]])\n",
    "obs.rename(columns={0:'Case: Yes', 1:'Control: No'}, inplace=True)\n",
    "obs.rename(index={0: 'Exposed: <7 hrs',1: 'Unexposed: 7+ hrs'},inplace=True)\n",
    "obs"
   ]
  },
  {
   "cell_type": "code",
   "execution_count": 663,
   "metadata": {},
   "outputs": [
    {
     "data": {
      "text/html": [
       "<div>\n",
       "<style>\n",
       "    .dataframe thead tr:only-child th {\n",
       "        text-align: right;\n",
       "    }\n",
       "\n",
       "    .dataframe thead th {\n",
       "        text-align: left;\n",
       "    }\n",
       "\n",
       "    .dataframe tbody tr th {\n",
       "        vertical-align: top;\n",
       "    }\n",
       "</style>\n",
       "<table border=\"1\" class=\"dataframe\">\n",
       "  <thead>\n",
       "    <tr style=\"text-align: right;\">\n",
       "      <th></th>\n",
       "      <th>Value</th>\n",
       "      <th>DF</th>\n",
       "      <th>Prob</th>\n",
       "    </tr>\n",
       "  </thead>\n",
       "  <tbody>\n",
       "    <tr>\n",
       "      <th>Chi-Square</th>\n",
       "      <td>2.351266e+06</td>\n",
       "      <td>1</td>\n",
       "      <td>0</td>\n",
       "    </tr>\n",
       "    <tr>\n",
       "      <th>Likelihood Ratio Chi2</th>\n",
       "      <td>2.280404e+06</td>\n",
       "      <td>1</td>\n",
       "      <td>0</td>\n",
       "    </tr>\n",
       "    <tr>\n",
       "      <th>Phi Coefficient</th>\n",
       "      <td>9.923992e-02</td>\n",
       "      <td></td>\n",
       "      <td></td>\n",
       "    </tr>\n",
       "  </tbody>\n",
       "</table>\n",
       "</div>"
      ],
      "text/plain": [
       "                              Value DF Prob\n",
       "Chi-Square             2.351266e+06  1    0\n",
       "Likelihood Ratio Chi2  2.280404e+06  1    0\n",
       "Phi Coefficient        9.923992e-02        "
      ]
     },
     "execution_count": 663,
     "metadata": {},
     "output_type": "execute_result"
    }
   ],
   "source": [
    "#Get Chi2 and LR for table\n",
    "chi2, pvalue1, dof1, expected1 = chi2_contingency(obs,correction=True)\n",
    "LR, pvalue2, dof2, expected2 = chi2_contingency(obs, lambda_=\"log-likelihood\")\n",
    "#calculated phi for table\n",
    "phi=(a*d-b*c)/np.sqrt((a+b)*(c+d)*(a+c)*(b+d))\n",
    "phiTable=list([phi,'',''])\n",
    "estimates=pd.DataFrame([[chi2,dof1,pvalue1],[LR,dof2,pvalue2],phiTable],columns=['Value','DF','Prob'])\n",
    "#Rename Indexes \n",
    "estimates.rename(index={0: 'Chi-Square',1: 'Likelihood Ratio Chi2',2:'Phi Coefficient'},inplace=True)\n",
    "estimates"
   ]
  },
  {
   "cell_type": "code",
   "execution_count": 664,
   "metadata": {},
   "outputs": [
    {
     "name": "stdout",
     "output_type": "stream",
     "text": [
      "               Estimate   SE   LCB   UCB  p-value\n",
      "-------------------------------------------------\n",
      "Odds ratio        1.720       1.718 1.721   0.000\n",
      "Log odds ratio    0.542 0.000 0.541 0.543   0.000\n",
      "Risk ratio        1.393       0.541 0.543   0.000\n",
      "Log risk ratio    0.331 0.000 0.331 0.332   0.000\n",
      "-------------------------------------------------\n"
     ]
    }
   ],
   "source": [
    "table = np.asarray(obs)\n",
    "results = sm.stats.Table2x2(table.T)\n",
    "print(results.summary())"
   ]
  },
  {
   "cell_type": "markdown",
   "metadata": {},
   "source": [
    "**Explanation:** * I was most curious to see if there was an association between self reported cigarette smoking use and inadequate sleep and we can see that it certainly seems to be the case that those whom reported being smokers were 1.7 times more likely to have reported experiencing inadequate sleep. Furthermore juding by the phi there seems to be a very strong effect. Once again I I question the phi results, however you can be certain I wil be including tobacco smoking in my final model.*"
   ]
  },
  {
   "cell_type": "markdown",
   "metadata": {},
   "source": [
    "*Sleep x BMI (Body Mass Index)*\n",
    "-----------------"
   ]
  },
  {
   "cell_type": "code",
   "execution_count": 670,
   "metadata": {},
   "outputs": [
    {
     "data": {
      "text/html": [
       "<div>\n",
       "<style>\n",
       "    .dataframe thead tr:only-child th {\n",
       "        text-align: right;\n",
       "    }\n",
       "\n",
       "    .dataframe thead th {\n",
       "        text-align: left;\n",
       "    }\n",
       "\n",
       "    .dataframe tbody tr th {\n",
       "        vertical-align: top;\n",
       "    }\n",
       "</style>\n",
       "<table border=\"1\" class=\"dataframe\">\n",
       "  <thead>\n",
       "    <tr style=\"text-align: right;\">\n",
       "      <th></th>\n",
       "      <th>Not Overweight</th>\n",
       "      <th>Overweight</th>\n",
       "      <th>Missing/Refused</th>\n",
       "      <th>Total</th>\n",
       "    </tr>\n",
       "  </thead>\n",
       "  <tbody>\n",
       "    <tr>\n",
       "      <th>Fewer than 7 hrs</th>\n",
       "      <td>2.553090e+07</td>\n",
       "      <td>5.437276e+07</td>\n",
       "      <td>7.255890e+06</td>\n",
       "      <td>8.715955e+07</td>\n",
       "    </tr>\n",
       "    <tr>\n",
       "      <th>7 or more hrs</th>\n",
       "      <td>5.507648e+07</td>\n",
       "      <td>9.420024e+07</td>\n",
       "      <td>1.510938e+07</td>\n",
       "      <td>1.643861e+08</td>\n",
       "    </tr>\n",
       "    <tr>\n",
       "      <th>Missing/Refused</th>\n",
       "      <td>7.481472e+05</td>\n",
       "      <td>1.310409e+06</td>\n",
       "      <td>5.469345e+05</td>\n",
       "      <td>2.605491e+06</td>\n",
       "    </tr>\n",
       "    <tr>\n",
       "      <th>Total</th>\n",
       "      <td>8.135552e+07</td>\n",
       "      <td>1.498834e+08</td>\n",
       "      <td>2.291220e+07</td>\n",
       "      <td>2.541511e+08</td>\n",
       "    </tr>\n",
       "  </tbody>\n",
       "</table>\n",
       "</div>"
      ],
      "text/plain": [
       "                  Not Overweight    Overweight  Missing/Refused         Total\n",
       "Fewer than 7 hrs    2.553090e+07  5.437276e+07     7.255890e+06  8.715955e+07\n",
       "7 or more hrs       5.507648e+07  9.420024e+07     1.510938e+07  1.643861e+08\n",
       "Missing/Refused     7.481472e+05  1.310409e+06     5.469345e+05  2.605491e+06\n",
       "Total               8.135552e+07  1.498834e+08     2.291220e+07  2.541511e+08"
      ]
     },
     "execution_count": 670,
     "metadata": {},
     "output_type": "execute_result"
    }
   ],
   "source": [
    "chiSquareTemp=pd.DataFrame(BRFSS2016,columns=['sleeptime','_BMI5CAT','_LLCPWT'])\n",
    "#Calculate Variable Groups\n",
    "BMIWeightCats=[]\n",
    "for i in BRFSS2016._BMI5CAT:\n",
    "    if i<3:\n",
    "        BMIWeightCats.append(0)\n",
    "    elif i>2:\n",
    "        BMIWeightCats.append(1)\n",
    "    else:\n",
    "        BMIWeightCats.append(9)\n",
    "chiSquareTemp['BMIWeightCats']=BMIWeightCats \n",
    "chiSquareTemp.drop(['_BMI5CAT'],axis=1,inplace=True)\n",
    "    \n",
    "chiSquareTemp=sklearn.metrics.confusion_matrix(chiSquareTemp['BMIWeightCats'], chiSquareTemp['sleeptime'], labels=None, sample_weight=chiSquareTemp['_LLCPWT'])\n",
    "\n",
    "#Add Values to DataFrame\n",
    "firstCol=pd.DataFrame(chiSquareTemp[0].T,columns=['first'])\n",
    "secondCol=pd.DataFrame(chiSquareTemp[1].T,columns=['second']) #For whatever reason these values got switched\n",
    "thirdCol=pd.DataFrame(chiSquareTemp[2],columns=['third'])\n",
    "#Setup totals\n",
    "chiSquareTemp=firstCol\n",
    "chiSquareTemp['second']=secondCol\n",
    "chiSquareTemp['third']=thirdCol\n",
    "chiSquareTemp['fourth']=chiSquareTemp['first']+chiSquareTemp['second']+chiSquareTemp['third']\n",
    "#Create Totals Rows\n",
    "last=np.array(chiSquareTemp.sum())\n",
    "chiSquareTemp.loc[len(chiSquareTemp)]=last\n",
    "#Rename Indexes \n",
    "chiSquareTemp.rename(index={0: 'Fewer than 7 hrs',1: '7 or more hrs',2:'Missing/Refused',3:'Total'},inplace=True)\n",
    "#Rename Columns\n",
    "chiSquareTemp.rename(columns={'first':'Not Overweight', 'second':'Overweight', 'third':'Missing/Refused','fourth':'Total'}, inplace=True)\n",
    "chiSquareTemp"
   ]
  },
  {
   "cell_type": "code",
   "execution_count": 671,
   "metadata": {},
   "outputs": [],
   "source": [
    "chiSquareTemp_new=chiSquareTemp[['Overweight','Not Overweight','Missing/Refused','Total']]\n",
    "chiSquareTemp=chiSquareTemp_new"
   ]
  },
  {
   "cell_type": "code",
   "execution_count": 672,
   "metadata": {},
   "outputs": [
    {
     "data": {
      "text/html": [
       "<div>\n",
       "<style>\n",
       "    .dataframe thead tr:only-child th {\n",
       "        text-align: right;\n",
       "    }\n",
       "\n",
       "    .dataframe thead th {\n",
       "        text-align: left;\n",
       "    }\n",
       "\n",
       "    .dataframe tbody tr th {\n",
       "        vertical-align: top;\n",
       "    }\n",
       "</style>\n",
       "<table border=\"1\" class=\"dataframe\">\n",
       "  <thead>\n",
       "    <tr style=\"text-align: right;\">\n",
       "      <th></th>\n",
       "      <th>Case: Overweight</th>\n",
       "      <th>Control: Not Overweight</th>\n",
       "    </tr>\n",
       "  </thead>\n",
       "  <tbody>\n",
       "    <tr>\n",
       "      <th>Exposed: &lt;7 hrs</th>\n",
       "      <td>5.437276e+07</td>\n",
       "      <td>2.553090e+07</td>\n",
       "    </tr>\n",
       "    <tr>\n",
       "      <th>Unexposed: 7+ hrs</th>\n",
       "      <td>9.420024e+07</td>\n",
       "      <td>5.507648e+07</td>\n",
       "    </tr>\n",
       "  </tbody>\n",
       "</table>\n",
       "</div>"
      ],
      "text/plain": [
       "                   Case: Overweight  Control: Not Overweight\n",
       "Exposed: <7 hrs        5.437276e+07             2.553090e+07\n",
       "Unexposed: 7+ hrs      9.420024e+07             5.507648e+07"
      ]
     },
     "execution_count": 672,
     "metadata": {},
     "output_type": "execute_result"
    }
   ],
   "source": [
    "import numpy as np\n",
    "import pandas as pd\n",
    "import statsmodels.api as sm\n",
    "import scipy.stats as scipy\n",
    "from scipy.stats import chi2_contingency,chisqprob,chi2\n",
    "import scipy, scipy.stats\n",
    "\n",
    "#observed\n",
    "a,b,c,d=chiSquareTemp.iloc[0,0],chiSquareTemp.iloc[0,1],chiSquareTemp.iloc[1,0],chiSquareTemp.iloc[1,1]\n",
    "#Totals\n",
    "col1Sum,col2Sum,row1Sum,row2Sum,totalSum=np.sum(a+c),np.sum(b+d),np.sum(a+b),np.sum(c+d),np.sum(col1sum+col2sum)\n",
    "\n",
    "   #row total               column total\n",
    "e=(col1Sum*row1Sum)/totalSum #a expected\n",
    "f=(col2Sum*row1Sum)/totalSum #b expected\n",
    "\n",
    "g=(col1Sum*row2Sum)/totalSum #c expected\n",
    "h=(col2Sum*row2Sum)/totalSum #d expected\n",
    "#Modify table labels\n",
    "obs=pd.DataFrame([[a,b],[c,d]])\n",
    "obs.rename(columns={0:'Case: Overweight', 1:'Control: Not Overweight'}, inplace=True)\n",
    "obs.rename(index={0: 'Exposed: <7 hrs',1: 'Unexposed: 7+ hrs'},inplace=True)\n",
    "obs"
   ]
  },
  {
   "cell_type": "code",
   "execution_count": 673,
   "metadata": {},
   "outputs": [
    {
     "data": {
      "text/html": [
       "<div>\n",
       "<style>\n",
       "    .dataframe thead tr:only-child th {\n",
       "        text-align: right;\n",
       "    }\n",
       "\n",
       "    .dataframe thead th {\n",
       "        text-align: left;\n",
       "    }\n",
       "\n",
       "    .dataframe tbody tr th {\n",
       "        vertical-align: top;\n",
       "    }\n",
       "</style>\n",
       "<table border=\"1\" class=\"dataframe\">\n",
       "  <thead>\n",
       "    <tr style=\"text-align: right;\">\n",
       "      <th></th>\n",
       "      <th>Value</th>\n",
       "      <th>DF</th>\n",
       "      <th>Prob</th>\n",
       "    </tr>\n",
       "  </thead>\n",
       "  <tbody>\n",
       "    <tr>\n",
       "      <th>Chi-Square</th>\n",
       "      <td>557805.168163</td>\n",
       "      <td>1</td>\n",
       "      <td>0</td>\n",
       "    </tr>\n",
       "    <tr>\n",
       "      <th>Likelihood Ratio Chi2</th>\n",
       "      <td>561880.402567</td>\n",
       "      <td>1</td>\n",
       "      <td>0</td>\n",
       "    </tr>\n",
       "    <tr>\n",
       "      <th>Phi Coefficient</th>\n",
       "      <td>0.049335</td>\n",
       "      <td></td>\n",
       "      <td></td>\n",
       "    </tr>\n",
       "  </tbody>\n",
       "</table>\n",
       "</div>"
      ],
      "text/plain": [
       "                               Value DF Prob\n",
       "Chi-Square             557805.168163  1    0\n",
       "Likelihood Ratio Chi2  561880.402567  1    0\n",
       "Phi Coefficient             0.049335        "
      ]
     },
     "execution_count": 673,
     "metadata": {},
     "output_type": "execute_result"
    }
   ],
   "source": [
    "#Get Chi2 and LR for table\n",
    "chi2, pvalue1, dof1, expected1 = chi2_contingency(obs,correction=True)\n",
    "LR, pvalue2, dof2, expected2 = chi2_contingency(obs, lambda_=\"log-likelihood\")\n",
    "#calculated phi for table\n",
    "phi=(a*d-b*c)/np.sqrt((a+b)*(c+d)*(a+c)*(b+d))\n",
    "phiTable=list([phi,'',''])\n",
    "estimates=pd.DataFrame([[chi2,dof1,pvalue1],[LR,dof2,pvalue2],phiTable],columns=['Value','DF','Prob'])\n",
    "#Rename Indexes \n",
    "estimates.rename(index={0: 'Chi-Square',1: 'Likelihood Ratio Chi2',2:'Phi Coefficient'},inplace=True)\n",
    "estimates"
   ]
  },
  {
   "cell_type": "code",
   "execution_count": 674,
   "metadata": {},
   "outputs": [
    {
     "name": "stdout",
     "output_type": "stream",
     "text": [
      "               Estimate   SE   LCB   UCB  p-value\n",
      "-------------------------------------------------\n",
      "Odds ratio        1.245       1.244 1.246   0.000\n",
      "Log odds ratio    0.219 0.000 0.219 0.220   0.000\n",
      "Risk ratio        1.155       0.219 0.220   0.000\n",
      "Log risk ratio    0.144 0.000 0.144 0.145   0.000\n",
      "-------------------------------------------------\n"
     ]
    }
   ],
   "source": [
    "table = np.asarray(obs)\n",
    "results = sm.stats.Table2x2(table.T)\n",
    "print(results.summary())"
   ]
  },
  {
   "cell_type": "markdown",
   "metadata": {},
   "source": [
    "**Explanation:** *We can see there seems to be an association with being overweight or obese and inadequate sleep; where respondants whom reported being overweight or obese are 1.2 times more likely to have reported having inadequate sleep.*"
   ]
  },
  {
   "cell_type": "markdown",
   "metadata": {},
   "source": [
    "Modeling\n",
    "======"
   ]
  },
  {
   "cell_type": "code",
   "execution_count": null,
   "metadata": {
    "collapsed": true
   },
   "outputs": [],
   "source": []
  },
  {
   "cell_type": "markdown",
   "metadata": {
    "collapsed": true
   },
   "source": [
    "Interpretation\n",
    "============================"
   ]
  },
  {
   "cell_type": "markdown",
   "metadata": {
    "collapsed": true
   },
   "source": [
    "Conclusion\n",
    "============="
   ]
  },
  {
   "cell_type": "markdown",
   "metadata": {
    "collapsed": true
   },
   "source": [
    "*Addendum*\n",
    "========="
   ]
  },
  {
   "cell_type": "code",
   "execution_count": null,
   "metadata": {
    "collapsed": true
   },
   "outputs": [],
   "source": []
  },
  {
   "cell_type": "code",
   "execution_count": null,
   "metadata": {
    "collapsed": true
   },
   "outputs": [],
   "source": []
  },
  {
   "cell_type": "code",
   "execution_count": null,
   "metadata": {
    "collapsed": true
   },
   "outputs": [],
   "source": []
  }
 ],
 "metadata": {
  "kernelspec": {
   "display_name": "Python 3",
   "language": "python",
   "name": "python3"
  },
  "language_info": {
   "codemirror_mode": {
    "name": "ipython",
    "version": 3
   },
   "file_extension": ".py",
   "mimetype": "text/x-python",
   "name": "python",
   "nbconvert_exporter": "python",
   "pygments_lexer": "ipython3",
   "version": "3.6.3"
  }
 },
 "nbformat": 4,
 "nbformat_minor": 2
}
